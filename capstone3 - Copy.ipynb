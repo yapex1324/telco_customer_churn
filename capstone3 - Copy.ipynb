{
 "cells": [
  {
   "cell_type": "code",
   "execution_count": 1,
   "metadata": {},
   "outputs": [],
   "source": [
    "import warnings\n",
    "warnings.filterwarnings('ignore')\n",
    "\n",
    "#   data manipulation\n",
    "import pandas as pd\n",
    "import numpy as np\n",
    "\n",
    "#   data prepocessing\n",
    "from sklearn.preprocessing import OneHotEncoder, KBinsDiscretizer, RobustScaler, MinMaxScaler, StandardScaler, PolynomialFeatures\n",
    "from sklearn.compose import ColumnTransformer\n",
    "import category_encoders as ce\n",
    "\n",
    "from category_encoders import BinaryEncoder\n",
    "\n",
    "#   model\n",
    "from sklearn.linear_model import LogisticRegression\n",
    "from sklearn.tree import DecisionTreeClassifier\n",
    "from sklearn.neighbors import KNeighborsClassifier\n",
    "from sklearn.svm import SVC\n",
    "\n",
    "#   ensemble\n",
    "from sklearn.ensemble import VotingClassifier, StackingClassifier, RandomForestClassifier, BaggingClassifier\n",
    "from sklearn.ensemble import GradientBoostingClassifier, AdaBoostClassifier\n",
    "from xgboost.sklearn import XGBClassifier\n",
    "from lightgbm.sklearn import LGBMClassifier\n",
    "from catboost import CatBoostClassifier\n",
    "\n",
    "#   model selection\n",
    "from sklearn.model_selection import train_test_split, GridSearchCV, RandomizedSearchCV, cross_validate, StratifiedKFold\n",
    "\n",
    "#   pipeline\n",
    "from sklearn.pipeline import Pipeline\n",
    "from imblearn.pipeline import Pipeline as imb_pipeline\n",
    "\n",
    "#   metric\n",
    "from sklearn.metrics import classification_report, make_scorer, f1_score, precision_score, recall_score, fbeta_score, roc_auc_score, confusion_matrix, accuracy_score\n",
    "from imblearn.metrics import classification_report_imbalanced\n",
    "\n",
    "#   visualisation\n",
    "import seaborn as sns\n",
    "import matplotlib.pyplot as plt\n",
    "\n",
    "#   balancing\n",
    "from imblearn.over_sampling import SMOTE, RandomOverSampler, SMOTEN, ADASYN, SMOTENC\n",
    "from imblearn.under_sampling import RandomUnderSampler, CondensedNearestNeighbour\n",
    "from imblearn.combine import SMOTEENN, SMOTETomek\n",
    "\n",
    "#   cek multicolinearity\n",
    "from statsmodels.stats.outliers_influence import variance_inflation_factor"
   ]
  },
  {
   "cell_type": "markdown",
   "metadata": {},
   "source": [
    "**Context :**\n",
    "\n",
    "Perusahaan telekomunikasi merupakan salah satu industri yang paling penting di dunia. Terutama pada era digital yang semakin maju, persaingan di industri telekomunikasi seluler semakin ketat. Salah satu tantangan yang dihadapi provider adalah mempertahankan pelanggan agar tidak beralih ke provider lain. Dikutip dari B2B NPS dan CX Benchmarks CustomerGauge, industri telekomunikasi memiliki tingkat retensi rata-rata sekitar 69%. Meskipun angka ini belum termasuk yang paling rendah (tingkat retensi di industri grosir hanya sekitar 44%), masih ada kesempatan untuk meningkatkan performa dalam hal mempertahankan pelanggan [(sumber)](https://customergauge.com/blog/reducing-customer-churn-in-telecommunications#5%20Reasons%20Why%20Churn%20in%20Telecoms%20Is%20So%20High3). \n",
    "\n",
    "Sebagai seorang data science, kita diminta untuk membuat model prediksi menggunakan machine learning untuk mengetahui apakah pelanggan akan beralih atau tidak. Perusahaan telekomunikasi dapat memanfaatkan teknologi [machine learning](https://neptune.ai/blog/how-to-implement-customer-churn-prediction#:~:text=Predicting%20churn%20is%20a%20good,to%20identify%20and%20predict%20churn.) ini untuk mengenali pelanggan yang mungkin memutuskan langganan. Dengan demikian, upaya retensi dapat diarahkan secara lebih tepat kepada pelanggan-pelanggan tersebut.\n",
    "\n",
    "Target :\n",
    "\n",
    "0 : berlangganan\n",
    "\n",
    "1 : Berhenti berlangganan (churn)\n",
    "\n",
    "**Problem Statement  :**\n",
    "\n",
    "Perusahaan telekomunikasi yang memiliki persentase churn yang tinggi berisiko mengalami kegagalan. Oleh karena itu, perlu dilakukan upaya untuk mengurangi persentase churn tersebut. Perusahaan umumnya lebih memilih untuk mempertahankan pelanggan, karena biaya yang dibutuhkan untuk mempertahankan pelanggan lebih rendah daripada biaya untuk memperoleh pelanggan baru. Berdasarkan [penelitian](https://www.outboundengine.com/blog/customer-retention-marketing-vs-customer-acquisition-marketing/), biaya untuk memperoleh pelanggan baru dapat lima kali lebih tinggi daripada biaya untuk mempertahankan pelanggan yang sudah ada. Biaya customer acquisition cost untuk industri telekomunikasi rata-rata adalah sekitar $315 [(sumber)](https://www.revechat.com/blog/customer-acquisition-cost/) per new customer.\n",
    "\n",
    "Untuk mempertahankan pelanggan, perusahaan telekomunikasi dapat memberikan insentif retensi seperti potongan harga, paket layanan yang menarik, prioritas pelayanan, dan lain-lain. Namun, kebijakan pemberian insentif retensi belum sepenuhnya efektif. Hal ini dikarenakan insentif retensi yang diberikan secara merata kepada seluruh pelanggan akan menjadi tidak efektif dan mengurangi potensi keuntungan, terutama jika pelanggan tersebut memang loyal dan tidak ingin berhenti berlangganan.\n",
    "\n",
    "**Goals :**\n",
    "\n",
    "Oleh karena itu, perusahaan telekomunikasi ingin memiliki kemampuan untuk memprediksi kemungkinan pelanggan akan berhenti berlangganan. Perusahaan juga ingin mengetahui faktor-faktor yang menyebabkan pelanggan berhenti berlangganan. Dengan mengetahui faktor-faktor tersebut, perusahaan dapat melakukan tindakan untuk mencegah pelanggan berhenti berlangganan.\n",
    "\n",
    "**Metric Evaluation :**\n",
    "\n",
    "Target utama kami adalah untuk mengidentifikasi pelanggan yang akan berhenti berlangganan. Oleh karena itu, kami menetapkan target sebagai berikut:\n",
    "\n",
    "Target :\n",
    "\n",
    "0: Pelanggan yang tidak akan berhenti berlangganan\n",
    "1: Pelanggan yang akan berhenti berlangganan (churn)\n",
    "\n",
    "**Kesalahan Tipe 1 (False Positive)**: Pelanggan yang aktualnya tidak akan berhenti berlangganan tetapi diprediksi akan berhenti berlangganan. Konsekuensinya adalah pemberian insentif retensi yang tidak efektif.\n",
    "\n",
    "**Kesalahan Tipe 2 (False Negative)**: Pelanggan yang aktualnya akan berhenti berlangganan tetapi diprediksi tidak akan berhenti berlangganan. Konsekuensinya adalah kehilangan pelanggan.\n",
    "\n",
    "Untuk memberikan gambaran yang lebih jelas tentang konsekuensinya, kita akan mencoba menghitung dampak biayanya dengan menggunakan asumsi-asumsi berikut:\n",
    "1. CLTV for churn customer = 1 / churn rate, sedangkan churn rate untuk industri telekomunikasi berada di range [20% - 40%](https://www.mdpi.com/2076-3417/11/11/4742#B1-applsci-11-04742), jadi CLTV untuk pelanggan yang churn sekitar 1/20% atau 5 bulan\n",
    "2. Customer Acquisition Cost (CAC) = [315$](https://www.revechat.com/blog/customer-acquisition-cost/) / 5 = $63 perbulan untuk tiap customernya\n",
    "3. Customer Retention Cost (CRC) = [1/5](https://www.outboundengine.com/blog/customer-retention-marketing-vs-customer-acquisition-marketing/) * CAC = 1/5 * $63 --> $12.6 perbulan untuk tiap customernya\n",
    "4. Average Customer MonthlyCharge = $64.88 per bulan untuk tiap customernya (diambil dari statistik deskriptif dataset)\n",
    "\n",
    "\n",
    "Dengan mengambil asumsi diatas sebagai dasar, kita dapat mencoba mengukur konsekuensinya seperti berikut:\n",
    "1. Pemberian insentif retensi yang tidak efektif dapat mengakibatkan pemborosan biaya CRC sebesar $12.6 perbulan untuk tiap customer\n",
    "2. Ketika pelanggan pergi, itu berarti pendapatan turun dan kita harus mengeluarkan biaya lagi untuk akuisisi pelanggan baru, sehingga secara keseluruhan kita mengalami kerugian sebesar $63 + $64.88 = $127.88\n",
    "\n",
    "Berdasarkan pertimbangan konsekuensinya, maka kita akan berusaha untuk membuat model yang dapat mengurangi jumlah pelanggan yang beralih dari perusahaan tersebut, khususnya pelanggan yang sebenarnya akan beralih tetapi diprediksi tidak akan beralih (False Negative). Selain itu, model tersebut juga harus dapat meminimalisir pemberian insentif yang tidak tepat. Oleh karena itu, metric utama yang akan kita gunakan adalah f2_score, karena kita menganggap recall dua kali lebih penting daripada precision."
   ]
  },
  {
   "cell_type": "code",
   "execution_count": 2,
   "metadata": {},
   "outputs": [],
   "source": [
    "#   membuat f2 score\n",
    "f2 = make_scorer(fbeta_score, beta=2)"
   ]
  },
  {
   "cell_type": "markdown",
   "metadata": {},
   "source": [
    "# 1. Data Understanding"
   ]
  },
  {
   "cell_type": "markdown",
   "metadata": {},
   "source": [
    "Langkah pertama yang akan kita lakukan adalah mempelajari dataset yang tersedia. Data tersebut dapat diakses [disini](https://drive.google.com/file/d/1oB5uKtJr7dWcWr9Ld5ZFAuVkpV005ceH/view)."
   ]
  },
  {
   "cell_type": "code",
   "execution_count": 3,
   "metadata": {},
   "outputs": [
    {
     "data": {
      "text/html": [
       "<div>\n",
       "<style scoped>\n",
       "    .dataframe tbody tr th:only-of-type {\n",
       "        vertical-align: middle;\n",
       "    }\n",
       "\n",
       "    .dataframe tbody tr th {\n",
       "        vertical-align: top;\n",
       "    }\n",
       "\n",
       "    .dataframe thead th {\n",
       "        text-align: right;\n",
       "    }\n",
       "</style>\n",
       "<table border=\"1\" class=\"dataframe\">\n",
       "  <thead>\n",
       "    <tr style=\"text-align: right;\">\n",
       "      <th></th>\n",
       "      <th>Dependents</th>\n",
       "      <th>tenure</th>\n",
       "      <th>OnlineSecurity</th>\n",
       "      <th>OnlineBackup</th>\n",
       "      <th>InternetService</th>\n",
       "      <th>DeviceProtection</th>\n",
       "      <th>TechSupport</th>\n",
       "      <th>Contract</th>\n",
       "      <th>PaperlessBilling</th>\n",
       "      <th>MonthlyCharges</th>\n",
       "      <th>Churn</th>\n",
       "    </tr>\n",
       "  </thead>\n",
       "  <tbody>\n",
       "    <tr>\n",
       "      <th>0</th>\n",
       "      <td>Yes</td>\n",
       "      <td>9</td>\n",
       "      <td>No</td>\n",
       "      <td>No</td>\n",
       "      <td>DSL</td>\n",
       "      <td>Yes</td>\n",
       "      <td>Yes</td>\n",
       "      <td>Month-to-month</td>\n",
       "      <td>Yes</td>\n",
       "      <td>72.90</td>\n",
       "      <td>Yes</td>\n",
       "    </tr>\n",
       "    <tr>\n",
       "      <th>1</th>\n",
       "      <td>No</td>\n",
       "      <td>14</td>\n",
       "      <td>No</td>\n",
       "      <td>Yes</td>\n",
       "      <td>Fiber optic</td>\n",
       "      <td>Yes</td>\n",
       "      <td>No</td>\n",
       "      <td>Month-to-month</td>\n",
       "      <td>Yes</td>\n",
       "      <td>82.65</td>\n",
       "      <td>No</td>\n",
       "    </tr>\n",
       "    <tr>\n",
       "      <th>2</th>\n",
       "      <td>No</td>\n",
       "      <td>64</td>\n",
       "      <td>Yes</td>\n",
       "      <td>No</td>\n",
       "      <td>DSL</td>\n",
       "      <td>Yes</td>\n",
       "      <td>Yes</td>\n",
       "      <td>Two year</td>\n",
       "      <td>No</td>\n",
       "      <td>47.85</td>\n",
       "      <td>Yes</td>\n",
       "    </tr>\n",
       "    <tr>\n",
       "      <th>3</th>\n",
       "      <td>No</td>\n",
       "      <td>72</td>\n",
       "      <td>Yes</td>\n",
       "      <td>Yes</td>\n",
       "      <td>DSL</td>\n",
       "      <td>Yes</td>\n",
       "      <td>Yes</td>\n",
       "      <td>Two year</td>\n",
       "      <td>No</td>\n",
       "      <td>69.65</td>\n",
       "      <td>No</td>\n",
       "    </tr>\n",
       "    <tr>\n",
       "      <th>4</th>\n",
       "      <td>No</td>\n",
       "      <td>3</td>\n",
       "      <td>No internet service</td>\n",
       "      <td>No internet service</td>\n",
       "      <td>No</td>\n",
       "      <td>No internet service</td>\n",
       "      <td>No internet service</td>\n",
       "      <td>Month-to-month</td>\n",
       "      <td>Yes</td>\n",
       "      <td>23.60</td>\n",
       "      <td>No</td>\n",
       "    </tr>\n",
       "  </tbody>\n",
       "</table>\n",
       "</div>"
      ],
      "text/plain": [
       "  Dependents  tenure       OnlineSecurity         OnlineBackup  \\\n",
       "0        Yes       9                   No                   No   \n",
       "1         No      14                   No                  Yes   \n",
       "2         No      64                  Yes                   No   \n",
       "3         No      72                  Yes                  Yes   \n",
       "4         No       3  No internet service  No internet service   \n",
       "\n",
       "  InternetService     DeviceProtection          TechSupport        Contract  \\\n",
       "0             DSL                  Yes                  Yes  Month-to-month   \n",
       "1     Fiber optic                  Yes                   No  Month-to-month   \n",
       "2             DSL                  Yes                  Yes        Two year   \n",
       "3             DSL                  Yes                  Yes        Two year   \n",
       "4              No  No internet service  No internet service  Month-to-month   \n",
       "\n",
       "  PaperlessBilling  MonthlyCharges Churn  \n",
       "0              Yes           72.90   Yes  \n",
       "1              Yes           82.65    No  \n",
       "2               No           47.85   Yes  \n",
       "3               No           69.65    No  \n",
       "4              Yes           23.60    No  "
      ]
     },
     "execution_count": 3,
     "metadata": {},
     "output_type": "execute_result"
    }
   ],
   "source": [
    "dfa = pd.read_csv(r\"C:\\Users\\moh_y\\python_project\\bootcamp\\modul_3\\capstone\\data_telco_customer_churn.csv\")\n",
    "dfa.head()"
   ]
  },
  {
   "cell_type": "code",
   "execution_count": 4,
   "metadata": {},
   "outputs": [
    {
     "data": {
      "text/html": [
       "<div>\n",
       "<style scoped>\n",
       "    .dataframe tbody tr th:only-of-type {\n",
       "        vertical-align: middle;\n",
       "    }\n",
       "\n",
       "    .dataframe tbody tr th {\n",
       "        vertical-align: top;\n",
       "    }\n",
       "\n",
       "    .dataframe thead th {\n",
       "        text-align: right;\n",
       "    }\n",
       "</style>\n",
       "<table border=\"1\" class=\"dataframe\">\n",
       "  <thead>\n",
       "    <tr style=\"text-align: right;\">\n",
       "      <th></th>\n",
       "      <th>Column Name</th>\n",
       "      <th>Number of Unique</th>\n",
       "      <th>Unique Sample</th>\n",
       "    </tr>\n",
       "  </thead>\n",
       "  <tbody>\n",
       "    <tr>\n",
       "      <th>0</th>\n",
       "      <td>Dependents</td>\n",
       "      <td>2</td>\n",
       "      <td>[Yes, No]</td>\n",
       "    </tr>\n",
       "    <tr>\n",
       "      <th>1</th>\n",
       "      <td>tenure</td>\n",
       "      <td>73</td>\n",
       "      <td>[9, 14, 64, 72, 3, 40, 17, 11, 8, 47, 18, 5, 1, 48, 13, 58, 7, 4, 70, 34, 31, 37, 15, 71, 10, 43, 22, 33, 69, 54, 63, 55, 66, 56, 32, 26, 24, 2, 51, 23, 49, 28, 36, 45, 42, 6, 61, 59, 67, 65, 0, 16, 52, 41, 25, 62, 20, 50, 30, 60, 19, 35, 57, 27, 44, 53, 12, 46, 39, 29, 38, 68, 21]</td>\n",
       "    </tr>\n",
       "    <tr>\n",
       "      <th>2</th>\n",
       "      <td>OnlineSecurity</td>\n",
       "      <td>3</td>\n",
       "      <td>[No, Yes, No internet service]</td>\n",
       "    </tr>\n",
       "    <tr>\n",
       "      <th>3</th>\n",
       "      <td>OnlineBackup</td>\n",
       "      <td>3</td>\n",
       "      <td>[No, Yes, No internet service]</td>\n",
       "    </tr>\n",
       "    <tr>\n",
       "      <th>4</th>\n",
       "      <td>InternetService</td>\n",
       "      <td>3</td>\n",
       "      <td>[DSL, Fiber optic, No]</td>\n",
       "    </tr>\n",
       "    <tr>\n",
       "      <th>5</th>\n",
       "      <td>DeviceProtection</td>\n",
       "      <td>3</td>\n",
       "      <td>[Yes, No internet service, No]</td>\n",
       "    </tr>\n",
       "    <tr>\n",
       "      <th>6</th>\n",
       "      <td>TechSupport</td>\n",
       "      <td>3</td>\n",
       "      <td>[Yes, No, No internet service]</td>\n",
       "    </tr>\n",
       "    <tr>\n",
       "      <th>7</th>\n",
       "      <td>Contract</td>\n",
       "      <td>3</td>\n",
       "      <td>[Month-to-month, Two year, One year]</td>\n",
       "    </tr>\n",
       "    <tr>\n",
       "      <th>8</th>\n",
       "      <td>PaperlessBilling</td>\n",
       "      <td>2</td>\n",
       "      <td>[Yes, No]</td>\n",
       "    </tr>\n",
       "    <tr>\n",
       "      <th>9</th>\n",
       "      <td>MonthlyCharges</td>\n",
       "      <td>1422</td>\n",
       "      <td>[72.9, 82.65, 47.85, 69.65, 23.6, 74.55, 19.7, 44.05, 73.5, 40.3, 33.6, 96.25, 70.45, 30.55, 44.8, 20.0, 81.5, 94.35, 35.3, 50.7, 106.05, 56.3, 20.65, 98.9, 40.2, 81.2, 19.45, 116.1, 55.2, 94.45, 84.85, 19.6, 79.0, 74.7, 30.4, 55.8, 104.5, 70.55, 55.25, 96.65, 88.85, 109.25, 104.75, 74.4, 79.4, 74.1, 73.05, 94.6, 70.35, 79.6, 79.5, 90.7, 81.0, 87.75, 118.65, 24.8, 105.25, 57.8, 19.0, 25.7, 54.2, 44.85, 19.95, 81.05, 20.35, 85.25, 67.45, 100.3, 20.95, 105.2, 26.35, 82.15, 102.6, 106.15, 23.95, 115.8, 66.85, 90.35, 89.85, 73.35, 104.45, 35.45, 88.4, 70.5, 25.1, 39.0, 83.25, 74.3, 54.3, 50.45, 86.0, 19.55, 103.5, 91.7, 64.85, 99.65, 68.75, 106.25, 75.9, 94.4, ...]</td>\n",
       "    </tr>\n",
       "    <tr>\n",
       "      <th>10</th>\n",
       "      <td>Churn</td>\n",
       "      <td>2</td>\n",
       "      <td>[Yes, No]</td>\n",
       "    </tr>\n",
       "  </tbody>\n",
       "</table>\n",
       "</div>"
      ],
      "text/plain": [
       "         Column Name  Number of Unique  \\\n",
       "0         Dependents                 2   \n",
       "1             tenure                73   \n",
       "2     OnlineSecurity                 3   \n",
       "3       OnlineBackup                 3   \n",
       "4    InternetService                 3   \n",
       "5   DeviceProtection                 3   \n",
       "6        TechSupport                 3   \n",
       "7           Contract                 3   \n",
       "8   PaperlessBilling                 2   \n",
       "9     MonthlyCharges              1422   \n",
       "10             Churn                 2   \n",
       "\n",
       "                                                                                                                                                                                                                                                                                                                                                                                                                                                                                                                                                                                                                                                                                    Unique Sample  \n",
       "0                                                                                                                                                                                                                                                                                                                                                                                                                                                                                                                                                                                                                                                                                       [Yes, No]  \n",
       "1                                                                                                                                                                                                                                                                                                                                                                                                      [9, 14, 64, 72, 3, 40, 17, 11, 8, 47, 18, 5, 1, 48, 13, 58, 7, 4, 70, 34, 31, 37, 15, 71, 10, 43, 22, 33, 69, 54, 63, 55, 66, 56, 32, 26, 24, 2, 51, 23, 49, 28, 36, 45, 42, 6, 61, 59, 67, 65, 0, 16, 52, 41, 25, 62, 20, 50, 30, 60, 19, 35, 57, 27, 44, 53, 12, 46, 39, 29, 38, 68, 21]  \n",
       "2                                                                                                                                                                                                                                                                                                                                                                                                                                                                                                                                                                                                                                                                  [No, Yes, No internet service]  \n",
       "3                                                                                                                                                                                                                                                                                                                                                                                                                                                                                                                                                                                                                                                                  [No, Yes, No internet service]  \n",
       "4                                                                                                                                                                                                                                                                                                                                                                                                                                                                                                                                                                                                                                                                          [DSL, Fiber optic, No]  \n",
       "5                                                                                                                                                                                                                                                                                                                                                                                                                                                                                                                                                                                                                                                                  [Yes, No internet service, No]  \n",
       "6                                                                                                                                                                                                                                                                                                                                                                                                                                                                                                                                                                                                                                                                  [Yes, No, No internet service]  \n",
       "7                                                                                                                                                                                                                                                                                                                                                                                                                                                                                                                                                                                                                                                            [Month-to-month, Two year, One year]  \n",
       "8                                                                                                                                                                                                                                                                                                                                                                                                                                                                                                                                                                                                                                                                                       [Yes, No]  \n",
       "9   [72.9, 82.65, 47.85, 69.65, 23.6, 74.55, 19.7, 44.05, 73.5, 40.3, 33.6, 96.25, 70.45, 30.55, 44.8, 20.0, 81.5, 94.35, 35.3, 50.7, 106.05, 56.3, 20.65, 98.9, 40.2, 81.2, 19.45, 116.1, 55.2, 94.45, 84.85, 19.6, 79.0, 74.7, 30.4, 55.8, 104.5, 70.55, 55.25, 96.65, 88.85, 109.25, 104.75, 74.4, 79.4, 74.1, 73.05, 94.6, 70.35, 79.6, 79.5, 90.7, 81.0, 87.75, 118.65, 24.8, 105.25, 57.8, 19.0, 25.7, 54.2, 44.85, 19.95, 81.05, 20.35, 85.25, 67.45, 100.3, 20.95, 105.2, 26.35, 82.15, 102.6, 106.15, 23.95, 115.8, 66.85, 90.35, 89.85, 73.35, 104.45, 35.45, 88.4, 70.5, 25.1, 39.0, 83.25, 74.3, 54.3, 50.45, 86.0, 19.55, 103.5, 91.7, 64.85, 99.65, 68.75, 106.25, 75.9, 94.4, ...]  \n",
       "10                                                                                                                                                                                                                                                                                                                                                                                                                                                                                                                                                                                                                                                                                      [Yes, No]  "
      ]
     },
     "execution_count": 4,
     "metadata": {},
     "output_type": "execute_result"
    }
   ],
   "source": [
    "#   menampilkan nilai dan value unique yang ada pada setiap kolomnya\n",
    "\n",
    "pd.set_option('display.max_colwidth', None)\n",
    "listItem = []\n",
    "for col in dfa.columns :\n",
    "    listItem.append( [col, dfa[col].nunique(), dfa[col].unique()])\n",
    "\n",
    "tabel1Desc = pd.DataFrame(columns=['Column Name', 'Number of Unique', 'Unique Sample'],\n",
    "                     data=listItem)\n",
    "tabel1Desc"
   ]
  },
  {
   "cell_type": "code",
   "execution_count": 5,
   "metadata": {},
   "outputs": [
    {
     "data": {
      "text/html": [
       "<div>\n",
       "<style scoped>\n",
       "    .dataframe tbody tr th:only-of-type {\n",
       "        vertical-align: middle;\n",
       "    }\n",
       "\n",
       "    .dataframe tbody tr th {\n",
       "        vertical-align: top;\n",
       "    }\n",
       "\n",
       "    .dataframe thead th {\n",
       "        text-align: right;\n",
       "    }\n",
       "</style>\n",
       "<table border=\"1\" class=\"dataframe\">\n",
       "  <thead>\n",
       "    <tr style=\"text-align: right;\">\n",
       "      <th></th>\n",
       "      <th>Dependents</th>\n",
       "      <th>tenure</th>\n",
       "      <th>OnlineSecurity</th>\n",
       "      <th>OnlineBackup</th>\n",
       "      <th>InternetService</th>\n",
       "      <th>DeviceProtection</th>\n",
       "      <th>TechSupport</th>\n",
       "      <th>Contract</th>\n",
       "      <th>PaperlessBilling</th>\n",
       "      <th>MonthlyCharges</th>\n",
       "      <th>Churn</th>\n",
       "    </tr>\n",
       "  </thead>\n",
       "  <tbody>\n",
       "    <tr>\n",
       "      <th>count</th>\n",
       "      <td>4930</td>\n",
       "      <td>4930.000000</td>\n",
       "      <td>4930</td>\n",
       "      <td>4930</td>\n",
       "      <td>4930</td>\n",
       "      <td>4930</td>\n",
       "      <td>4930</td>\n",
       "      <td>4930</td>\n",
       "      <td>4930</td>\n",
       "      <td>4930.000000</td>\n",
       "      <td>4930</td>\n",
       "    </tr>\n",
       "    <tr>\n",
       "      <th>unique</th>\n",
       "      <td>2</td>\n",
       "      <td>NaN</td>\n",
       "      <td>3</td>\n",
       "      <td>3</td>\n",
       "      <td>3</td>\n",
       "      <td>3</td>\n",
       "      <td>3</td>\n",
       "      <td>3</td>\n",
       "      <td>2</td>\n",
       "      <td>NaN</td>\n",
       "      <td>2</td>\n",
       "    </tr>\n",
       "    <tr>\n",
       "      <th>top</th>\n",
       "      <td>No</td>\n",
       "      <td>NaN</td>\n",
       "      <td>No</td>\n",
       "      <td>No</td>\n",
       "      <td>Fiber optic</td>\n",
       "      <td>No</td>\n",
       "      <td>No</td>\n",
       "      <td>Month-to-month</td>\n",
       "      <td>Yes</td>\n",
       "      <td>NaN</td>\n",
       "      <td>No</td>\n",
       "    </tr>\n",
       "    <tr>\n",
       "      <th>freq</th>\n",
       "      <td>3446</td>\n",
       "      <td>NaN</td>\n",
       "      <td>2445</td>\n",
       "      <td>2172</td>\n",
       "      <td>2172</td>\n",
       "      <td>2186</td>\n",
       "      <td>2467</td>\n",
       "      <td>2721</td>\n",
       "      <td>2957</td>\n",
       "      <td>NaN</td>\n",
       "      <td>3614</td>\n",
       "    </tr>\n",
       "    <tr>\n",
       "      <th>mean</th>\n",
       "      <td>NaN</td>\n",
       "      <td>32.401217</td>\n",
       "      <td>NaN</td>\n",
       "      <td>NaN</td>\n",
       "      <td>NaN</td>\n",
       "      <td>NaN</td>\n",
       "      <td>NaN</td>\n",
       "      <td>NaN</td>\n",
       "      <td>NaN</td>\n",
       "      <td>64.883032</td>\n",
       "      <td>NaN</td>\n",
       "    </tr>\n",
       "    <tr>\n",
       "      <th>std</th>\n",
       "      <td>NaN</td>\n",
       "      <td>24.501193</td>\n",
       "      <td>NaN</td>\n",
       "      <td>NaN</td>\n",
       "      <td>NaN</td>\n",
       "      <td>NaN</td>\n",
       "      <td>NaN</td>\n",
       "      <td>NaN</td>\n",
       "      <td>NaN</td>\n",
       "      <td>29.923960</td>\n",
       "      <td>NaN</td>\n",
       "    </tr>\n",
       "    <tr>\n",
       "      <th>min</th>\n",
       "      <td>NaN</td>\n",
       "      <td>0.000000</td>\n",
       "      <td>NaN</td>\n",
       "      <td>NaN</td>\n",
       "      <td>NaN</td>\n",
       "      <td>NaN</td>\n",
       "      <td>NaN</td>\n",
       "      <td>NaN</td>\n",
       "      <td>NaN</td>\n",
       "      <td>18.800000</td>\n",
       "      <td>NaN</td>\n",
       "    </tr>\n",
       "    <tr>\n",
       "      <th>25%</th>\n",
       "      <td>NaN</td>\n",
       "      <td>9.000000</td>\n",
       "      <td>NaN</td>\n",
       "      <td>NaN</td>\n",
       "      <td>NaN</td>\n",
       "      <td>NaN</td>\n",
       "      <td>NaN</td>\n",
       "      <td>NaN</td>\n",
       "      <td>NaN</td>\n",
       "      <td>37.050000</td>\n",
       "      <td>NaN</td>\n",
       "    </tr>\n",
       "    <tr>\n",
       "      <th>50%</th>\n",
       "      <td>NaN</td>\n",
       "      <td>29.000000</td>\n",
       "      <td>NaN</td>\n",
       "      <td>NaN</td>\n",
       "      <td>NaN</td>\n",
       "      <td>NaN</td>\n",
       "      <td>NaN</td>\n",
       "      <td>NaN</td>\n",
       "      <td>NaN</td>\n",
       "      <td>70.350000</td>\n",
       "      <td>NaN</td>\n",
       "    </tr>\n",
       "    <tr>\n",
       "      <th>75%</th>\n",
       "      <td>NaN</td>\n",
       "      <td>55.000000</td>\n",
       "      <td>NaN</td>\n",
       "      <td>NaN</td>\n",
       "      <td>NaN</td>\n",
       "      <td>NaN</td>\n",
       "      <td>NaN</td>\n",
       "      <td>NaN</td>\n",
       "      <td>NaN</td>\n",
       "      <td>89.850000</td>\n",
       "      <td>NaN</td>\n",
       "    </tr>\n",
       "    <tr>\n",
       "      <th>max</th>\n",
       "      <td>NaN</td>\n",
       "      <td>72.000000</td>\n",
       "      <td>NaN</td>\n",
       "      <td>NaN</td>\n",
       "      <td>NaN</td>\n",
       "      <td>NaN</td>\n",
       "      <td>NaN</td>\n",
       "      <td>NaN</td>\n",
       "      <td>NaN</td>\n",
       "      <td>118.650000</td>\n",
       "      <td>NaN</td>\n",
       "    </tr>\n",
       "  </tbody>\n",
       "</table>\n",
       "</div>"
      ],
      "text/plain": [
       "       Dependents       tenure OnlineSecurity OnlineBackup InternetService  \\\n",
       "count        4930  4930.000000           4930         4930            4930   \n",
       "unique          2          NaN              3            3               3   \n",
       "top            No          NaN             No           No     Fiber optic   \n",
       "freq         3446          NaN           2445         2172            2172   \n",
       "mean          NaN    32.401217            NaN          NaN             NaN   \n",
       "std           NaN    24.501193            NaN          NaN             NaN   \n",
       "min           NaN     0.000000            NaN          NaN             NaN   \n",
       "25%           NaN     9.000000            NaN          NaN             NaN   \n",
       "50%           NaN    29.000000            NaN          NaN             NaN   \n",
       "75%           NaN    55.000000            NaN          NaN             NaN   \n",
       "max           NaN    72.000000            NaN          NaN             NaN   \n",
       "\n",
       "       DeviceProtection TechSupport        Contract PaperlessBilling  \\\n",
       "count              4930        4930            4930             4930   \n",
       "unique                3           3               3                2   \n",
       "top                  No          No  Month-to-month              Yes   \n",
       "freq               2186        2467            2721             2957   \n",
       "mean                NaN         NaN             NaN              NaN   \n",
       "std                 NaN         NaN             NaN              NaN   \n",
       "min                 NaN         NaN             NaN              NaN   \n",
       "25%                 NaN         NaN             NaN              NaN   \n",
       "50%                 NaN         NaN             NaN              NaN   \n",
       "75%                 NaN         NaN             NaN              NaN   \n",
       "max                 NaN         NaN             NaN              NaN   \n",
       "\n",
       "        MonthlyCharges Churn  \n",
       "count      4930.000000  4930  \n",
       "unique             NaN     2  \n",
       "top                NaN    No  \n",
       "freq               NaN  3614  \n",
       "mean         64.883032   NaN  \n",
       "std          29.923960   NaN  \n",
       "min          18.800000   NaN  \n",
       "25%          37.050000   NaN  \n",
       "50%          70.350000   NaN  \n",
       "75%          89.850000   NaN  \n",
       "max         118.650000   NaN  "
      ]
     },
     "execution_count": 5,
     "metadata": {},
     "output_type": "execute_result"
    }
   ],
   "source": [
    "#  untuk menampilkan ringkasan statistik dari DataFrame `df`\n",
    "\n",
    "dfa.describe(include='all')"
   ]
  },
  {
   "cell_type": "code",
   "execution_count": 6,
   "metadata": {},
   "outputs": [
    {
     "name": "stdout",
     "output_type": "stream",
     "text": [
      "<class 'pandas.core.frame.DataFrame'>\n",
      "RangeIndex: 4930 entries, 0 to 4929\n",
      "Data columns (total 11 columns):\n",
      " #   Column            Non-Null Count  Dtype  \n",
      "---  ------            --------------  -----  \n",
      " 0   Dependents        4930 non-null   object \n",
      " 1   tenure            4930 non-null   int64  \n",
      " 2   OnlineSecurity    4930 non-null   object \n",
      " 3   OnlineBackup      4930 non-null   object \n",
      " 4   InternetService   4930 non-null   object \n",
      " 5   DeviceProtection  4930 non-null   object \n",
      " 6   TechSupport       4930 non-null   object \n",
      " 7   Contract          4930 non-null   object \n",
      " 8   PaperlessBilling  4930 non-null   object \n",
      " 9   MonthlyCharges    4930 non-null   float64\n",
      " 10  Churn             4930 non-null   object \n",
      "dtypes: float64(1), int64(1), object(9)\n",
      "memory usage: 423.8+ KB\n"
     ]
    }
   ],
   "source": [
    "# Menampilkan informasi ringkas tentang DataFrame. Informasi yang ditampilkan meliputi:\n",
    "\n",
    "# 1. Jumlah baris dan kolomnya\n",
    "# 2. Tipe data setiap kolomnya\n",
    "# 3. Jumlah nilai non-null di setiap kolomnya\n",
    "# 4. Memori yang digunakan untuk menyimpan DataFrame\n",
    "\n",
    "dfa.info()"
   ]
  },
  {
   "cell_type": "markdown",
   "metadata": {},
   "source": [
    "# 2. Data Cleaning dan Analisis"
   ]
  },
  {
   "cell_type": "markdown",
   "metadata": {},
   "source": [
    "Tahap selanjutnya ada menghapus data duplikat. Adanya duplikat dapat menyebabkan bias dalam evaluasi model. Serta Kehadiran duplikat dapat membuat proses [training dan evaluasi](https://www.oreilly.com/library/view/hands-on-machine-learning/9781492032632/) model menjadi kurang efisien."
   ]
  },
  {
   "cell_type": "code",
   "execution_count": 7,
   "metadata": {},
   "outputs": [
    {
     "name": "stdout",
     "output_type": "stream",
     "text": [
      "jumlah nilai duplikat yang ada = 77\n"
     ]
    }
   ],
   "source": [
    "#   menghapus nilai duplicated yang ada\n",
    "\n",
    "print(f\"jumlah nilai duplikat yang ada = {dfa.duplicated().sum()}\")\n",
    "\n",
    "df = dfa.drop_duplicates()"
   ]
  },
  {
   "cell_type": "markdown",
   "metadata": {},
   "source": [
    "Cek Missing Value"
   ]
  },
  {
   "cell_type": "code",
   "execution_count": 8,
   "metadata": {},
   "outputs": [
    {
     "data": {
      "text/plain": [
       "Dependents          0\n",
       "tenure              0\n",
       "OnlineSecurity      0\n",
       "OnlineBackup        0\n",
       "InternetService     0\n",
       "DeviceProtection    0\n",
       "TechSupport         0\n",
       "Contract            0\n",
       "PaperlessBilling    0\n",
       "MonthlyCharges      0\n",
       "Churn               0\n",
       "dtype: int64"
      ]
     },
     "execution_count": 8,
     "metadata": {},
     "output_type": "execute_result"
    }
   ],
   "source": [
    "df.isna().sum()"
   ]
  },
  {
   "cell_type": "markdown",
   "metadata": {},
   "source": [
    "Tidak terdapat Missing Values pada dataset. Sehingga kita tidak perlu menangani missing values."
   ]
  },
  {
   "cell_type": "markdown",
   "metadata": {},
   "source": [
    "Jika kita perhatikan fitur `OnlineSecurity`, `OnlineBackup`, `DeviceProtection`, dan `TechSupport`, kita akan menemukan nilai unik '**No internet service**' selain dari '**Yes**' dan '**No**'. Pada dasarnya, data dengan nilai '**No internet service**' dalam kolom-kolom tersebut memiliki arti yang serupa dengan nilai '**No**'. Hal ini disebabkan karena ketika pelanggan tidak menggunakan layanan `InternetService`, mereka juga tidak menggunakan layanan `OnlineSecurity`, `OnlineBackup`, `DeviceProtection`, dan `TechSupport`, seperti yang dapat dilihat dalam tabel di bawah (tidak ada nilai '**Yes**')."
   ]
  },
  {
   "cell_type": "code",
   "execution_count": 9,
   "metadata": {},
   "outputs": [
    {
     "data": {
      "text/html": [
       "<div>\n",
       "<style scoped>\n",
       "    .dataframe tbody tr th:only-of-type {\n",
       "        vertical-align: middle;\n",
       "    }\n",
       "\n",
       "    .dataframe tbody tr th {\n",
       "        vertical-align: top;\n",
       "    }\n",
       "\n",
       "    .dataframe thead th {\n",
       "        text-align: right;\n",
       "    }\n",
       "</style>\n",
       "<table border=\"1\" class=\"dataframe\">\n",
       "  <thead>\n",
       "    <tr style=\"text-align: right;\">\n",
       "      <th></th>\n",
       "      <th>Column Name</th>\n",
       "      <th>Number of Unique</th>\n",
       "      <th>Unique Values</th>\n",
       "    </tr>\n",
       "  </thead>\n",
       "  <tbody>\n",
       "    <tr>\n",
       "      <th>0</th>\n",
       "      <td>OnlineSecurity</td>\n",
       "      <td>1</td>\n",
       "      <td>[No internet service]</td>\n",
       "    </tr>\n",
       "    <tr>\n",
       "      <th>1</th>\n",
       "      <td>OnlineBackup</td>\n",
       "      <td>1</td>\n",
       "      <td>[No internet service]</td>\n",
       "    </tr>\n",
       "    <tr>\n",
       "      <th>2</th>\n",
       "      <td>InternetService</td>\n",
       "      <td>1</td>\n",
       "      <td>[No]</td>\n",
       "    </tr>\n",
       "    <tr>\n",
       "      <th>3</th>\n",
       "      <td>DeviceProtection</td>\n",
       "      <td>1</td>\n",
       "      <td>[No internet service]</td>\n",
       "    </tr>\n",
       "    <tr>\n",
       "      <th>4</th>\n",
       "      <td>TechSupport</td>\n",
       "      <td>1</td>\n",
       "      <td>[No internet service]</td>\n",
       "    </tr>\n",
       "  </tbody>\n",
       "</table>\n",
       "</div>"
      ],
      "text/plain": [
       "        Column Name  Number of Unique          Unique Values\n",
       "0    OnlineSecurity                 1  [No internet service]\n",
       "1      OnlineBackup                 1  [No internet service]\n",
       "2   InternetService                 1                   [No]\n",
       "3  DeviceProtection                 1  [No internet service]\n",
       "4       TechSupport                 1  [No internet service]"
      ]
     },
     "execution_count": 9,
     "metadata": {},
     "output_type": "execute_result"
    }
   ],
   "source": [
    "# mengecek penggunaan layanan `OnlineSecurity, OnlineBackup, DeviceProtection` dan `TechSupport` ketika 'No' InternetService\n",
    "df_no_internet = df[df['InternetService']=='No']\n",
    "\n",
    "listItem = []\n",
    "for col in df_no_internet.columns[2:7] :\n",
    "    listItem.append( [col, df_no_internet[col].nunique(), df_no_internet.sort_values(col)[col].unique()])\n",
    "\n",
    "tabel1Desc = pd.DataFrame(columns=['Column Name', 'Number of Unique', 'Unique Values'],\n",
    "                     data=listItem)\n",
    "tabel1Desc"
   ]
  },
  {
   "cell_type": "markdown",
   "metadata": {},
   "source": [
    "Oleh karenanya kita dapat ubah nilai '**No internet service**' menjadi '**No**' pada kolom OnlineSecurity, OnlineBackup, DeviceProtection dan TechSupport"
   ]
  },
  {
   "cell_type": "code",
   "execution_count": 10,
   "metadata": {},
   "outputs": [],
   "source": [
    "#   mengubah 'No internet service' menjadi 'No' pada dataframe\n",
    "#   dikarenakan \"No internet service\" sama saja seperti No   \n",
    "\n",
    "df = df.replace('No internet service','No')"
   ]
  },
  {
   "cell_type": "markdown",
   "metadata": {},
   "source": [
    "Mari kita konversi nilai pada kolom Churn dari '**Yes**' dan '**No**' menjadi **1** dan **0** terlebih dahulu. Karena perhatian utama kita tertuju pada pelanggan yang berpindah, maka :\n",
    "\n",
    "Target :\n",
    "\n",
    "0 : Tidak berhenti berlangganan (Churn == 'No')\n",
    "\n",
    "1 : Berhenti berlangganan (Churn == 'Yes')"
   ]
  },
  {
   "cell_type": "code",
   "execution_count": 11,
   "metadata": {},
   "outputs": [],
   "source": [
    "#   mengganti nilai churn yes menjadi 1\n",
    "\n",
    "df['Churn'] = np.where(df['Churn']=='Yes', 1, 0)"
   ]
  },
  {
   "cell_type": "markdown",
   "metadata": {},
   "source": [
    "Dapat kita lihat dari grafik batang dibawah ini. Data yang kita miliki tidak merata (imbalance), karena hanya 27% dari data tersebut termasuk ke dalam kelas minoritas. Untuk mengatasi hal ini, kita akan menerapkan metode resampling untuk membuat distribusi kelas di data kita menjadi lebih merata."
   ]
  },
  {
   "cell_type": "code",
   "execution_count": 12,
   "metadata": {},
   "outputs": [
    {
     "name": "stdout",
     "output_type": "stream",
     "text": [
      "Presentase Churn\n",
      "0    73.0\n",
      "1    27.0\n",
      "Name: count, dtype: float64\n"
     ]
    },
    {
     "data": {
      "image/png": "[encoded data removed]",
      "text/plain": [
       "<Figure size 640x480 with 1 Axes>"
      ]
     },
     "metadata": {},
     "output_type": "display_data"
    }
   ],
   "source": [
    "print(f\"Presentase {(df['Churn'].value_counts() / len(df)).round(2)*100}\")\n",
    "\n",
    "sns.countplot(x=df['Churn'])\n",
    "plt.show()"
   ]
  },
  {
   "cell_type": "markdown",
   "metadata": {},
   "source": [
    "Tahap selanjutnya adalah mengecek nilai outlier yang ada didalam dataset. Outlier sendiri dapat berdampak negatif pada model seperti,\n",
    "[Menurunkan akurasi model](https://machinelearningmastery.com/how-to-use-statistics-to-identify-outliers-in-data/), Meningkatkan bias model dan etc."
   ]
  },
  {
   "cell_type": "code",
   "execution_count": 13,
   "metadata": {},
   "outputs": [
    {
     "data": {
      "image/png": "[encoded data removed]",
      "text/plain": [
       "<Figure size 2400x1900 with 2 Axes>"
      ]
     },
     "metadata": {},
     "output_type": "display_data"
    }
   ],
   "source": [
    "# Cek outliers di kolom MonthlyCharges\n",
    "\n",
    "col_names = df.drop(columns=['tenure']).describe().columns\n",
    "\n",
    "plot_number = 1\n",
    "\n",
    "plt.figure(figsize=(24,19))\n",
    "for kolom in col_names:\n",
    "    plt.subplot(5,5, plot_number)\n",
    "    sns.boxplot(data=df, x=kolom)\n",
    "    plt.title(kolom)\n",
    "\n",
    "    plot_number +=1"
   ]
  },
  {
   "cell_type": "code",
   "execution_count": 14,
   "metadata": {},
   "outputs": [
    {
     "data": {
      "image/png": "[encoded data removed]",
      "text/plain": [
       "<Figure size 2400x1900 with 2 Axes>"
      ]
     },
     "metadata": {},
     "output_type": "display_data"
    }
   ],
   "source": [
    "# Cek outliers di kolom tenure\n",
    "\n",
    "col_names = df.drop(columns=['MonthlyCharges']).describe().columns\n",
    "\n",
    "plot_number = 1\n",
    "\n",
    "plt.figure(figsize=(24,19))\n",
    "for kolom in col_names:\n",
    "    plt.subplot(5,5, plot_number)\n",
    "    sns.boxplot(data=df, x=kolom)\n",
    "    plt.title(kolom)\n",
    "\n",
    "    plot_number +=1"
   ]
  },
  {
   "cell_type": "markdown",
   "metadata": {},
   "source": [
    "Dapat kita lihat melalui `boxplot` diatas. Tidak ditemukan adanya outlier, oleh karena itu penggunaan teknik scaling seperti [Min-Max Scaling](https://static1.squarespace.com/static/5ff2adbe3fe4fe33db902812/t/6009dd9fa7bc363aa822d2c7/1611259312432/ISLR+Seventh+Printing.pdf) dapat menjadi pilihan yang baik."
   ]
  },
  {
   "cell_type": "code",
   "execution_count": 15,
   "metadata": {},
   "outputs": [
    {
     "data": {
      "image/png": "[encoded data removed]",
      "text/plain": [
       "<Figure size 1000x600 with 2 Axes>"
      ]
     },
     "metadata": {},
     "output_type": "display_data"
    }
   ],
   "source": [
    "#   mengecek korelasi pada kolom number\n",
    "\n",
    "plt.figure(figsize=(10,6))\n",
    "sns.heatmap(df[['tenure','MonthlyCharges']].corr(numeric_only=True), annot = True);"
   ]
  },
  {
   "cell_type": "markdown",
   "metadata": {},
   "source": [
    "Antara kolom `tenure` dan `MonthlyCharges` memiliki korelasi positif dengan nilai 0.23 yang berarti memiliki hubungan lemah"
   ]
  },
  {
   "cell_type": "markdown",
   "metadata": {},
   "source": [
    "Data [holdout](https://hastie.su.domains/Papers/ESLII.pdf) adalah praktik menyimpan sebagian kecil data terpisah dari data pelatihan dan validasi yang digunakan selama pencarian model. Fungsi utama dari data holdout adalah memberikan evaluasi yang independen terhadap performa model pada data yang belum pernah dilihat selama proses pelatihan atau validasi."
   ]
  },
  {
   "cell_type": "code",
   "execution_count": 16,
   "metadata": {},
   "outputs": [],
   "source": [
    "df , df_hold_up = train_test_split(df, test_size=0.05, random_state=22)"
   ]
  },
  {
   "cell_type": "markdown",
   "metadata": {},
   "source": [
    "# 3. Data Preparation"
   ]
  },
  {
   "cell_type": "markdown",
   "metadata": {},
   "source": [
    "Untuk selanjutnya ada membagi data menjadi 2, yaitu sebagai data training dan data testing. Karena data kita imbalance, kita perlu menambahkan parameter `stratify`. Parameter `stratify` pada train_test_split dalam library scikit-learn berfungsi untuk memastikan bahwa pembagian data antara data pelatihan (training set) dan data pengujian (test set) mempertahankan distribusi proporsional dari target variabel atau kategori yang ada."
   ]
  },
  {
   "cell_type": "code",
   "execution_count": 17,
   "metadata": {},
   "outputs": [
    {
     "data": {
      "text/plain": [
       "Churn\n",
       "0    0.73\n",
       "1    0.27\n",
       "Name: proportion, dtype: float64"
      ]
     },
     "metadata": {},
     "output_type": "display_data"
    },
    {
     "data": {
      "text/plain": [
       "Churn\n",
       "0    0.74\n",
       "1    0.26\n",
       "Name: proportion, dtype: float64"
      ]
     },
     "metadata": {},
     "output_type": "display_data"
    }
   ],
   "source": [
    "#   split ke dalam 2 subset (training dan testing)\n",
    "#   stratify berfungsi untuk menyamakan proporsi 'target' pada data training dan data testing\n",
    "df_feature = df.drop(columns='Churn')\n",
    "df_target = df['Churn']\n",
    "\n",
    "x_train, x_test, y_train, y_test = train_test_split(df_feature, df_target, test_size=0.2, random_state=22, stratify=df_target)\n",
    "\n",
    "display(y_train.value_counts(normalize=True).round(2),\n",
    "        y_test.value_counts(normalize=True).round(2),)"
   ]
  },
  {
   "cell_type": "markdown",
   "metadata": {},
   "source": [
    "## *Encoding*"
   ]
  },
  {
   "cell_type": "markdown",
   "metadata": {},
   "source": [
    "Encoding adalah proses mengubah data kategorikal menjadi data numerikal. Kita perlu Meng-Encoding dikarenakan Algoritma machine learning umumnya hanya dapat bekerja dengan data numerikal. Oleh karena itu, data kategorikal perlu diubah menjadi data numerikal sebelum dapat digunakan dalam machine learning.\n",
    "\n",
    "Sekarang, kita akan mengubah format fitur kategorikal dalam dataset kita.\n",
    "\n",
    "Fitur `Contract` dan `InternetService` akan diubah menjadi integer 1-3 menggunakan **Ordinal Encoding**, karena fitur-fitur ini memiliki urutan.\n",
    "\n",
    "Fitur `Dependents`, `OnlineSecurity`, `OnlineBackup`, `DeviceProtection`, dan `TechSupport` akan diubah menjadi vektor biner menggunakan **One Hot Encoding**, karena fitur-fitur ini tidak memiliki urutan dan memiliki jumlah nilai unik yang sedikit.\n",
    "\n",
    "Fitur `PaperlessBilling` akan diubah menjadi vektor biner menggunakan **One Hot Encoding**, meskipun fitur ini memiliki urutan.\n",
    "\n",
    "Sedangkan untuk fitur numerical seperti `tenure` dan `MonthlyCharges` bisa kita scaling menggunakan **Min-Max Scaling**"
   ]
  },
  {
   "cell_type": "code",
   "execution_count": 18,
   "metadata": {},
   "outputs": [],
   "source": [
    "# mapping untuk ordinal encoder\n",
    "\n",
    "ordinal_mapping = [\n",
    "    {'col':'InternetService', 'mapping':{None:0, 'Fiber optic':3, 'DSL':2, 'No':1}},\n",
    "    {'col':'Contract', 'mapping':{None:0, 'Month-to-month':3, 'One year':2, 'Two year':1}}\n",
    "]"
   ]
  },
  {
   "cell_type": "code",
   "execution_count": 19,
   "metadata": {},
   "outputs": [
    {
     "data": {
      "text/html": [
       "<style>#sk-container-id-1 {color: black;}#sk-container-id-1 pre{padding: 0;}#sk-container-id-1 div.sk-toggleable {background-color: white;}#sk-container-id-1 label.sk-toggleable__label {cursor: pointer;display: block;width: 100%;margin-bottom: 0;padding: 0.3em;box-sizing: border-box;text-align: center;}#sk-container-id-1 label.sk-toggleable__label-arrow:before {content: \"▸\";float: left;margin-right: 0.25em;color: #696969;}#sk-container-id-1 label.sk-toggleable__label-arrow:hover:before {color: black;}#sk-container-id-1 div.sk-estimator:hover label.sk-toggleable__label-arrow:before {color: black;}#sk-container-id-1 div.sk-toggleable__content {max-height: 0;max-width: 0;overflow: hidden;text-align: left;background-color: #f0f8ff;}#sk-container-id-1 div.sk-toggleable__content pre {margin: 0.2em;color: black;border-radius: 0.25em;background-color: #f0f8ff;}#sk-container-id-1 input.sk-toggleable__control:checked~div.sk-toggleable__content {max-height: 200px;max-width: 100%;overflow: auto;}#sk-container-id-1 input.sk-toggleable__control:checked~label.sk-toggleable__label-arrow:before {content: \"▾\";}#sk-container-id-1 div.sk-estimator input.sk-toggleable__control:checked~label.sk-toggleable__label {background-color: #d4ebff;}#sk-container-id-1 div.sk-label input.sk-toggleable__control:checked~label.sk-toggleable__label {background-color: #d4ebff;}#sk-container-id-1 input.sk-hidden--visually {border: 0;clip: rect(1px 1px 1px 1px);clip: rect(1px, 1px, 1px, 1px);height: 1px;margin: -1px;overflow: hidden;padding: 0;position: absolute;width: 1px;}#sk-container-id-1 div.sk-estimator {font-family: monospace;background-color: #f0f8ff;border: 1px dotted black;border-radius: 0.25em;box-sizing: border-box;margin-bottom: 0.5em;}#sk-container-id-1 div.sk-estimator:hover {background-color: #d4ebff;}#sk-container-id-1 div.sk-parallel-item::after {content: \"\";width: 100%;border-bottom: 1px solid gray;flex-grow: 1;}#sk-container-id-1 div.sk-label:hover label.sk-toggleable__label {background-color: #d4ebff;}#sk-container-id-1 div.sk-serial::before {content: \"\";position: absolute;border-left: 1px solid gray;box-sizing: border-box;top: 0;bottom: 0;left: 50%;z-index: 0;}#sk-container-id-1 div.sk-serial {display: flex;flex-direction: column;align-items: center;background-color: white;padding-right: 0.2em;padding-left: 0.2em;position: relative;}#sk-container-id-1 div.sk-item {position: relative;z-index: 1;}#sk-container-id-1 div.sk-parallel {display: flex;align-items: stretch;justify-content: center;background-color: white;position: relative;}#sk-container-id-1 div.sk-item::before, #sk-container-id-1 div.sk-parallel-item::before {content: \"\";position: absolute;border-left: 1px solid gray;box-sizing: border-box;top: 0;bottom: 0;left: 50%;z-index: -1;}#sk-container-id-1 div.sk-parallel-item {display: flex;flex-direction: column;z-index: 1;position: relative;background-color: white;}#sk-container-id-1 div.sk-parallel-item:first-child::after {align-self: flex-end;width: 50%;}#sk-container-id-1 div.sk-parallel-item:last-child::after {align-self: flex-start;width: 50%;}#sk-container-id-1 div.sk-parallel-item:only-child::after {width: 0;}#sk-container-id-1 div.sk-dashed-wrapped {border: 1px dashed gray;margin: 0 0.4em 0.5em 0.4em;box-sizing: border-box;padding-bottom: 0.4em;background-color: white;}#sk-container-id-1 div.sk-label label {font-family: monospace;font-weight: bold;display: inline-block;line-height: 1.2em;}#sk-container-id-1 div.sk-label-container {text-align: center;}#sk-container-id-1 div.sk-container {/* jupyter's `normalize.less` sets `[hidden] { display: none; }` but bootstrap.min.css set `[hidden] { display: none !important; }` so we also need the `!important` here to be able to override the default hidden behavior on the sphinx rendered scikit-learn.org. See: https://github.com/scikit-learn/scikit-learn/issues/21755 */display: inline-block !important;position: relative;}#sk-container-id-1 div.sk-text-repr-fallback {display: none;}</style><div id=\"sk-container-id-1\" class=\"sk-top-container\"><div class=\"sk-text-repr-fallback\"><pre>ColumnTransformer(remainder=&#x27;passthrough&#x27;,\n",
       "                  transformers=[(&#x27;scaling&#x27;, None, [&#x27;tenure&#x27;, &#x27;MonthlyCharges&#x27;]),\n",
       "                                (&#x27;OHE&#x27;, OneHotEncoder(drop=&#x27;first&#x27;),\n",
       "                                 [&#x27;Dependents&#x27;, &#x27;OnlineSecurity&#x27;,\n",
       "                                  &#x27;OnlineBackup&#x27;, &#x27;DeviceProtection&#x27;,\n",
       "                                  &#x27;TechSupport&#x27;, &#x27;PaperlessBilling&#x27;]),\n",
       "                                (&#x27;ordinal&#x27;,\n",
       "                                 OrdinalEncoder(cols=[&#x27;InternetService&#x27;,\n",
       "                                                      &#x27;Contract&#x27;],\n",
       "                                                mapping=[{&#x27;col&#x27;: &#x27;InternetService&#x27;,\n",
       "                                                          &#x27;data_type&#x27;: dtype(&#x27;O&#x27;),\n",
       "                                                          &#x27;mapping&#x27;: None           0\n",
       "Fiber optic    3\n",
       "DSL            2\n",
       "No             1\n",
       "dtype: int64},\n",
       "                                                         {&#x27;col&#x27;: &#x27;Contract&#x27;,\n",
       "                                                          &#x27;data_type&#x27;: dtype(&#x27;O&#x27;),\n",
       "                                                          &#x27;mapping&#x27;: None              0\n",
       "Month-to-month    3\n",
       "One year          2\n",
       "Two year          1\n",
       "dtype: int64}]),\n",
       "                                 [&#x27;InternetService&#x27;, &#x27;Contract&#x27;])])</pre><b>In a Jupyter environment, please rerun this cell to show the HTML representation or trust the notebook. <br />On GitHub, the HTML representation is unable to render, please try loading this page with nbviewer.org.</b></div><div class=\"sk-container\" hidden><div class=\"sk-item sk-dashed-wrapped\"><div class=\"sk-label-container\"><div class=\"sk-label sk-toggleable\"><input class=\"sk-toggleable__control sk-hidden--visually\" id=\"sk-estimator-id-1\" type=\"checkbox\" ><label for=\"sk-estimator-id-1\" class=\"sk-toggleable__label sk-toggleable__label-arrow\">ColumnTransformer</label><div class=\"sk-toggleable__content\"><pre>ColumnTransformer(remainder=&#x27;passthrough&#x27;,\n",
       "                  transformers=[(&#x27;scaling&#x27;, None, [&#x27;tenure&#x27;, &#x27;MonthlyCharges&#x27;]),\n",
       "                                (&#x27;OHE&#x27;, OneHotEncoder(drop=&#x27;first&#x27;),\n",
       "                                 [&#x27;Dependents&#x27;, &#x27;OnlineSecurity&#x27;,\n",
       "                                  &#x27;OnlineBackup&#x27;, &#x27;DeviceProtection&#x27;,\n",
       "                                  &#x27;TechSupport&#x27;, &#x27;PaperlessBilling&#x27;]),\n",
       "                                (&#x27;ordinal&#x27;,\n",
       "                                 OrdinalEncoder(cols=[&#x27;InternetService&#x27;,\n",
       "                                                      &#x27;Contract&#x27;],\n",
       "                                                mapping=[{&#x27;col&#x27;: &#x27;InternetService&#x27;,\n",
       "                                                          &#x27;data_type&#x27;: dtype(&#x27;O&#x27;),\n",
       "                                                          &#x27;mapping&#x27;: None           0\n",
       "Fiber optic    3\n",
       "DSL            2\n",
       "No             1\n",
       "dtype: int64},\n",
       "                                                         {&#x27;col&#x27;: &#x27;Contract&#x27;,\n",
       "                                                          &#x27;data_type&#x27;: dtype(&#x27;O&#x27;),\n",
       "                                                          &#x27;mapping&#x27;: None              0\n",
       "Month-to-month    3\n",
       "One year          2\n",
       "Two year          1\n",
       "dtype: int64}]),\n",
       "                                 [&#x27;InternetService&#x27;, &#x27;Contract&#x27;])])</pre></div></div></div><div class=\"sk-parallel\"><div class=\"sk-parallel-item\"><div class=\"sk-item\"><div class=\"sk-label-container\"><div class=\"sk-label sk-toggleable\"><input class=\"sk-toggleable__control sk-hidden--visually\" id=\"sk-estimator-id-2\" type=\"checkbox\" ><label for=\"sk-estimator-id-2\" class=\"sk-toggleable__label sk-toggleable__label-arrow\">scaling</label><div class=\"sk-toggleable__content\"><pre>[&#x27;tenure&#x27;, &#x27;MonthlyCharges&#x27;]</pre></div></div></div><div class=\"sk-serial\"><div class=\"sk-item\"><div class=\"sk-estimator sk-toggleable\"><input class=\"sk-toggleable__control sk-hidden--visually\" id=\"sk-estimator-id-3\" type=\"checkbox\" ><label for=\"sk-estimator-id-3\" class=\"sk-toggleable__label sk-toggleable__label-arrow\">None</label><div class=\"sk-toggleable__content\"><pre>None</pre></div></div></div></div></div></div><div class=\"sk-parallel-item\"><div class=\"sk-item\"><div class=\"sk-label-container\"><div class=\"sk-label sk-toggleable\"><input class=\"sk-toggleable__control sk-hidden--visually\" id=\"sk-estimator-id-4\" type=\"checkbox\" ><label for=\"sk-estimator-id-4\" class=\"sk-toggleable__label sk-toggleable__label-arrow\">OHE</label><div class=\"sk-toggleable__content\"><pre>[&#x27;Dependents&#x27;, &#x27;OnlineSecurity&#x27;, &#x27;OnlineBackup&#x27;, &#x27;DeviceProtection&#x27;, &#x27;TechSupport&#x27;, &#x27;PaperlessBilling&#x27;]</pre></div></div></div><div class=\"sk-serial\"><div class=\"sk-item\"><div class=\"sk-estimator sk-toggleable\"><input class=\"sk-toggleable__control sk-hidden--visually\" id=\"sk-estimator-id-5\" type=\"checkbox\" ><label for=\"sk-estimator-id-5\" class=\"sk-toggleable__label sk-toggleable__label-arrow\">OneHotEncoder</label><div class=\"sk-toggleable__content\"><pre>OneHotEncoder(drop=&#x27;first&#x27;)</pre></div></div></div></div></div></div><div class=\"sk-parallel-item\"><div class=\"sk-item\"><div class=\"sk-label-container\"><div class=\"sk-label sk-toggleable\"><input class=\"sk-toggleable__control sk-hidden--visually\" id=\"sk-estimator-id-6\" type=\"checkbox\" ><label for=\"sk-estimator-id-6\" class=\"sk-toggleable__label sk-toggleable__label-arrow\">ordinal</label><div class=\"sk-toggleable__content\"><pre>[&#x27;InternetService&#x27;, &#x27;Contract&#x27;]</pre></div></div></div><div class=\"sk-serial\"><div class=\"sk-item\"><div class=\"sk-estimator sk-toggleable\"><input class=\"sk-toggleable__control sk-hidden--visually\" id=\"sk-estimator-id-7\" type=\"checkbox\" ><label for=\"sk-estimator-id-7\" class=\"sk-toggleable__label sk-toggleable__label-arrow\">OrdinalEncoder</label><div class=\"sk-toggleable__content\"><pre>OrdinalEncoder(cols=[&#x27;InternetService&#x27;, &#x27;Contract&#x27;],\n",
       "               mapping=[{&#x27;col&#x27;: &#x27;InternetService&#x27;, &#x27;data_type&#x27;: dtype(&#x27;O&#x27;),\n",
       "                         &#x27;mapping&#x27;: None           0\n",
       "Fiber optic    3\n",
       "DSL            2\n",
       "No             1\n",
       "dtype: int64},\n",
       "                        {&#x27;col&#x27;: &#x27;Contract&#x27;, &#x27;data_type&#x27;: dtype(&#x27;O&#x27;),\n",
       "                         &#x27;mapping&#x27;: None              0\n",
       "Month-to-month    3\n",
       "One year          2\n",
       "Two year          1\n",
       "dtype: int64}])</pre></div></div></div></div></div></div><div class=\"sk-parallel-item\"><div class=\"sk-item\"><div class=\"sk-label-container\"><div class=\"sk-label sk-toggleable\"><input class=\"sk-toggleable__control sk-hidden--visually\" id=\"sk-estimator-id-8\" type=\"checkbox\" ><label for=\"sk-estimator-id-8\" class=\"sk-toggleable__label sk-toggleable__label-arrow\">remainder</label><div class=\"sk-toggleable__content\"><pre></pre></div></div></div><div class=\"sk-serial\"><div class=\"sk-item\"><div class=\"sk-estimator sk-toggleable\"><input class=\"sk-toggleable__control sk-hidden--visually\" id=\"sk-estimator-id-9\" type=\"checkbox\" ><label for=\"sk-estimator-id-9\" class=\"sk-toggleable__label sk-toggleable__label-arrow\">passthrough</label><div class=\"sk-toggleable__content\"><pre>passthrough</pre></div></div></div></div></div></div></div></div></div></div>"
      ],
      "text/plain": [
       "ColumnTransformer(remainder='passthrough',\n",
       "                  transformers=[('scaling', None, ['tenure', 'MonthlyCharges']),\n",
       "                                ('OHE', OneHotEncoder(drop='first'),\n",
       "                                 ['Dependents', 'OnlineSecurity',\n",
       "                                  'OnlineBackup', 'DeviceProtection',\n",
       "                                  'TechSupport', 'PaperlessBilling']),\n",
       "                                ('ordinal',\n",
       "                                 OrdinalEncoder(cols=['InternetService',\n",
       "                                                      'Contract'],\n",
       "                                                mapping=[{'col': 'InternetService',\n",
       "                                                          'data_type': dtype('O'),\n",
       "                                                          'mapping': None           0\n",
       "Fiber optic    3\n",
       "DSL            2\n",
       "No             1\n",
       "dtype: int64},\n",
       "                                                         {'col': 'Contract',\n",
       "                                                          'data_type': dtype('O'),\n",
       "                                                          'mapping': None              0\n",
       "Month-to-month    3\n",
       "One year          2\n",
       "Two year          1\n",
       "dtype: int64}]),\n",
       "                                 ['InternetService', 'Contract'])])"
      ]
     },
     "execution_count": 19,
     "metadata": {},
     "output_type": "execute_result"
    }
   ],
   "source": [
    "method = None\n",
    "\n",
    "transformer = ColumnTransformer(\n",
    "    [\n",
    "     ('scaling', method, ['tenure','MonthlyCharges']),\n",
    "    #  ('OHE', OneHotEncoder(drop='first'), x_train.select_dtypes('object').columns)\n",
    "     ('OHE', OneHotEncoder(drop='first'), ['Dependents', 'OnlineSecurity', 'OnlineBackup', 'DeviceProtection', 'TechSupport', 'PaperlessBilling']),\n",
    "     ('ordinal', ce.OrdinalEncoder(cols=['InternetService', 'Contract'], mapping=ordinal_mapping), ['InternetService', 'Contract'])\n",
    "     ], remainder='passthrough'\n",
    ")\n",
    "transformer"
   ]
  },
  {
   "cell_type": "markdown",
   "metadata": {},
   "source": [
    "# 4. Modelling dan Evaluation"
   ]
  },
  {
   "cell_type": "markdown",
   "metadata": {},
   "source": [
    "`DecisionTreeClassifier`, `LogisticRegression`, dan `KNeighborsClassifier` dipilih untuk metode klasifikasi karena Ketiga metode ini sederhana dan mudah dipahami serta dapat diterapkan pada berbagai jenis data [(sumber)](https://towardsdatascience.com/comparative-study-on-classic-machine-learning-algorithms-24f9ff6ab222).\n",
    "\n",
    "Serta untuk metode ensemble dan boostingnya kita akan menggunakan : `RandomForestClassifier`, `GradientBoostingClassifier`, `AdaBoostClassifier` berdasarkan [Hands-On Machine Learning with Scikit-Learn, Keras, and TensorFlow by Aurélien Géron](https://powerunit-ju.com/wp-content/uploads/2021/04/Aurelien-Geron-Hands-On-Machine-Learning-with-Scikit-Learn-Keras-and-Tensorflow_-Concepts-Tools-and-Techniques-to-Build-Intelligent-Systems-OReilly-Media-2019.pdf) \n",
    "\n",
    "kita juga menggunakan metode [`CatBoostClassifier`](https://papers.nips.cc/paper_files/paper/2018/hash/14491b756b3a51daac41c24863285549-Abstract.html) yang mana juga merupakan Varian dari GBM yang dirancang untuk menangani data kategorikal, serta `XGBClassifier` yang menggunakan algoritma GBDT yang dioptimalkan untuk akurasi. Algoritma ini menggunakan teknik-teknik seperti regularization dan histogram-based split finding untuk meningkatkan kinerja [model](https://xgboost.ai/). , dan `LGBMClassifier` yang mana merupaka framework yang dikembangkan oleh Microsoft. `LGBMClassifier` menggunakan algoritma GBDT yang dioptimalkan untuk kecepatan dan akurasi. Algoritma ini menggunakan teknik-teknik seperti tree pruning dan regularization untuk meningkatkan kinerja [model](https://proceedings.neurips.cc/paper_files/paper/2017/file/6449f44a102fde848669bdd9eb6b76fa-Paper.pdf).\n",
    "\n"
   ]
  },
  {
   "cell_type": "code",
   "execution_count": 20,
   "metadata": {},
   "outputs": [],
   "source": [
    "#   model init\n",
    "\n",
    "\n",
    "logreg = LogisticRegression(random_state=22, class_weight='balanced')\n",
    "knn = KNeighborsClassifier()\n",
    "dt = DecisionTreeClassifier(random_state=22, class_weight='balanced')\n",
    "\n",
    "cat = CatBoostClassifier(random_state=22)\n",
    "rf = RandomForestClassifier(random_state=22, class_weight='balanced')\n",
    "\n",
    "#   boosting\n",
    "xgb = XGBClassifier(random_state = 22,device='cuda')\n",
    "gds = GradientBoostingClassifier(random_state=22)\n",
    "adaboost = AdaBoostClassifier(estimator=LogisticRegression(random_state=22, class_weight='balanced'), random_state=22)\n",
    "lgbm = LGBMClassifier(random_state=22, class_weight='balanced')"
   ]
  },
  {
   "cell_type": "markdown",
   "metadata": {},
   "source": [
    "dikarenakan data kita imbalance, kita perlu menambahkan parameter `class_weight='balanced'`\n",
    "\n",
    "`class_weight='balanced'` pada library machine learning [scikit-learn](https://scikit-learn.org/stable/modules/generated/sklearn.utils.class_weight.compute_class_weight.html) adalah suatu metode yang digunakan untuk mengatasi masalah class imbalance dalam dataset. Class imbalance terjadi ketika jumlah data untuk setiap kelas dalam dataset memiliki perbedaan yang signifikan. Masalah ini dapat menyebabkan model machine learning cenderung menjadi bias terhadap kelas yang memiliki lebih banyak data, dan mengabaikan kelas yang memiliki data lebih sedikit.\n",
    "\n",
    "Dengan menggunakan `class_weight='balanced'`, liblary scikit-learn akan secara otomatis menyesuaikan bobot (weight) untuk setiap kelas selama proses pelatihan model. Bobot untuk kelas yang memiliki lebih sedikit data akan ditingkatkan, sehingga model machine learning akan lebih memperhatikan kelas tersebut. Pendekatan ini membantu meningkatkan kinerja model untuk kelas yang memiliki data lebih sedikit, sekaligus mengurangi bias terhadap kelas yang memiliki lebih banyak data."
   ]
  },
  {
   "cell_type": "markdown",
   "metadata": {},
   "source": [
    "# Model Benchmark without Sampling"
   ]
  },
  {
   "cell_type": "code",
   "execution_count": 21,
   "metadata": {},
   "outputs": [],
   "source": [
    "model = None\n",
    "pipe = imb_pipeline([\n",
    "    ('prepocessing', transformer),\n",
    "    ('clf', model)\n",
    "])"
   ]
  },
  {
   "cell_type": "code",
   "execution_count": 22,
   "metadata": {},
   "outputs": [],
   "source": [
    "model_search = {\n",
    "    'clf' : [logreg, knn, dt, cat, rf, xgb, gds, adaboost, lgbm],\n",
    "    'prepocessing__scaling' : [MinMaxScaler()]\n",
    "} \n",
    "\n",
    "grid_search_cv = GridSearchCV(\n",
    "    estimator = pipe,\n",
    "    param_grid = model_search,\n",
    "    scoring = f2,\n",
    "    verbose=1,  # setiap proses dikeluarkan\n",
    "    return_train_score=True,\n",
    "    cv = StratifiedKFold(),\n",
    "    n_jobs=-1\n",
    ")\n"
   ]
  },
  {
   "cell_type": "code",
   "execution_count": 23,
   "metadata": {},
   "outputs": [
    {
     "name": "stdout",
     "output_type": "stream",
     "text": [
      "Fitting 5 folds for each of 9 candidates, totalling 45 fits\n"
     ]
    },
    {
     "data": {
      "text/html": [
       "<style>#sk-container-id-2 {color: black;}#sk-container-id-2 pre{padding: 0;}#sk-container-id-2 div.sk-toggleable {background-color: white;}#sk-container-id-2 label.sk-toggleable__label {cursor: pointer;display: block;width: 100%;margin-bottom: 0;padding: 0.3em;box-sizing: border-box;text-align: center;}#sk-container-id-2 label.sk-toggleable__label-arrow:before {content: \"▸\";float: left;margin-right: 0.25em;color: #696969;}#sk-container-id-2 label.sk-toggleable__label-arrow:hover:before {color: black;}#sk-container-id-2 div.sk-estimator:hover label.sk-toggleable__label-arrow:before {color: black;}#sk-container-id-2 div.sk-toggleable__content {max-height: 0;max-width: 0;overflow: hidden;text-align: left;background-color: #f0f8ff;}#sk-container-id-2 div.sk-toggleable__content pre {margin: 0.2em;color: black;border-radius: 0.25em;background-color: #f0f8ff;}#sk-container-id-2 input.sk-toggleable__control:checked~div.sk-toggleable__content {max-height: 200px;max-width: 100%;overflow: auto;}#sk-container-id-2 input.sk-toggleable__control:checked~label.sk-toggleable__label-arrow:before {content: \"▾\";}#sk-container-id-2 div.sk-estimator input.sk-toggleable__control:checked~label.sk-toggleable__label {background-color: #d4ebff;}#sk-container-id-2 div.sk-label input.sk-toggleable__control:checked~label.sk-toggleable__label {background-color: #d4ebff;}#sk-container-id-2 input.sk-hidden--visually {border: 0;clip: rect(1px 1px 1px 1px);clip: rect(1px, 1px, 1px, 1px);height: 1px;margin: -1px;overflow: hidden;padding: 0;position: absolute;width: 1px;}#sk-container-id-2 div.sk-estimator {font-family: monospace;background-color: #f0f8ff;border: 1px dotted black;border-radius: 0.25em;box-sizing: border-box;margin-bottom: 0.5em;}#sk-container-id-2 div.sk-estimator:hover {background-color: #d4ebff;}#sk-container-id-2 div.sk-parallel-item::after {content: \"\";width: 100%;border-bottom: 1px solid gray;flex-grow: 1;}#sk-container-id-2 div.sk-label:hover label.sk-toggleable__label {background-color: #d4ebff;}#sk-container-id-2 div.sk-serial::before {content: \"\";position: absolute;border-left: 1px solid gray;box-sizing: border-box;top: 0;bottom: 0;left: 50%;z-index: 0;}#sk-container-id-2 div.sk-serial {display: flex;flex-direction: column;align-items: center;background-color: white;padding-right: 0.2em;padding-left: 0.2em;position: relative;}#sk-container-id-2 div.sk-item {position: relative;z-index: 1;}#sk-container-id-2 div.sk-parallel {display: flex;align-items: stretch;justify-content: center;background-color: white;position: relative;}#sk-container-id-2 div.sk-item::before, #sk-container-id-2 div.sk-parallel-item::before {content: \"\";position: absolute;border-left: 1px solid gray;box-sizing: border-box;top: 0;bottom: 0;left: 50%;z-index: -1;}#sk-container-id-2 div.sk-parallel-item {display: flex;flex-direction: column;z-index: 1;position: relative;background-color: white;}#sk-container-id-2 div.sk-parallel-item:first-child::after {align-self: flex-end;width: 50%;}#sk-container-id-2 div.sk-parallel-item:last-child::after {align-self: flex-start;width: 50%;}#sk-container-id-2 div.sk-parallel-item:only-child::after {width: 0;}#sk-container-id-2 div.sk-dashed-wrapped {border: 1px dashed gray;margin: 0 0.4em 0.5em 0.4em;box-sizing: border-box;padding-bottom: 0.4em;background-color: white;}#sk-container-id-2 div.sk-label label {font-family: monospace;font-weight: bold;display: inline-block;line-height: 1.2em;}#sk-container-id-2 div.sk-label-container {text-align: center;}#sk-container-id-2 div.sk-container {/* jupyter's `normalize.less` sets `[hidden] { display: none; }` but bootstrap.min.css set `[hidden] { display: none !important; }` so we also need the `!important` here to be able to override the default hidden behavior on the sphinx rendered scikit-learn.org. See: https://github.com/scikit-learn/scikit-learn/issues/21755 */display: inline-block !important;position: relative;}#sk-container-id-2 div.sk-text-repr-fallback {display: none;}</style><div id=\"sk-container-id-2\" class=\"sk-top-container\"><div class=\"sk-text-repr-fallback\"><pre>GridSearchCV(cv=StratifiedKFold(n_splits=5, random_state=None, shuffle=False),\n",
       "             estimator=Pipeline(steps=[(&#x27;prepocessing&#x27;,\n",
       "                                        ColumnTransformer(remainder=&#x27;passthrough&#x27;,\n",
       "                                                          transformers=[(&#x27;scaling&#x27;,\n",
       "                                                                         None,\n",
       "                                                                         [&#x27;tenure&#x27;,\n",
       "                                                                          &#x27;MonthlyCharges&#x27;]),\n",
       "                                                                        (&#x27;OHE&#x27;,\n",
       "                                                                         OneHotEncoder(drop=&#x27;first&#x27;),\n",
       "                                                                         [&#x27;Dependents&#x27;,\n",
       "                                                                          &#x27;OnlineSecurity&#x27;,\n",
       "                                                                          &#x27;OnlineBackup&#x27;,\n",
       "                                                                          &#x27;DeviceProtection&#x27;,\n",
       "                                                                          &#x27;TechSupport&#x27;,\n",
       "                                                                          &#x27;PaperlessBilling...\n",
       "                                               num_parallel_tree=None,\n",
       "                                               random_state=22, ...),\n",
       "                                 GradientBoostingClassifier(random_state=22),\n",
       "                                 AdaBoostClassifier(estimator=LogisticRegression(class_weight=&#x27;balanced&#x27;,\n",
       "                                                                                 random_state=22),\n",
       "                                                    random_state=22),\n",
       "                                 LGBMClassifier(class_weight=&#x27;balanced&#x27;,\n",
       "                                                random_state=22)],\n",
       "                         &#x27;prepocessing__scaling&#x27;: [MinMaxScaler()]},\n",
       "             return_train_score=True, scoring=make_scorer(fbeta_score, beta=2),\n",
       "             verbose=1)</pre><b>In a Jupyter environment, please rerun this cell to show the HTML representation or trust the notebook. <br />On GitHub, the HTML representation is unable to render, please try loading this page with nbviewer.org.</b></div><div class=\"sk-container\" hidden><div class=\"sk-item sk-dashed-wrapped\"><div class=\"sk-label-container\"><div class=\"sk-label sk-toggleable\"><input class=\"sk-toggleable__control sk-hidden--visually\" id=\"sk-estimator-id-10\" type=\"checkbox\" ><label for=\"sk-estimator-id-10\" class=\"sk-toggleable__label sk-toggleable__label-arrow\">GridSearchCV</label><div class=\"sk-toggleable__content\"><pre>GridSearchCV(cv=StratifiedKFold(n_splits=5, random_state=None, shuffle=False),\n",
       "             estimator=Pipeline(steps=[(&#x27;prepocessing&#x27;,\n",
       "                                        ColumnTransformer(remainder=&#x27;passthrough&#x27;,\n",
       "                                                          transformers=[(&#x27;scaling&#x27;,\n",
       "                                                                         None,\n",
       "                                                                         [&#x27;tenure&#x27;,\n",
       "                                                                          &#x27;MonthlyCharges&#x27;]),\n",
       "                                                                        (&#x27;OHE&#x27;,\n",
       "                                                                         OneHotEncoder(drop=&#x27;first&#x27;),\n",
       "                                                                         [&#x27;Dependents&#x27;,\n",
       "                                                                          &#x27;OnlineSecurity&#x27;,\n",
       "                                                                          &#x27;OnlineBackup&#x27;,\n",
       "                                                                          &#x27;DeviceProtection&#x27;,\n",
       "                                                                          &#x27;TechSupport&#x27;,\n",
       "                                                                          &#x27;PaperlessBilling...\n",
       "                                               num_parallel_tree=None,\n",
       "                                               random_state=22, ...),\n",
       "                                 GradientBoostingClassifier(random_state=22),\n",
       "                                 AdaBoostClassifier(estimator=LogisticRegression(class_weight=&#x27;balanced&#x27;,\n",
       "                                                                                 random_state=22),\n",
       "                                                    random_state=22),\n",
       "                                 LGBMClassifier(class_weight=&#x27;balanced&#x27;,\n",
       "                                                random_state=22)],\n",
       "                         &#x27;prepocessing__scaling&#x27;: [MinMaxScaler()]},\n",
       "             return_train_score=True, scoring=make_scorer(fbeta_score, beta=2),\n",
       "             verbose=1)</pre></div></div></div><div class=\"sk-parallel\"><div class=\"sk-parallel-item\"><div class=\"sk-item\"><div class=\"sk-label-container\"><div class=\"sk-label sk-toggleable\"><input class=\"sk-toggleable__control sk-hidden--visually\" id=\"sk-estimator-id-11\" type=\"checkbox\" ><label for=\"sk-estimator-id-11\" class=\"sk-toggleable__label sk-toggleable__label-arrow\">estimator: Pipeline</label><div class=\"sk-toggleable__content\"><pre>Pipeline(steps=[(&#x27;prepocessing&#x27;,\n",
       "                 ColumnTransformer(remainder=&#x27;passthrough&#x27;,\n",
       "                                   transformers=[(&#x27;scaling&#x27;, None,\n",
       "                                                  [&#x27;tenure&#x27;, &#x27;MonthlyCharges&#x27;]),\n",
       "                                                 (&#x27;OHE&#x27;,\n",
       "                                                  OneHotEncoder(drop=&#x27;first&#x27;),\n",
       "                                                  [&#x27;Dependents&#x27;,\n",
       "                                                   &#x27;OnlineSecurity&#x27;,\n",
       "                                                   &#x27;OnlineBackup&#x27;,\n",
       "                                                   &#x27;DeviceProtection&#x27;,\n",
       "                                                   &#x27;TechSupport&#x27;,\n",
       "                                                   &#x27;PaperlessBilling&#x27;]),\n",
       "                                                 (&#x27;ordinal&#x27;,\n",
       "                                                  OrdinalEncoder(cols=[&#x27;InternetService&#x27;,\n",
       "                                                                       &#x27;Contract&#x27;],\n",
       "                                                                 mapping=[{&#x27;col&#x27;: &#x27;InternetService&#x27;,\n",
       "                                                                           &#x27;data_type&#x27;: dtype(&#x27;O&#x27;),\n",
       "                                                                           &#x27;mapping&#x27;: None           0\n",
       "Fiber optic    3\n",
       "DSL            2\n",
       "No             1\n",
       "dtype: int64},\n",
       "                                                                          {&#x27;col&#x27;: &#x27;Contract&#x27;,\n",
       "                                                                           &#x27;data_type&#x27;: dtype(&#x27;O&#x27;),\n",
       "                                                                           &#x27;mapping&#x27;: None              0\n",
       "Month-to-month    3\n",
       "One year          2\n",
       "Two year          1\n",
       "dtype: int64}]),\n",
       "                                                  [&#x27;InternetService&#x27;,\n",
       "                                                   &#x27;Contract&#x27;])])),\n",
       "                (&#x27;clf&#x27;, None)])</pre></div></div></div><div class=\"sk-serial\"><div class=\"sk-item\"><div class=\"sk-serial\"><div class=\"sk-item sk-dashed-wrapped\"><div class=\"sk-label-container\"><div class=\"sk-label sk-toggleable\"><input class=\"sk-toggleable__control sk-hidden--visually\" id=\"sk-estimator-id-12\" type=\"checkbox\" ><label for=\"sk-estimator-id-12\" class=\"sk-toggleable__label sk-toggleable__label-arrow\">prepocessing: ColumnTransformer</label><div class=\"sk-toggleable__content\"><pre>ColumnTransformer(remainder=&#x27;passthrough&#x27;,\n",
       "                  transformers=[(&#x27;scaling&#x27;, None, [&#x27;tenure&#x27;, &#x27;MonthlyCharges&#x27;]),\n",
       "                                (&#x27;OHE&#x27;, OneHotEncoder(drop=&#x27;first&#x27;),\n",
       "                                 [&#x27;Dependents&#x27;, &#x27;OnlineSecurity&#x27;,\n",
       "                                  &#x27;OnlineBackup&#x27;, &#x27;DeviceProtection&#x27;,\n",
       "                                  &#x27;TechSupport&#x27;, &#x27;PaperlessBilling&#x27;]),\n",
       "                                (&#x27;ordinal&#x27;,\n",
       "                                 OrdinalEncoder(cols=[&#x27;InternetService&#x27;,\n",
       "                                                      &#x27;Contract&#x27;],\n",
       "                                                mapping=[{&#x27;col&#x27;: &#x27;InternetService&#x27;,\n",
       "                                                          &#x27;data_type&#x27;: dtype(&#x27;O&#x27;),\n",
       "                                                          &#x27;mapping&#x27;: None           0\n",
       "Fiber optic    3\n",
       "DSL            2\n",
       "No             1\n",
       "dtype: int64},\n",
       "                                                         {&#x27;col&#x27;: &#x27;Contract&#x27;,\n",
       "                                                          &#x27;data_type&#x27;: dtype(&#x27;O&#x27;),\n",
       "                                                          &#x27;mapping&#x27;: None              0\n",
       "Month-to-month    3\n",
       "One year          2\n",
       "Two year          1\n",
       "dtype: int64}]),\n",
       "                                 [&#x27;InternetService&#x27;, &#x27;Contract&#x27;])])</pre></div></div></div><div class=\"sk-parallel\"><div class=\"sk-parallel-item\"><div class=\"sk-item\"><div class=\"sk-label-container\"><div class=\"sk-label sk-toggleable\"><input class=\"sk-toggleable__control sk-hidden--visually\" id=\"sk-estimator-id-13\" type=\"checkbox\" ><label for=\"sk-estimator-id-13\" class=\"sk-toggleable__label sk-toggleable__label-arrow\">scaling</label><div class=\"sk-toggleable__content\"><pre>[&#x27;tenure&#x27;, &#x27;MonthlyCharges&#x27;]</pre></div></div></div><div class=\"sk-serial\"><div class=\"sk-item\"><div class=\"sk-estimator sk-toggleable\"><input class=\"sk-toggleable__control sk-hidden--visually\" id=\"sk-estimator-id-14\" type=\"checkbox\" ><label for=\"sk-estimator-id-14\" class=\"sk-toggleable__label sk-toggleable__label-arrow\">None</label><div class=\"sk-toggleable__content\"><pre>None</pre></div></div></div></div></div></div><div class=\"sk-parallel-item\"><div class=\"sk-item\"><div class=\"sk-label-container\"><div class=\"sk-label sk-toggleable\"><input class=\"sk-toggleable__control sk-hidden--visually\" id=\"sk-estimator-id-15\" type=\"checkbox\" ><label for=\"sk-estimator-id-15\" class=\"sk-toggleable__label sk-toggleable__label-arrow\">OHE</label><div class=\"sk-toggleable__content\"><pre>[&#x27;Dependents&#x27;, &#x27;OnlineSecurity&#x27;, &#x27;OnlineBackup&#x27;, &#x27;DeviceProtection&#x27;, &#x27;TechSupport&#x27;, &#x27;PaperlessBilling&#x27;]</pre></div></div></div><div class=\"sk-serial\"><div class=\"sk-item\"><div class=\"sk-estimator sk-toggleable\"><input class=\"sk-toggleable__control sk-hidden--visually\" id=\"sk-estimator-id-16\" type=\"checkbox\" ><label for=\"sk-estimator-id-16\" class=\"sk-toggleable__label sk-toggleable__label-arrow\">OneHotEncoder</label><div class=\"sk-toggleable__content\"><pre>OneHotEncoder(drop=&#x27;first&#x27;)</pre></div></div></div></div></div></div><div class=\"sk-parallel-item\"><div class=\"sk-item\"><div class=\"sk-label-container\"><div class=\"sk-label sk-toggleable\"><input class=\"sk-toggleable__control sk-hidden--visually\" id=\"sk-estimator-id-17\" type=\"checkbox\" ><label for=\"sk-estimator-id-17\" class=\"sk-toggleable__label sk-toggleable__label-arrow\">ordinal</label><div class=\"sk-toggleable__content\"><pre>[&#x27;InternetService&#x27;, &#x27;Contract&#x27;]</pre></div></div></div><div class=\"sk-serial\"><div class=\"sk-item\"><div class=\"sk-estimator sk-toggleable\"><input class=\"sk-toggleable__control sk-hidden--visually\" id=\"sk-estimator-id-18\" type=\"checkbox\" ><label for=\"sk-estimator-id-18\" class=\"sk-toggleable__label sk-toggleable__label-arrow\">OrdinalEncoder</label><div class=\"sk-toggleable__content\"><pre>OrdinalEncoder(cols=[&#x27;InternetService&#x27;, &#x27;Contract&#x27;],\n",
       "               mapping=[{&#x27;col&#x27;: &#x27;InternetService&#x27;, &#x27;data_type&#x27;: dtype(&#x27;O&#x27;),\n",
       "                         &#x27;mapping&#x27;: None           0\n",
       "Fiber optic    3\n",
       "DSL            2\n",
       "No             1\n",
       "dtype: int64},\n",
       "                        {&#x27;col&#x27;: &#x27;Contract&#x27;, &#x27;data_type&#x27;: dtype(&#x27;O&#x27;),\n",
       "                         &#x27;mapping&#x27;: None              0\n",
       "Month-to-month    3\n",
       "One year          2\n",
       "Two year          1\n",
       "dtype: int64}])</pre></div></div></div></div></div></div><div class=\"sk-parallel-item\"><div class=\"sk-item\"><div class=\"sk-label-container\"><div class=\"sk-label sk-toggleable\"><input class=\"sk-toggleable__control sk-hidden--visually\" id=\"sk-estimator-id-19\" type=\"checkbox\" ><label for=\"sk-estimator-id-19\" class=\"sk-toggleable__label sk-toggleable__label-arrow\">remainder</label><div class=\"sk-toggleable__content\"><pre></pre></div></div></div><div class=\"sk-serial\"><div class=\"sk-item\"><div class=\"sk-estimator sk-toggleable\"><input class=\"sk-toggleable__control sk-hidden--visually\" id=\"sk-estimator-id-20\" type=\"checkbox\" ><label for=\"sk-estimator-id-20\" class=\"sk-toggleable__label sk-toggleable__label-arrow\">passthrough</label><div class=\"sk-toggleable__content\"><pre>passthrough</pre></div></div></div></div></div></div></div></div><div class=\"sk-item\"><div class=\"sk-estimator sk-toggleable\"><input class=\"sk-toggleable__control sk-hidden--visually\" id=\"sk-estimator-id-21\" type=\"checkbox\" ><label for=\"sk-estimator-id-21\" class=\"sk-toggleable__label sk-toggleable__label-arrow\">None</label><div class=\"sk-toggleable__content\"><pre>None</pre></div></div></div></div></div></div></div></div></div></div></div></div>"
      ],
      "text/plain": [
       "GridSearchCV(cv=StratifiedKFold(n_splits=5, random_state=None, shuffle=False),\n",
       "             estimator=Pipeline(steps=[('prepocessing',\n",
       "                                        ColumnTransformer(remainder='passthrough',\n",
       "                                                          transformers=[('scaling',\n",
       "                                                                         None,\n",
       "                                                                         ['tenure',\n",
       "                                                                          'MonthlyCharges']),\n",
       "                                                                        ('OHE',\n",
       "                                                                         OneHotEncoder(drop='first'),\n",
       "                                                                         ['Dependents',\n",
       "                                                                          'OnlineSecurity',\n",
       "                                                                          'OnlineBackup',\n",
       "                                                                          'DeviceProtection',\n",
       "                                                                          'TechSupport',\n",
       "                                                                          'PaperlessBilling...\n",
       "                                               num_parallel_tree=None,\n",
       "                                               random_state=22, ...),\n",
       "                                 GradientBoostingClassifier(random_state=22),\n",
       "                                 AdaBoostClassifier(estimator=LogisticRegression(class_weight='balanced',\n",
       "                                                                                 random_state=22),\n",
       "                                                    random_state=22),\n",
       "                                 LGBMClassifier(class_weight='balanced',\n",
       "                                                random_state=22)],\n",
       "                         'prepocessing__scaling': [MinMaxScaler()]},\n",
       "             return_train_score=True, scoring=make_scorer(fbeta_score, beta=2),\n",
       "             verbose=1)"
      ]
     },
     "execution_count": 23,
     "metadata": {},
     "output_type": "execute_result"
    }
   ],
   "source": [
    "grid_search_cv.fit(x_train, y_train)"
   ]
  },
  {
   "cell_type": "code",
   "execution_count": 24,
   "metadata": {},
   "outputs": [
    {
     "data": {
      "text/html": [
       "<div>\n",
       "<style scoped>\n",
       "    .dataframe tbody tr th:only-of-type {\n",
       "        vertical-align: middle;\n",
       "    }\n",
       "\n",
       "    .dataframe tbody tr th {\n",
       "        vertical-align: top;\n",
       "    }\n",
       "\n",
       "    .dataframe thead th {\n",
       "        text-align: right;\n",
       "    }\n",
       "</style>\n",
       "<table border=\"1\" class=\"dataframe\">\n",
       "  <thead>\n",
       "    <tr style=\"text-align: right;\">\n",
       "      <th></th>\n",
       "      <th>params</th>\n",
       "      <th>mean_test_score</th>\n",
       "      <th>mean_train_score</th>\n",
       "      <th>rank_test_score</th>\n",
       "    </tr>\n",
       "  </thead>\n",
       "  <tbody>\n",
       "    <tr>\n",
       "      <th>7</th>\n",
       "      <td>{'clf': AdaBoostClassifier(estimator=LogisticRegression(class_weight='balanced',\n",
       "                                                random_state=22),\n",
       "                   random_state=22), 'prepocessing__scaling': MinMaxScaler()}</td>\n",
       "      <td>0.723442</td>\n",
       "      <td>0.723550</td>\n",
       "      <td>1</td>\n",
       "    </tr>\n",
       "    <tr>\n",
       "      <th>0</th>\n",
       "      <td>{'clf': LogisticRegression(class_weight='balanced', random_state=22), 'prepocessing__scaling': MinMaxScaler()}</td>\n",
       "      <td>0.720966</td>\n",
       "      <td>0.722946</td>\n",
       "      <td>2</td>\n",
       "    </tr>\n",
       "    <tr>\n",
       "      <th>8</th>\n",
       "      <td>{'clf': LGBMClassifier(class_weight='balanced', random_state=22), 'prepocessing__scaling': MinMaxScaler()}</td>\n",
       "      <td>0.687604</td>\n",
       "      <td>0.904190</td>\n",
       "      <td>3</td>\n",
       "    </tr>\n",
       "    <tr>\n",
       "      <th>3</th>\n",
       "      <td>{'clf': &lt;catboost.core.CatBoostClassifier object at 0x000002363BB6CA30&gt;, 'prepocessing__scaling': MinMaxScaler()}</td>\n",
       "      <td>0.554513</td>\n",
       "      <td>0.689031</td>\n",
       "      <td>4</td>\n",
       "    </tr>\n",
       "    <tr>\n",
       "      <th>6</th>\n",
       "      <td>{'clf': GradientBoostingClassifier(random_state=22), 'prepocessing__scaling': MinMaxScaler()}</td>\n",
       "      <td>0.546879</td>\n",
       "      <td>0.621836</td>\n",
       "      <td>5</td>\n",
       "    </tr>\n",
       "    <tr>\n",
       "      <th>5</th>\n",
       "      <td>{'clf': XGBClassifier(base_score=None, booster=None, callbacks=None,\n",
       "              colsample_bylevel=None, colsample_bynode=None,\n",
       "              colsample_bytree=None, device='cuda', early_stopping_rounds=None,\n",
       "              enable_categorical=False, eval_metric=None, feature_types=None,\n",
       "              gamma=None, grow_policy=None, importance_type=None,\n",
       "              interaction_constraints=None, learning_rate=None, max_bin=None,\n",
       "              max_cat_threshold=None, max_cat_to_onehot=None,\n",
       "              max_delta_step=None, max_depth=None, max_leaves=None,\n",
       "              min_child_weight=None, missing=nan, monotone_constraints=None,\n",
       "              multi_strategy=None, n_estimators=None, n_jobs=None,\n",
       "              num_parallel_tree=None, random_state=22, ...), 'prepocessing__scaling': MinMaxScaler()}</td>\n",
       "      <td>0.545736</td>\n",
       "      <td>0.877090</td>\n",
       "      <td>6</td>\n",
       "    </tr>\n",
       "    <tr>\n",
       "      <th>1</th>\n",
       "      <td>{'clf': KNeighborsClassifier(), 'prepocessing__scaling': MinMaxScaler()}</td>\n",
       "      <td>0.514725</td>\n",
       "      <td>0.640196</td>\n",
       "      <td>7</td>\n",
       "    </tr>\n",
       "    <tr>\n",
       "      <th>4</th>\n",
       "      <td>{'clf': RandomForestClassifier(class_weight='balanced', random_state=22), 'prepocessing__scaling': MinMaxScaler()}</td>\n",
       "      <td>0.511185</td>\n",
       "      <td>0.994752</td>\n",
       "      <td>8</td>\n",
       "    </tr>\n",
       "    <tr>\n",
       "      <th>2</th>\n",
       "      <td>{'clf': DecisionTreeClassifier(class_weight='balanced', random_state=22), 'prepocessing__scaling': MinMaxScaler()}</td>\n",
       "      <td>0.506210</td>\n",
       "      <td>0.996181</td>\n",
       "      <td>9</td>\n",
       "    </tr>\n",
       "  </tbody>\n",
       "</table>\n",
       "</div>"
      ],
      "text/plain": [
       "                                                                                                                                                                                                                                                                                                                                                                                                                                                                                                                                                                                                                                                                                                                                                                                                                                    params  \\\n",
       "7                                                                                                                                                                                                                                                                                                                                                                                                                                                                                                                                                                                                         {'clf': AdaBoostClassifier(estimator=LogisticRegression(class_weight='balanced',\n",
       "                                                random_state=22),\n",
       "                   random_state=22), 'prepocessing__scaling': MinMaxScaler()}   \n",
       "0                                                                                                                                                                                                                                                                                                                                                                                                                                                                                                                                                                                                                                                                                                                           {'clf': LogisticRegression(class_weight='balanced', random_state=22), 'prepocessing__scaling': MinMaxScaler()}   \n",
       "8                                                                                                                                                                                                                                                                                                                                                                                                                                                                                                                                                                                                                                                                                                                               {'clf': LGBMClassifier(class_weight='balanced', random_state=22), 'prepocessing__scaling': MinMaxScaler()}   \n",
       "3                                                                                                                                                                                                                                                                                                                                                                                                                                                                                                                                                                                                                                                                                                                        {'clf': <catboost.core.CatBoostClassifier object at 0x000002363BB6CA30>, 'prepocessing__scaling': MinMaxScaler()}   \n",
       "6                                                                                                                                                                                                                                                                                                                                                                                                                                                                                                                                                                                                                                                                                                                                            {'clf': GradientBoostingClassifier(random_state=22), 'prepocessing__scaling': MinMaxScaler()}   \n",
       "5  {'clf': XGBClassifier(base_score=None, booster=None, callbacks=None,\n",
       "              colsample_bylevel=None, colsample_bynode=None,\n",
       "              colsample_bytree=None, device='cuda', early_stopping_rounds=None,\n",
       "              enable_categorical=False, eval_metric=None, feature_types=None,\n",
       "              gamma=None, grow_policy=None, importance_type=None,\n",
       "              interaction_constraints=None, learning_rate=None, max_bin=None,\n",
       "              max_cat_threshold=None, max_cat_to_onehot=None,\n",
       "              max_delta_step=None, max_depth=None, max_leaves=None,\n",
       "              min_child_weight=None, missing=nan, monotone_constraints=None,\n",
       "              multi_strategy=None, n_estimators=None, n_jobs=None,\n",
       "              num_parallel_tree=None, random_state=22, ...), 'prepocessing__scaling': MinMaxScaler()}   \n",
       "1                                                                                                                                                                                                                                                                                                                                                                                                                                                                                                                                                                                                                                                                                                                                                                 {'clf': KNeighborsClassifier(), 'prepocessing__scaling': MinMaxScaler()}   \n",
       "4                                                                                                                                                                                                                                                                                                                                                                                                                                                                                                                                                                                                                                                                                                                       {'clf': RandomForestClassifier(class_weight='balanced', random_state=22), 'prepocessing__scaling': MinMaxScaler()}   \n",
       "2                                                                                                                                                                                                                                                                                                                                                                                                                                                                                                                                                                                                                                                                                                                       {'clf': DecisionTreeClassifier(class_weight='balanced', random_state=22), 'prepocessing__scaling': MinMaxScaler()}   \n",
       "\n",
       "   mean_test_score  mean_train_score  rank_test_score  \n",
       "7         0.723442          0.723550                1  \n",
       "0         0.720966          0.722946                2  \n",
       "8         0.687604          0.904190                3  \n",
       "3         0.554513          0.689031                4  \n",
       "6         0.546879          0.621836                5  \n",
       "5         0.545736          0.877090                6  \n",
       "1         0.514725          0.640196                7  \n",
       "4         0.511185          0.994752                8  \n",
       "2         0.506210          0.996181                9  "
      ]
     },
     "execution_count": 24,
     "metadata": {},
     "output_type": "execute_result"
    }
   ],
   "source": [
    "cv_result = pd.DataFrame(grid_search_cv.cv_results_)\n",
    "cv_result[['params','mean_test_score','mean_train_score','rank_test_score']].sort_values('rank_test_score')"
   ]
  },
  {
   "cell_type": "markdown",
   "metadata": {},
   "source": [
    "Hasil pengujian menunjukkan bahwa model AdaBoostClassifier dan [LogisticRegression](https://www.analyticsvidhya.com/blog/2020/10/improve-class-imbalance-class-weights/) memiliki nilai f2score yang paling tinggi di antara model-model lainnya yang menggunakan hyperparameter default tanpa sampling. Hal ini terjadi karena kedua model tersebut menggunakan bobot kelas yang seimbang (class_weight = 'balanced')."
   ]
  },
  {
   "cell_type": "markdown",
   "metadata": {},
   "source": [
    "# Model Benchmark with Sampling"
   ]
  },
  {
   "cell_type": "markdown",
   "metadata": {},
   "source": [
    "Langkah selanjutnya, kita akan mencoba cara untuk menyeimbangkan data yang tidak seimbang. Caranya adalah dengan membuat lebih banyak data (Oversampling) untuk kelas yang jumlahnya sedikit. Dengan begitu, model pembelajaran mesin akan lebih mudah memahami pola dan variasi data dalam kelas tersebut.\n",
    "\n",
    "Metode Oversampling yang kita tentukan ada 3, yaitu RandomOverSampler, SMOTE dan ADASYN\n",
    "\n",
    "1. RandomOverSampler = metode oversampling yang paling sederhana. Metode ini bekerja dengan menduplikasi sampel dari kelas minoritas secara acak.\n",
    "2. SMOTE (Synthetic Minority Over-sampling Technique) = metode oversampling yang lebih kompleks daripada RandomOverSampler. Metode ini bekerja dengan membuat sampel sintetis dari kelas minoritas.\n",
    "3. ADASYN (Adaptive Synthetic Sampling Approach for Imbalanced Learning) = metode oversampling yang merupakan pengembangan metode SMOTE. Metode ini bekerja dengan membuat sampel sintetis dari kelas minoritas dengan cara menyesuaikan jumlah sampel sintetis yang dibuat dengan tingkat kesulitan klasifikasi.\n",
    "\n",
    "[*sumber 1*](https://imbalanced-learn.org/stable/over_sampling.html)<br>\n",
    "[*sumber 2*](https://machinelearningmastery.com/smote-oversampling-for-imbalanced-classification/)<br>\n",
    "[*sumber 3*](https://ieeexplore.ieee.org/document/4633969)"
   ]
  },
  {
   "cell_type": "markdown",
   "metadata": {},
   "source": [
    "## Logistic Regression, KNN, Decision Tree"
   ]
  },
  {
   "cell_type": "code",
   "execution_count": 25,
   "metadata": {},
   "outputs": [],
   "source": [
    "model = None\n",
    "pipe_balance = imb_pipeline([\n",
    "    ('prepocessing', transformer),\n",
    "    ('sampling', None),\n",
    "    ('clf', model)\n",
    "])"
   ]
  },
  {
   "cell_type": "code",
   "execution_count": 26,
   "metadata": {},
   "outputs": [],
   "source": [
    "model_search = {\n",
    "    'clf' : [logreg, knn, dt],\n",
    "    'prepocessing__scaling' : [MinMaxScaler()],\n",
    "    'sampling' : [RandomOverSampler(random_state=48),\n",
    "                  SMOTE(random_state=48),\n",
    "                  ADASYN(random_state=48)\n",
    "                  ]\n",
    "} \n",
    "\n",
    "grid_search_cv_balance = GridSearchCV(\n",
    "    estimator = pipe_balance,\n",
    "    param_grid = model_search,\n",
    "    scoring = f2,\n",
    "    verbose=1,  # setiap proses dikeluarkan\n",
    "    return_train_score=True,\n",
    "    cv = StratifiedKFold(),\n",
    "    n_jobs=-1\n",
    ")\n"
   ]
  },
  {
   "cell_type": "code",
   "execution_count": 27,
   "metadata": {},
   "outputs": [
    {
     "name": "stdout",
     "output_type": "stream",
     "text": [
      "Fitting 5 folds for each of 9 candidates, totalling 45 fits\n"
     ]
    },
    {
     "data": {
      "text/html": [
       "<style>#sk-container-id-3 {color: black;}#sk-container-id-3 pre{padding: 0;}#sk-container-id-3 div.sk-toggleable {background-color: white;}#sk-container-id-3 label.sk-toggleable__label {cursor: pointer;display: block;width: 100%;margin-bottom: 0;padding: 0.3em;box-sizing: border-box;text-align: center;}#sk-container-id-3 label.sk-toggleable__label-arrow:before {content: \"▸\";float: left;margin-right: 0.25em;color: #696969;}#sk-container-id-3 label.sk-toggleable__label-arrow:hover:before {color: black;}#sk-container-id-3 div.sk-estimator:hover label.sk-toggleable__label-arrow:before {color: black;}#sk-container-id-3 div.sk-toggleable__content {max-height: 0;max-width: 0;overflow: hidden;text-align: left;background-color: #f0f8ff;}#sk-container-id-3 div.sk-toggleable__content pre {margin: 0.2em;color: black;border-radius: 0.25em;background-color: #f0f8ff;}#sk-container-id-3 input.sk-toggleable__control:checked~div.sk-toggleable__content {max-height: 200px;max-width: 100%;overflow: auto;}#sk-container-id-3 input.sk-toggleable__control:checked~label.sk-toggleable__label-arrow:before {content: \"▾\";}#sk-container-id-3 div.sk-estimator input.sk-toggleable__control:checked~label.sk-toggleable__label {background-color: #d4ebff;}#sk-container-id-3 div.sk-label input.sk-toggleable__control:checked~label.sk-toggleable__label {background-color: #d4ebff;}#sk-container-id-3 input.sk-hidden--visually {border: 0;clip: rect(1px 1px 1px 1px);clip: rect(1px, 1px, 1px, 1px);height: 1px;margin: -1px;overflow: hidden;padding: 0;position: absolute;width: 1px;}#sk-container-id-3 div.sk-estimator {font-family: monospace;background-color: #f0f8ff;border: 1px dotted black;border-radius: 0.25em;box-sizing: border-box;margin-bottom: 0.5em;}#sk-container-id-3 div.sk-estimator:hover {background-color: #d4ebff;}#sk-container-id-3 div.sk-parallel-item::after {content: \"\";width: 100%;border-bottom: 1px solid gray;flex-grow: 1;}#sk-container-id-3 div.sk-label:hover label.sk-toggleable__label {background-color: #d4ebff;}#sk-container-id-3 div.sk-serial::before {content: \"\";position: absolute;border-left: 1px solid gray;box-sizing: border-box;top: 0;bottom: 0;left: 50%;z-index: 0;}#sk-container-id-3 div.sk-serial {display: flex;flex-direction: column;align-items: center;background-color: white;padding-right: 0.2em;padding-left: 0.2em;position: relative;}#sk-container-id-3 div.sk-item {position: relative;z-index: 1;}#sk-container-id-3 div.sk-parallel {display: flex;align-items: stretch;justify-content: center;background-color: white;position: relative;}#sk-container-id-3 div.sk-item::before, #sk-container-id-3 div.sk-parallel-item::before {content: \"\";position: absolute;border-left: 1px solid gray;box-sizing: border-box;top: 0;bottom: 0;left: 50%;z-index: -1;}#sk-container-id-3 div.sk-parallel-item {display: flex;flex-direction: column;z-index: 1;position: relative;background-color: white;}#sk-container-id-3 div.sk-parallel-item:first-child::after {align-self: flex-end;width: 50%;}#sk-container-id-3 div.sk-parallel-item:last-child::after {align-self: flex-start;width: 50%;}#sk-container-id-3 div.sk-parallel-item:only-child::after {width: 0;}#sk-container-id-3 div.sk-dashed-wrapped {border: 1px dashed gray;margin: 0 0.4em 0.5em 0.4em;box-sizing: border-box;padding-bottom: 0.4em;background-color: white;}#sk-container-id-3 div.sk-label label {font-family: monospace;font-weight: bold;display: inline-block;line-height: 1.2em;}#sk-container-id-3 div.sk-label-container {text-align: center;}#sk-container-id-3 div.sk-container {/* jupyter's `normalize.less` sets `[hidden] { display: none; }` but bootstrap.min.css set `[hidden] { display: none !important; }` so we also need the `!important` here to be able to override the default hidden behavior on the sphinx rendered scikit-learn.org. See: https://github.com/scikit-learn/scikit-learn/issues/21755 */display: inline-block !important;position: relative;}#sk-container-id-3 div.sk-text-repr-fallback {display: none;}</style><div id=\"sk-container-id-3\" class=\"sk-top-container\"><div class=\"sk-text-repr-fallback\"><pre>GridSearchCV(cv=StratifiedKFold(n_splits=5, random_state=None, shuffle=False),\n",
       "             estimator=Pipeline(steps=[(&#x27;prepocessing&#x27;,\n",
       "                                        ColumnTransformer(remainder=&#x27;passthrough&#x27;,\n",
       "                                                          transformers=[(&#x27;scaling&#x27;,\n",
       "                                                                         None,\n",
       "                                                                         [&#x27;tenure&#x27;,\n",
       "                                                                          &#x27;MonthlyCharges&#x27;]),\n",
       "                                                                        (&#x27;OHE&#x27;,\n",
       "                                                                         OneHotEncoder(drop=&#x27;first&#x27;),\n",
       "                                                                         [&#x27;Dependents&#x27;,\n",
       "                                                                          &#x27;OnlineSecurity&#x27;,\n",
       "                                                                          &#x27;OnlineBackup&#x27;,\n",
       "                                                                          &#x27;DeviceProtection&#x27;,\n",
       "                                                                          &#x27;TechSupport&#x27;,\n",
       "                                                                          &#x27;PaperlessBilling...\n",
       "             param_grid={&#x27;clf&#x27;: [LogisticRegression(class_weight=&#x27;balanced&#x27;,\n",
       "                                                    random_state=22),\n",
       "                                 KNeighborsClassifier(),\n",
       "                                 DecisionTreeClassifier(class_weight=&#x27;balanced&#x27;,\n",
       "                                                        random_state=22)],\n",
       "                         &#x27;prepocessing__scaling&#x27;: [MinMaxScaler()],\n",
       "                         &#x27;sampling&#x27;: [RandomOverSampler(random_state=48),\n",
       "                                      SMOTE(random_state=48),\n",
       "                                      ADASYN(random_state=48)]},\n",
       "             return_train_score=True, scoring=make_scorer(fbeta_score, beta=2),\n",
       "             verbose=1)</pre><b>In a Jupyter environment, please rerun this cell to show the HTML representation or trust the notebook. <br />On GitHub, the HTML representation is unable to render, please try loading this page with nbviewer.org.</b></div><div class=\"sk-container\" hidden><div class=\"sk-item sk-dashed-wrapped\"><div class=\"sk-label-container\"><div class=\"sk-label sk-toggleable\"><input class=\"sk-toggleable__control sk-hidden--visually\" id=\"sk-estimator-id-22\" type=\"checkbox\" ><label for=\"sk-estimator-id-22\" class=\"sk-toggleable__label sk-toggleable__label-arrow\">GridSearchCV</label><div class=\"sk-toggleable__content\"><pre>GridSearchCV(cv=StratifiedKFold(n_splits=5, random_state=None, shuffle=False),\n",
       "             estimator=Pipeline(steps=[(&#x27;prepocessing&#x27;,\n",
       "                                        ColumnTransformer(remainder=&#x27;passthrough&#x27;,\n",
       "                                                          transformers=[(&#x27;scaling&#x27;,\n",
       "                                                                         None,\n",
       "                                                                         [&#x27;tenure&#x27;,\n",
       "                                                                          &#x27;MonthlyCharges&#x27;]),\n",
       "                                                                        (&#x27;OHE&#x27;,\n",
       "                                                                         OneHotEncoder(drop=&#x27;first&#x27;),\n",
       "                                                                         [&#x27;Dependents&#x27;,\n",
       "                                                                          &#x27;OnlineSecurity&#x27;,\n",
       "                                                                          &#x27;OnlineBackup&#x27;,\n",
       "                                                                          &#x27;DeviceProtection&#x27;,\n",
       "                                                                          &#x27;TechSupport&#x27;,\n",
       "                                                                          &#x27;PaperlessBilling...\n",
       "             param_grid={&#x27;clf&#x27;: [LogisticRegression(class_weight=&#x27;balanced&#x27;,\n",
       "                                                    random_state=22),\n",
       "                                 KNeighborsClassifier(),\n",
       "                                 DecisionTreeClassifier(class_weight=&#x27;balanced&#x27;,\n",
       "                                                        random_state=22)],\n",
       "                         &#x27;prepocessing__scaling&#x27;: [MinMaxScaler()],\n",
       "                         &#x27;sampling&#x27;: [RandomOverSampler(random_state=48),\n",
       "                                      SMOTE(random_state=48),\n",
       "                                      ADASYN(random_state=48)]},\n",
       "             return_train_score=True, scoring=make_scorer(fbeta_score, beta=2),\n",
       "             verbose=1)</pre></div></div></div><div class=\"sk-parallel\"><div class=\"sk-parallel-item\"><div class=\"sk-item\"><div class=\"sk-label-container\"><div class=\"sk-label sk-toggleable\"><input class=\"sk-toggleable__control sk-hidden--visually\" id=\"sk-estimator-id-23\" type=\"checkbox\" ><label for=\"sk-estimator-id-23\" class=\"sk-toggleable__label sk-toggleable__label-arrow\">estimator: Pipeline</label><div class=\"sk-toggleable__content\"><pre>Pipeline(steps=[(&#x27;prepocessing&#x27;,\n",
       "                 ColumnTransformer(remainder=&#x27;passthrough&#x27;,\n",
       "                                   transformers=[(&#x27;scaling&#x27;, None,\n",
       "                                                  [&#x27;tenure&#x27;, &#x27;MonthlyCharges&#x27;]),\n",
       "                                                 (&#x27;OHE&#x27;,\n",
       "                                                  OneHotEncoder(drop=&#x27;first&#x27;),\n",
       "                                                  [&#x27;Dependents&#x27;,\n",
       "                                                   &#x27;OnlineSecurity&#x27;,\n",
       "                                                   &#x27;OnlineBackup&#x27;,\n",
       "                                                   &#x27;DeviceProtection&#x27;,\n",
       "                                                   &#x27;TechSupport&#x27;,\n",
       "                                                   &#x27;PaperlessBilling&#x27;]),\n",
       "                                                 (&#x27;ordinal&#x27;,\n",
       "                                                  OrdinalEncoder(cols=[&#x27;InternetService&#x27;,\n",
       "                                                                       &#x27;Contract&#x27;],\n",
       "                                                                 mapping=[{&#x27;col&#x27;: &#x27;InternetService&#x27;,\n",
       "                                                                           &#x27;data_type&#x27;: dtype(&#x27;O&#x27;),\n",
       "                                                                           &#x27;mapping&#x27;: None           0\n",
       "Fiber optic    3\n",
       "DSL            2\n",
       "No             1\n",
       "dtype: int64},\n",
       "                                                                          {&#x27;col&#x27;: &#x27;Contract&#x27;,\n",
       "                                                                           &#x27;data_type&#x27;: dtype(&#x27;O&#x27;),\n",
       "                                                                           &#x27;mapping&#x27;: None              0\n",
       "Month-to-month    3\n",
       "One year          2\n",
       "Two year          1\n",
       "dtype: int64}]),\n",
       "                                                  [&#x27;InternetService&#x27;,\n",
       "                                                   &#x27;Contract&#x27;])])),\n",
       "                (&#x27;sampling&#x27;, None), (&#x27;clf&#x27;, None)])</pre></div></div></div><div class=\"sk-serial\"><div class=\"sk-item\"><div class=\"sk-serial\"><div class=\"sk-item sk-dashed-wrapped\"><div class=\"sk-label-container\"><div class=\"sk-label sk-toggleable\"><input class=\"sk-toggleable__control sk-hidden--visually\" id=\"sk-estimator-id-24\" type=\"checkbox\" ><label for=\"sk-estimator-id-24\" class=\"sk-toggleable__label sk-toggleable__label-arrow\">prepocessing: ColumnTransformer</label><div class=\"sk-toggleable__content\"><pre>ColumnTransformer(remainder=&#x27;passthrough&#x27;,\n",
       "                  transformers=[(&#x27;scaling&#x27;, None, [&#x27;tenure&#x27;, &#x27;MonthlyCharges&#x27;]),\n",
       "                                (&#x27;OHE&#x27;, OneHotEncoder(drop=&#x27;first&#x27;),\n",
       "                                 [&#x27;Dependents&#x27;, &#x27;OnlineSecurity&#x27;,\n",
       "                                  &#x27;OnlineBackup&#x27;, &#x27;DeviceProtection&#x27;,\n",
       "                                  &#x27;TechSupport&#x27;, &#x27;PaperlessBilling&#x27;]),\n",
       "                                (&#x27;ordinal&#x27;,\n",
       "                                 OrdinalEncoder(cols=[&#x27;InternetService&#x27;,\n",
       "                                                      &#x27;Contract&#x27;],\n",
       "                                                mapping=[{&#x27;col&#x27;: &#x27;InternetService&#x27;,\n",
       "                                                          &#x27;data_type&#x27;: dtype(&#x27;O&#x27;),\n",
       "                                                          &#x27;mapping&#x27;: None           0\n",
       "Fiber optic    3\n",
       "DSL            2\n",
       "No             1\n",
       "dtype: int64},\n",
       "                                                         {&#x27;col&#x27;: &#x27;Contract&#x27;,\n",
       "                                                          &#x27;data_type&#x27;: dtype(&#x27;O&#x27;),\n",
       "                                                          &#x27;mapping&#x27;: None              0\n",
       "Month-to-month    3\n",
       "One year          2\n",
       "Two year          1\n",
       "dtype: int64}]),\n",
       "                                 [&#x27;InternetService&#x27;, &#x27;Contract&#x27;])])</pre></div></div></div><div class=\"sk-parallel\"><div class=\"sk-parallel-item\"><div class=\"sk-item\"><div class=\"sk-label-container\"><div class=\"sk-label sk-toggleable\"><input class=\"sk-toggleable__control sk-hidden--visually\" id=\"sk-estimator-id-25\" type=\"checkbox\" ><label for=\"sk-estimator-id-25\" class=\"sk-toggleable__label sk-toggleable__label-arrow\">scaling</label><div class=\"sk-toggleable__content\"><pre>[&#x27;tenure&#x27;, &#x27;MonthlyCharges&#x27;]</pre></div></div></div><div class=\"sk-serial\"><div class=\"sk-item\"><div class=\"sk-estimator sk-toggleable\"><input class=\"sk-toggleable__control sk-hidden--visually\" id=\"sk-estimator-id-26\" type=\"checkbox\" ><label for=\"sk-estimator-id-26\" class=\"sk-toggleable__label sk-toggleable__label-arrow\">None</label><div class=\"sk-toggleable__content\"><pre>None</pre></div></div></div></div></div></div><div class=\"sk-parallel-item\"><div class=\"sk-item\"><div class=\"sk-label-container\"><div class=\"sk-label sk-toggleable\"><input class=\"sk-toggleable__control sk-hidden--visually\" id=\"sk-estimator-id-27\" type=\"checkbox\" ><label for=\"sk-estimator-id-27\" class=\"sk-toggleable__label sk-toggleable__label-arrow\">OHE</label><div class=\"sk-toggleable__content\"><pre>[&#x27;Dependents&#x27;, &#x27;OnlineSecurity&#x27;, &#x27;OnlineBackup&#x27;, &#x27;DeviceProtection&#x27;, &#x27;TechSupport&#x27;, &#x27;PaperlessBilling&#x27;]</pre></div></div></div><div class=\"sk-serial\"><div class=\"sk-item\"><div class=\"sk-estimator sk-toggleable\"><input class=\"sk-toggleable__control sk-hidden--visually\" id=\"sk-estimator-id-28\" type=\"checkbox\" ><label for=\"sk-estimator-id-28\" class=\"sk-toggleable__label sk-toggleable__label-arrow\">OneHotEncoder</label><div class=\"sk-toggleable__content\"><pre>OneHotEncoder(drop=&#x27;first&#x27;)</pre></div></div></div></div></div></div><div class=\"sk-parallel-item\"><div class=\"sk-item\"><div class=\"sk-label-container\"><div class=\"sk-label sk-toggleable\"><input class=\"sk-toggleable__control sk-hidden--visually\" id=\"sk-estimator-id-29\" type=\"checkbox\" ><label for=\"sk-estimator-id-29\" class=\"sk-toggleable__label sk-toggleable__label-arrow\">ordinal</label><div class=\"sk-toggleable__content\"><pre>[&#x27;InternetService&#x27;, &#x27;Contract&#x27;]</pre></div></div></div><div class=\"sk-serial\"><div class=\"sk-item\"><div class=\"sk-estimator sk-toggleable\"><input class=\"sk-toggleable__control sk-hidden--visually\" id=\"sk-estimator-id-30\" type=\"checkbox\" ><label for=\"sk-estimator-id-30\" class=\"sk-toggleable__label sk-toggleable__label-arrow\">OrdinalEncoder</label><div class=\"sk-toggleable__content\"><pre>OrdinalEncoder(cols=[&#x27;InternetService&#x27;, &#x27;Contract&#x27;],\n",
       "               mapping=[{&#x27;col&#x27;: &#x27;InternetService&#x27;, &#x27;data_type&#x27;: dtype(&#x27;O&#x27;),\n",
       "                         &#x27;mapping&#x27;: None           0\n",
       "Fiber optic    3\n",
       "DSL            2\n",
       "No             1\n",
       "dtype: int64},\n",
       "                        {&#x27;col&#x27;: &#x27;Contract&#x27;, &#x27;data_type&#x27;: dtype(&#x27;O&#x27;),\n",
       "                         &#x27;mapping&#x27;: None              0\n",
       "Month-to-month    3\n",
       "One year          2\n",
       "Two year          1\n",
       "dtype: int64}])</pre></div></div></div></div></div></div><div class=\"sk-parallel-item\"><div class=\"sk-item\"><div class=\"sk-label-container\"><div class=\"sk-label sk-toggleable\"><input class=\"sk-toggleable__control sk-hidden--visually\" id=\"sk-estimator-id-31\" type=\"checkbox\" ><label for=\"sk-estimator-id-31\" class=\"sk-toggleable__label sk-toggleable__label-arrow\">remainder</label><div class=\"sk-toggleable__content\"><pre></pre></div></div></div><div class=\"sk-serial\"><div class=\"sk-item\"><div class=\"sk-estimator sk-toggleable\"><input class=\"sk-toggleable__control sk-hidden--visually\" id=\"sk-estimator-id-32\" type=\"checkbox\" ><label for=\"sk-estimator-id-32\" class=\"sk-toggleable__label sk-toggleable__label-arrow\">passthrough</label><div class=\"sk-toggleable__content\"><pre>passthrough</pre></div></div></div></div></div></div></div></div><div class=\"sk-item\"><div class=\"sk-estimator sk-toggleable\"><input class=\"sk-toggleable__control sk-hidden--visually\" id=\"sk-estimator-id-33\" type=\"checkbox\" ><label for=\"sk-estimator-id-33\" class=\"sk-toggleable__label sk-toggleable__label-arrow\">None</label><div class=\"sk-toggleable__content\"><pre>None</pre></div></div></div><div class=\"sk-item\"><div class=\"sk-estimator sk-toggleable\"><input class=\"sk-toggleable__control sk-hidden--visually\" id=\"sk-estimator-id-34\" type=\"checkbox\" ><label for=\"sk-estimator-id-34\" class=\"sk-toggleable__label sk-toggleable__label-arrow\">None</label><div class=\"sk-toggleable__content\"><pre>None</pre></div></div></div></div></div></div></div></div></div></div></div></div>"
      ],
      "text/plain": [
       "GridSearchCV(cv=StratifiedKFold(n_splits=5, random_state=None, shuffle=False),\n",
       "             estimator=Pipeline(steps=[('prepocessing',\n",
       "                                        ColumnTransformer(remainder='passthrough',\n",
       "                                                          transformers=[('scaling',\n",
       "                                                                         None,\n",
       "                                                                         ['tenure',\n",
       "                                                                          'MonthlyCharges']),\n",
       "                                                                        ('OHE',\n",
       "                                                                         OneHotEncoder(drop='first'),\n",
       "                                                                         ['Dependents',\n",
       "                                                                          'OnlineSecurity',\n",
       "                                                                          'OnlineBackup',\n",
       "                                                                          'DeviceProtection',\n",
       "                                                                          'TechSupport',\n",
       "                                                                          'PaperlessBilling...\n",
       "             param_grid={'clf': [LogisticRegression(class_weight='balanced',\n",
       "                                                    random_state=22),\n",
       "                                 KNeighborsClassifier(),\n",
       "                                 DecisionTreeClassifier(class_weight='balanced',\n",
       "                                                        random_state=22)],\n",
       "                         'prepocessing__scaling': [MinMaxScaler()],\n",
       "                         'sampling': [RandomOverSampler(random_state=48),\n",
       "                                      SMOTE(random_state=48),\n",
       "                                      ADASYN(random_state=48)]},\n",
       "             return_train_score=True, scoring=make_scorer(fbeta_score, beta=2),\n",
       "             verbose=1)"
      ]
     },
     "execution_count": 27,
     "metadata": {},
     "output_type": "execute_result"
    }
   ],
   "source": [
    "grid_search_cv_balance.fit(x_train, y_train)"
   ]
  },
  {
   "cell_type": "code",
   "execution_count": 28,
   "metadata": {},
   "outputs": [
    {
     "name": "stdout",
     "output_type": "stream",
     "text": [
      "best score = 0.7308106482482198\n"
     ]
    },
    {
     "data": {
      "text/plain": [
       "{'clf': LogisticRegression(class_weight='balanced', random_state=22),\n",
       " 'prepocessing__scaling': MinMaxScaler(),\n",
       " 'sampling': ADASYN(random_state=48)}"
      ]
     },
     "execution_count": 28,
     "metadata": {},
     "output_type": "execute_result"
    }
   ],
   "source": [
    "print(f\"best score = {grid_search_cv_balance.best_score_}\")\n",
    "grid_search_cv_balance.best_params_"
   ]
  },
  {
   "cell_type": "code",
   "execution_count": 29,
   "metadata": {},
   "outputs": [
    {
     "data": {
      "text/html": [
       "<div>\n",
       "<style scoped>\n",
       "    .dataframe tbody tr th:only-of-type {\n",
       "        vertical-align: middle;\n",
       "    }\n",
       "\n",
       "    .dataframe tbody tr th {\n",
       "        vertical-align: top;\n",
       "    }\n",
       "\n",
       "    .dataframe thead th {\n",
       "        text-align: right;\n",
       "    }\n",
       "</style>\n",
       "<table border=\"1\" class=\"dataframe\">\n",
       "  <thead>\n",
       "    <tr style=\"text-align: right;\">\n",
       "      <th></th>\n",
       "      <th>params</th>\n",
       "      <th>mean_test_score</th>\n",
       "      <th>mean_train_score</th>\n",
       "      <th>rank_test_score</th>\n",
       "    </tr>\n",
       "  </thead>\n",
       "  <tbody>\n",
       "    <tr>\n",
       "      <th>2</th>\n",
       "      <td>{'clf': LogisticRegression(class_weight='balanced', random_state=22), 'prepocessing__scaling': MinMaxScaler(), 'sampling': ADASYN(random_state=48)}</td>\n",
       "      <td>0.730811</td>\n",
       "      <td>0.731468</td>\n",
       "      <td>1</td>\n",
       "    </tr>\n",
       "    <tr>\n",
       "      <th>0</th>\n",
       "      <td>{'clf': LogisticRegression(class_weight='balanced', random_state=22), 'prepocessing__scaling': MinMaxScaler(), 'sampling': RandomOverSampler(random_state=48)}</td>\n",
       "      <td>0.719314</td>\n",
       "      <td>0.720267</td>\n",
       "      <td>2</td>\n",
       "    </tr>\n",
       "    <tr>\n",
       "      <th>1</th>\n",
       "      <td>{'clf': LogisticRegression(class_weight='balanced', random_state=22), 'prepocessing__scaling': MinMaxScaler(), 'sampling': SMOTE(random_state=48)}</td>\n",
       "      <td>0.718959</td>\n",
       "      <td>0.719754</td>\n",
       "      <td>3</td>\n",
       "    </tr>\n",
       "    <tr>\n",
       "      <th>5</th>\n",
       "      <td>{'clf': KNeighborsClassifier(), 'prepocessing__scaling': MinMaxScaler(), 'sampling': ADASYN(random_state=48)}</td>\n",
       "      <td>0.664173</td>\n",
       "      <td>0.835008</td>\n",
       "      <td>4</td>\n",
       "    </tr>\n",
       "    <tr>\n",
       "      <th>3</th>\n",
       "      <td>{'clf': KNeighborsClassifier(), 'prepocessing__scaling': MinMaxScaler(), 'sampling': RandomOverSampler(random_state=48)}</td>\n",
       "      <td>0.648698</td>\n",
       "      <td>0.812396</td>\n",
       "      <td>5</td>\n",
       "    </tr>\n",
       "    <tr>\n",
       "      <th>4</th>\n",
       "      <td>{'clf': KNeighborsClassifier(), 'prepocessing__scaling': MinMaxScaler(), 'sampling': SMOTE(random_state=48)}</td>\n",
       "      <td>0.641443</td>\n",
       "      <td>0.799158</td>\n",
       "      <td>6</td>\n",
       "    </tr>\n",
       "    <tr>\n",
       "      <th>7</th>\n",
       "      <td>{'clf': DecisionTreeClassifier(class_weight='balanced', random_state=22), 'prepocessing__scaling': MinMaxScaler(), 'sampling': SMOTE(random_state=48)}</td>\n",
       "      <td>0.558001</td>\n",
       "      <td>0.984602</td>\n",
       "      <td>7</td>\n",
       "    </tr>\n",
       "    <tr>\n",
       "      <th>8</th>\n",
       "      <td>{'clf': DecisionTreeClassifier(class_weight='balanced', random_state=22), 'prepocessing__scaling': MinMaxScaler(), 'sampling': ADASYN(random_state=48)}</td>\n",
       "      <td>0.547762</td>\n",
       "      <td>0.990933</td>\n",
       "      <td>8</td>\n",
       "    </tr>\n",
       "    <tr>\n",
       "      <th>6</th>\n",
       "      <td>{'clf': DecisionTreeClassifier(class_weight='balanced', random_state=22), 'prepocessing__scaling': MinMaxScaler(), 'sampling': RandomOverSampler(random_state=48)}</td>\n",
       "      <td>0.512712</td>\n",
       "      <td>0.994647</td>\n",
       "      <td>9</td>\n",
       "    </tr>\n",
       "  </tbody>\n",
       "</table>\n",
       "</div>"
      ],
      "text/plain": [
       "                                                                                                                                                               params  \\\n",
       "2                 {'clf': LogisticRegression(class_weight='balanced', random_state=22), 'prepocessing__scaling': MinMaxScaler(), 'sampling': ADASYN(random_state=48)}   \n",
       "0      {'clf': LogisticRegression(class_weight='balanced', random_state=22), 'prepocessing__scaling': MinMaxScaler(), 'sampling': RandomOverSampler(random_state=48)}   \n",
       "1                  {'clf': LogisticRegression(class_weight='balanced', random_state=22), 'prepocessing__scaling': MinMaxScaler(), 'sampling': SMOTE(random_state=48)}   \n",
       "5                                                       {'clf': KNeighborsClassifier(), 'prepocessing__scaling': MinMaxScaler(), 'sampling': ADASYN(random_state=48)}   \n",
       "3                                            {'clf': KNeighborsClassifier(), 'prepocessing__scaling': MinMaxScaler(), 'sampling': RandomOverSampler(random_state=48)}   \n",
       "4                                                        {'clf': KNeighborsClassifier(), 'prepocessing__scaling': MinMaxScaler(), 'sampling': SMOTE(random_state=48)}   \n",
       "7              {'clf': DecisionTreeClassifier(class_weight='balanced', random_state=22), 'prepocessing__scaling': MinMaxScaler(), 'sampling': SMOTE(random_state=48)}   \n",
       "8             {'clf': DecisionTreeClassifier(class_weight='balanced', random_state=22), 'prepocessing__scaling': MinMaxScaler(), 'sampling': ADASYN(random_state=48)}   \n",
       "6  {'clf': DecisionTreeClassifier(class_weight='balanced', random_state=22), 'prepocessing__scaling': MinMaxScaler(), 'sampling': RandomOverSampler(random_state=48)}   \n",
       "\n",
       "   mean_test_score  mean_train_score  rank_test_score  \n",
       "2         0.730811          0.731468                1  \n",
       "0         0.719314          0.720267                2  \n",
       "1         0.718959          0.719754                3  \n",
       "5         0.664173          0.835008                4  \n",
       "3         0.648698          0.812396                5  \n",
       "4         0.641443          0.799158                6  \n",
       "7         0.558001          0.984602                7  \n",
       "8         0.547762          0.990933                8  \n",
       "6         0.512712          0.994647                9  "
      ]
     },
     "execution_count": 29,
     "metadata": {},
     "output_type": "execute_result"
    }
   ],
   "source": [
    "cv_result = pd.DataFrame(grid_search_cv_balance.cv_results_)\n",
    "cv_result[['params','mean_test_score','mean_train_score','rank_test_score']].sort_values('rank_test_score')"
   ]
  },
  {
   "cell_type": "markdown",
   "metadata": {},
   "source": [
    "Dapat kita lihat setelah dilakukan resampling menggunakan metode OverSampling, diantara model berikut : `LogisticRegression`, `KNeighborsClassifier` dan `DecisionTreeClassifier` mendapatkan hasil bahwa `LogisticRegression` menempati 3 teratas dengan **mean_test_score** yang memiliki nilai > 0.70 dibandingkan 2 model lainnya.\n",
    "\n",
    "dapat kita lihat juga `DecisionTreeClassifier` memiliki **mean_train_score** > 0.90, akan tetapi bisa kita lihat bahwa nilai\n",
    "**mean_test_score** < 0.60 alias **Overfitting**, bisa kita simpulkan bahwa `DecisionTreeClassifier` gampang mendapatkan nilai training yang bagus karena model ini akan terus membagi data menjadi sub-sub data yang lebih kecil dan lebih homogen. Hal ini menyebabkan model menjadi sangat spesifik terhadap data Training. Akibatnya, model akan kesulitan untuk menggeneralisasi pada data Testing yang belum pernah dilihat sebelumnya."
   ]
  },
  {
   "cell_type": "markdown",
   "metadata": {},
   "source": [
    "## Ensemble Model"
   ]
  },
  {
   "cell_type": "code",
   "execution_count": 30,
   "metadata": {},
   "outputs": [],
   "source": [
    "model_search = {\n",
    "    'clf' : [cat, rf, xgb, lgbm, adaboost, gds],\n",
    "    'prepocessing__scaling' : [MinMaxScaler()],\n",
    "    'sampling' : [RandomOverSampler(random_state=48),\n",
    "                  ADASYN(random_state=48),\n",
    "                  SMOTE(random_state=48)\n",
    "                  ]\n",
    "} \n",
    "\n",
    "grid_search_cv_balance_ensemble = GridSearchCV(\n",
    "    estimator = pipe_balance,\n",
    "    param_grid = model_search,\n",
    "    scoring = f2,\n",
    "    verbose=0,  # setiap proses dikeluarkan\n",
    "    return_train_score=True,\n",
    "    cv = StratifiedKFold(),\n",
    "    n_jobs=-1\n",
    ")\n"
   ]
  },
  {
   "cell_type": "code",
   "execution_count": 31,
   "metadata": {},
   "outputs": [
    {
     "data": {
      "text/html": [
       "<style>#sk-container-id-4 {color: black;}#sk-container-id-4 pre{padding: 0;}#sk-container-id-4 div.sk-toggleable {background-color: white;}#sk-container-id-4 label.sk-toggleable__label {cursor: pointer;display: block;width: 100%;margin-bottom: 0;padding: 0.3em;box-sizing: border-box;text-align: center;}#sk-container-id-4 label.sk-toggleable__label-arrow:before {content: \"▸\";float: left;margin-right: 0.25em;color: #696969;}#sk-container-id-4 label.sk-toggleable__label-arrow:hover:before {color: black;}#sk-container-id-4 div.sk-estimator:hover label.sk-toggleable__label-arrow:before {color: black;}#sk-container-id-4 div.sk-toggleable__content {max-height: 0;max-width: 0;overflow: hidden;text-align: left;background-color: #f0f8ff;}#sk-container-id-4 div.sk-toggleable__content pre {margin: 0.2em;color: black;border-radius: 0.25em;background-color: #f0f8ff;}#sk-container-id-4 input.sk-toggleable__control:checked~div.sk-toggleable__content {max-height: 200px;max-width: 100%;overflow: auto;}#sk-container-id-4 input.sk-toggleable__control:checked~label.sk-toggleable__label-arrow:before {content: \"▾\";}#sk-container-id-4 div.sk-estimator input.sk-toggleable__control:checked~label.sk-toggleable__label {background-color: #d4ebff;}#sk-container-id-4 div.sk-label input.sk-toggleable__control:checked~label.sk-toggleable__label {background-color: #d4ebff;}#sk-container-id-4 input.sk-hidden--visually {border: 0;clip: rect(1px 1px 1px 1px);clip: rect(1px, 1px, 1px, 1px);height: 1px;margin: -1px;overflow: hidden;padding: 0;position: absolute;width: 1px;}#sk-container-id-4 div.sk-estimator {font-family: monospace;background-color: #f0f8ff;border: 1px dotted black;border-radius: 0.25em;box-sizing: border-box;margin-bottom: 0.5em;}#sk-container-id-4 div.sk-estimator:hover {background-color: #d4ebff;}#sk-container-id-4 div.sk-parallel-item::after {content: \"\";width: 100%;border-bottom: 1px solid gray;flex-grow: 1;}#sk-container-id-4 div.sk-label:hover label.sk-toggleable__label {background-color: #d4ebff;}#sk-container-id-4 div.sk-serial::before {content: \"\";position: absolute;border-left: 1px solid gray;box-sizing: border-box;top: 0;bottom: 0;left: 50%;z-index: 0;}#sk-container-id-4 div.sk-serial {display: flex;flex-direction: column;align-items: center;background-color: white;padding-right: 0.2em;padding-left: 0.2em;position: relative;}#sk-container-id-4 div.sk-item {position: relative;z-index: 1;}#sk-container-id-4 div.sk-parallel {display: flex;align-items: stretch;justify-content: center;background-color: white;position: relative;}#sk-container-id-4 div.sk-item::before, #sk-container-id-4 div.sk-parallel-item::before {content: \"\";position: absolute;border-left: 1px solid gray;box-sizing: border-box;top: 0;bottom: 0;left: 50%;z-index: -1;}#sk-container-id-4 div.sk-parallel-item {display: flex;flex-direction: column;z-index: 1;position: relative;background-color: white;}#sk-container-id-4 div.sk-parallel-item:first-child::after {align-self: flex-end;width: 50%;}#sk-container-id-4 div.sk-parallel-item:last-child::after {align-self: flex-start;width: 50%;}#sk-container-id-4 div.sk-parallel-item:only-child::after {width: 0;}#sk-container-id-4 div.sk-dashed-wrapped {border: 1px dashed gray;margin: 0 0.4em 0.5em 0.4em;box-sizing: border-box;padding-bottom: 0.4em;background-color: white;}#sk-container-id-4 div.sk-label label {font-family: monospace;font-weight: bold;display: inline-block;line-height: 1.2em;}#sk-container-id-4 div.sk-label-container {text-align: center;}#sk-container-id-4 div.sk-container {/* jupyter's `normalize.less` sets `[hidden] { display: none; }` but bootstrap.min.css set `[hidden] { display: none !important; }` so we also need the `!important` here to be able to override the default hidden behavior on the sphinx rendered scikit-learn.org. See: https://github.com/scikit-learn/scikit-learn/issues/21755 */display: inline-block !important;position: relative;}#sk-container-id-4 div.sk-text-repr-fallback {display: none;}</style><div id=\"sk-container-id-4\" class=\"sk-top-container\"><div class=\"sk-text-repr-fallback\"><pre>GridSearchCV(cv=StratifiedKFold(n_splits=5, random_state=None, shuffle=False),\n",
       "             estimator=Pipeline(steps=[(&#x27;prepocessing&#x27;,\n",
       "                                        ColumnTransformer(remainder=&#x27;passthrough&#x27;,\n",
       "                                                          transformers=[(&#x27;scaling&#x27;,\n",
       "                                                                         None,\n",
       "                                                                         [&#x27;tenure&#x27;,\n",
       "                                                                          &#x27;MonthlyCharges&#x27;]),\n",
       "                                                                        (&#x27;OHE&#x27;,\n",
       "                                                                         OneHotEncoder(drop=&#x27;first&#x27;),\n",
       "                                                                         [&#x27;Dependents&#x27;,\n",
       "                                                                          &#x27;OnlineSecurity&#x27;,\n",
       "                                                                          &#x27;OnlineBackup&#x27;,\n",
       "                                                                          &#x27;DeviceProtection&#x27;,\n",
       "                                                                          &#x27;TechSupport&#x27;,\n",
       "                                                                          &#x27;PaperlessBilling...\n",
       "                                 AdaBoostClassifier(estimator=LogisticRegression(class_weight=&#x27;balanced&#x27;,\n",
       "                                                                                 random_state=22),\n",
       "                                                    random_state=22),\n",
       "                                 GradientBoostingClassifier(random_state=22)],\n",
       "                         &#x27;prepocessing__scaling&#x27;: [MinMaxScaler()],\n",
       "                         &#x27;sampling&#x27;: [RandomOverSampler(random_state=48),\n",
       "                                      ADASYN(random_state=48),\n",
       "                                      SMOTE(random_state=48)]},\n",
       "             return_train_score=True, scoring=make_scorer(fbeta_score, beta=2))</pre><b>In a Jupyter environment, please rerun this cell to show the HTML representation or trust the notebook. <br />On GitHub, the HTML representation is unable to render, please try loading this page with nbviewer.org.</b></div><div class=\"sk-container\" hidden><div class=\"sk-item sk-dashed-wrapped\"><div class=\"sk-label-container\"><div class=\"sk-label sk-toggleable\"><input class=\"sk-toggleable__control sk-hidden--visually\" id=\"sk-estimator-id-35\" type=\"checkbox\" ><label for=\"sk-estimator-id-35\" class=\"sk-toggleable__label sk-toggleable__label-arrow\">GridSearchCV</label><div class=\"sk-toggleable__content\"><pre>GridSearchCV(cv=StratifiedKFold(n_splits=5, random_state=None, shuffle=False),\n",
       "             estimator=Pipeline(steps=[(&#x27;prepocessing&#x27;,\n",
       "                                        ColumnTransformer(remainder=&#x27;passthrough&#x27;,\n",
       "                                                          transformers=[(&#x27;scaling&#x27;,\n",
       "                                                                         None,\n",
       "                                                                         [&#x27;tenure&#x27;,\n",
       "                                                                          &#x27;MonthlyCharges&#x27;]),\n",
       "                                                                        (&#x27;OHE&#x27;,\n",
       "                                                                         OneHotEncoder(drop=&#x27;first&#x27;),\n",
       "                                                                         [&#x27;Dependents&#x27;,\n",
       "                                                                          &#x27;OnlineSecurity&#x27;,\n",
       "                                                                          &#x27;OnlineBackup&#x27;,\n",
       "                                                                          &#x27;DeviceProtection&#x27;,\n",
       "                                                                          &#x27;TechSupport&#x27;,\n",
       "                                                                          &#x27;PaperlessBilling...\n",
       "                                 AdaBoostClassifier(estimator=LogisticRegression(class_weight=&#x27;balanced&#x27;,\n",
       "                                                                                 random_state=22),\n",
       "                                                    random_state=22),\n",
       "                                 GradientBoostingClassifier(random_state=22)],\n",
       "                         &#x27;prepocessing__scaling&#x27;: [MinMaxScaler()],\n",
       "                         &#x27;sampling&#x27;: [RandomOverSampler(random_state=48),\n",
       "                                      ADASYN(random_state=48),\n",
       "                                      SMOTE(random_state=48)]},\n",
       "             return_train_score=True, scoring=make_scorer(fbeta_score, beta=2))</pre></div></div></div><div class=\"sk-parallel\"><div class=\"sk-parallel-item\"><div class=\"sk-item\"><div class=\"sk-label-container\"><div class=\"sk-label sk-toggleable\"><input class=\"sk-toggleable__control sk-hidden--visually\" id=\"sk-estimator-id-36\" type=\"checkbox\" ><label for=\"sk-estimator-id-36\" class=\"sk-toggleable__label sk-toggleable__label-arrow\">estimator: Pipeline</label><div class=\"sk-toggleable__content\"><pre>Pipeline(steps=[(&#x27;prepocessing&#x27;,\n",
       "                 ColumnTransformer(remainder=&#x27;passthrough&#x27;,\n",
       "                                   transformers=[(&#x27;scaling&#x27;, None,\n",
       "                                                  [&#x27;tenure&#x27;, &#x27;MonthlyCharges&#x27;]),\n",
       "                                                 (&#x27;OHE&#x27;,\n",
       "                                                  OneHotEncoder(drop=&#x27;first&#x27;),\n",
       "                                                  [&#x27;Dependents&#x27;,\n",
       "                                                   &#x27;OnlineSecurity&#x27;,\n",
       "                                                   &#x27;OnlineBackup&#x27;,\n",
       "                                                   &#x27;DeviceProtection&#x27;,\n",
       "                                                   &#x27;TechSupport&#x27;,\n",
       "                                                   &#x27;PaperlessBilling&#x27;]),\n",
       "                                                 (&#x27;ordinal&#x27;,\n",
       "                                                  OrdinalEncoder(cols=[&#x27;InternetService&#x27;,\n",
       "                                                                       &#x27;Contract&#x27;],\n",
       "                                                                 mapping=[{&#x27;col&#x27;: &#x27;InternetService&#x27;,\n",
       "                                                                           &#x27;data_type&#x27;: dtype(&#x27;O&#x27;),\n",
       "                                                                           &#x27;mapping&#x27;: None           0\n",
       "Fiber optic    3\n",
       "DSL            2\n",
       "No             1\n",
       "dtype: int64},\n",
       "                                                                          {&#x27;col&#x27;: &#x27;Contract&#x27;,\n",
       "                                                                           &#x27;data_type&#x27;: dtype(&#x27;O&#x27;),\n",
       "                                                                           &#x27;mapping&#x27;: None              0\n",
       "Month-to-month    3\n",
       "One year          2\n",
       "Two year          1\n",
       "dtype: int64}]),\n",
       "                                                  [&#x27;InternetService&#x27;,\n",
       "                                                   &#x27;Contract&#x27;])])),\n",
       "                (&#x27;sampling&#x27;, None), (&#x27;clf&#x27;, None)])</pre></div></div></div><div class=\"sk-serial\"><div class=\"sk-item\"><div class=\"sk-serial\"><div class=\"sk-item sk-dashed-wrapped\"><div class=\"sk-label-container\"><div class=\"sk-label sk-toggleable\"><input class=\"sk-toggleable__control sk-hidden--visually\" id=\"sk-estimator-id-37\" type=\"checkbox\" ><label for=\"sk-estimator-id-37\" class=\"sk-toggleable__label sk-toggleable__label-arrow\">prepocessing: ColumnTransformer</label><div class=\"sk-toggleable__content\"><pre>ColumnTransformer(remainder=&#x27;passthrough&#x27;,\n",
       "                  transformers=[(&#x27;scaling&#x27;, None, [&#x27;tenure&#x27;, &#x27;MonthlyCharges&#x27;]),\n",
       "                                (&#x27;OHE&#x27;, OneHotEncoder(drop=&#x27;first&#x27;),\n",
       "                                 [&#x27;Dependents&#x27;, &#x27;OnlineSecurity&#x27;,\n",
       "                                  &#x27;OnlineBackup&#x27;, &#x27;DeviceProtection&#x27;,\n",
       "                                  &#x27;TechSupport&#x27;, &#x27;PaperlessBilling&#x27;]),\n",
       "                                (&#x27;ordinal&#x27;,\n",
       "                                 OrdinalEncoder(cols=[&#x27;InternetService&#x27;,\n",
       "                                                      &#x27;Contract&#x27;],\n",
       "                                                mapping=[{&#x27;col&#x27;: &#x27;InternetService&#x27;,\n",
       "                                                          &#x27;data_type&#x27;: dtype(&#x27;O&#x27;),\n",
       "                                                          &#x27;mapping&#x27;: None           0\n",
       "Fiber optic    3\n",
       "DSL            2\n",
       "No             1\n",
       "dtype: int64},\n",
       "                                                         {&#x27;col&#x27;: &#x27;Contract&#x27;,\n",
       "                                                          &#x27;data_type&#x27;: dtype(&#x27;O&#x27;),\n",
       "                                                          &#x27;mapping&#x27;: None              0\n",
       "Month-to-month    3\n",
       "One year          2\n",
       "Two year          1\n",
       "dtype: int64}]),\n",
       "                                 [&#x27;InternetService&#x27;, &#x27;Contract&#x27;])])</pre></div></div></div><div class=\"sk-parallel\"><div class=\"sk-parallel-item\"><div class=\"sk-item\"><div class=\"sk-label-container\"><div class=\"sk-label sk-toggleable\"><input class=\"sk-toggleable__control sk-hidden--visually\" id=\"sk-estimator-id-38\" type=\"checkbox\" ><label for=\"sk-estimator-id-38\" class=\"sk-toggleable__label sk-toggleable__label-arrow\">scaling</label><div class=\"sk-toggleable__content\"><pre>[&#x27;tenure&#x27;, &#x27;MonthlyCharges&#x27;]</pre></div></div></div><div class=\"sk-serial\"><div class=\"sk-item\"><div class=\"sk-estimator sk-toggleable\"><input class=\"sk-toggleable__control sk-hidden--visually\" id=\"sk-estimator-id-39\" type=\"checkbox\" ><label for=\"sk-estimator-id-39\" class=\"sk-toggleable__label sk-toggleable__label-arrow\">None</label><div class=\"sk-toggleable__content\"><pre>None</pre></div></div></div></div></div></div><div class=\"sk-parallel-item\"><div class=\"sk-item\"><div class=\"sk-label-container\"><div class=\"sk-label sk-toggleable\"><input class=\"sk-toggleable__control sk-hidden--visually\" id=\"sk-estimator-id-40\" type=\"checkbox\" ><label for=\"sk-estimator-id-40\" class=\"sk-toggleable__label sk-toggleable__label-arrow\">OHE</label><div class=\"sk-toggleable__content\"><pre>[&#x27;Dependents&#x27;, &#x27;OnlineSecurity&#x27;, &#x27;OnlineBackup&#x27;, &#x27;DeviceProtection&#x27;, &#x27;TechSupport&#x27;, &#x27;PaperlessBilling&#x27;]</pre></div></div></div><div class=\"sk-serial\"><div class=\"sk-item\"><div class=\"sk-estimator sk-toggleable\"><input class=\"sk-toggleable__control sk-hidden--visually\" id=\"sk-estimator-id-41\" type=\"checkbox\" ><label for=\"sk-estimator-id-41\" class=\"sk-toggleable__label sk-toggleable__label-arrow\">OneHotEncoder</label><div class=\"sk-toggleable__content\"><pre>OneHotEncoder(drop=&#x27;first&#x27;)</pre></div></div></div></div></div></div><div class=\"sk-parallel-item\"><div class=\"sk-item\"><div class=\"sk-label-container\"><div class=\"sk-label sk-toggleable\"><input class=\"sk-toggleable__control sk-hidden--visually\" id=\"sk-estimator-id-42\" type=\"checkbox\" ><label for=\"sk-estimator-id-42\" class=\"sk-toggleable__label sk-toggleable__label-arrow\">ordinal</label><div class=\"sk-toggleable__content\"><pre>[&#x27;InternetService&#x27;, &#x27;Contract&#x27;]</pre></div></div></div><div class=\"sk-serial\"><div class=\"sk-item\"><div class=\"sk-estimator sk-toggleable\"><input class=\"sk-toggleable__control sk-hidden--visually\" id=\"sk-estimator-id-43\" type=\"checkbox\" ><label for=\"sk-estimator-id-43\" class=\"sk-toggleable__label sk-toggleable__label-arrow\">OrdinalEncoder</label><div class=\"sk-toggleable__content\"><pre>OrdinalEncoder(cols=[&#x27;InternetService&#x27;, &#x27;Contract&#x27;],\n",
       "               mapping=[{&#x27;col&#x27;: &#x27;InternetService&#x27;, &#x27;data_type&#x27;: dtype(&#x27;O&#x27;),\n",
       "                         &#x27;mapping&#x27;: None           0\n",
       "Fiber optic    3\n",
       "DSL            2\n",
       "No             1\n",
       "dtype: int64},\n",
       "                        {&#x27;col&#x27;: &#x27;Contract&#x27;, &#x27;data_type&#x27;: dtype(&#x27;O&#x27;),\n",
       "                         &#x27;mapping&#x27;: None              0\n",
       "Month-to-month    3\n",
       "One year          2\n",
       "Two year          1\n",
       "dtype: int64}])</pre></div></div></div></div></div></div><div class=\"sk-parallel-item\"><div class=\"sk-item\"><div class=\"sk-label-container\"><div class=\"sk-label sk-toggleable\"><input class=\"sk-toggleable__control sk-hidden--visually\" id=\"sk-estimator-id-44\" type=\"checkbox\" ><label for=\"sk-estimator-id-44\" class=\"sk-toggleable__label sk-toggleable__label-arrow\">remainder</label><div class=\"sk-toggleable__content\"><pre></pre></div></div></div><div class=\"sk-serial\"><div class=\"sk-item\"><div class=\"sk-estimator sk-toggleable\"><input class=\"sk-toggleable__control sk-hidden--visually\" id=\"sk-estimator-id-45\" type=\"checkbox\" ><label for=\"sk-estimator-id-45\" class=\"sk-toggleable__label sk-toggleable__label-arrow\">passthrough</label><div class=\"sk-toggleable__content\"><pre>passthrough</pre></div></div></div></div></div></div></div></div><div class=\"sk-item\"><div class=\"sk-estimator sk-toggleable\"><input class=\"sk-toggleable__control sk-hidden--visually\" id=\"sk-estimator-id-46\" type=\"checkbox\" ><label for=\"sk-estimator-id-46\" class=\"sk-toggleable__label sk-toggleable__label-arrow\">None</label><div class=\"sk-toggleable__content\"><pre>None</pre></div></div></div><div class=\"sk-item\"><div class=\"sk-estimator sk-toggleable\"><input class=\"sk-toggleable__control sk-hidden--visually\" id=\"sk-estimator-id-47\" type=\"checkbox\" ><label for=\"sk-estimator-id-47\" class=\"sk-toggleable__label sk-toggleable__label-arrow\">None</label><div class=\"sk-toggleable__content\"><pre>None</pre></div></div></div></div></div></div></div></div></div></div></div></div>"
      ],
      "text/plain": [
       "GridSearchCV(cv=StratifiedKFold(n_splits=5, random_state=None, shuffle=False),\n",
       "             estimator=Pipeline(steps=[('prepocessing',\n",
       "                                        ColumnTransformer(remainder='passthrough',\n",
       "                                                          transformers=[('scaling',\n",
       "                                                                         None,\n",
       "                                                                         ['tenure',\n",
       "                                                                          'MonthlyCharges']),\n",
       "                                                                        ('OHE',\n",
       "                                                                         OneHotEncoder(drop='first'),\n",
       "                                                                         ['Dependents',\n",
       "                                                                          'OnlineSecurity',\n",
       "                                                                          'OnlineBackup',\n",
       "                                                                          'DeviceProtection',\n",
       "                                                                          'TechSupport',\n",
       "                                                                          'PaperlessBilling...\n",
       "                                 AdaBoostClassifier(estimator=LogisticRegression(class_weight='balanced',\n",
       "                                                                                 random_state=22),\n",
       "                                                    random_state=22),\n",
       "                                 GradientBoostingClassifier(random_state=22)],\n",
       "                         'prepocessing__scaling': [MinMaxScaler()],\n",
       "                         'sampling': [RandomOverSampler(random_state=48),\n",
       "                                      ADASYN(random_state=48),\n",
       "                                      SMOTE(random_state=48)]},\n",
       "             return_train_score=True, scoring=make_scorer(fbeta_score, beta=2))"
      ]
     },
     "execution_count": 31,
     "metadata": {},
     "output_type": "execute_result"
    }
   ],
   "source": [
    "grid_search_cv_balance_ensemble.fit(x_train, y_train)"
   ]
  },
  {
   "cell_type": "code",
   "execution_count": 32,
   "metadata": {},
   "outputs": [
    {
     "name": "stdout",
     "output_type": "stream",
     "text": [
      "best score = 0.7258690606066308\n"
     ]
    },
    {
     "data": {
      "text/plain": [
       "{'clf': AdaBoostClassifier(estimator=LogisticRegression(class_weight='balanced',\n",
       "                                                 random_state=22),\n",
       "                    random_state=22),\n",
       " 'prepocessing__scaling': MinMaxScaler(),\n",
       " 'sampling': ADASYN(random_state=48)}"
      ]
     },
     "execution_count": 32,
     "metadata": {},
     "output_type": "execute_result"
    }
   ],
   "source": [
    "print(f\"best score = {grid_search_cv_balance_ensemble.best_score_}\")\n",
    "grid_search_cv_balance_ensemble.best_params_"
   ]
  },
  {
   "cell_type": "code",
   "execution_count": 33,
   "metadata": {},
   "outputs": [
    {
     "data": {
      "text/html": [
       "<div>\n",
       "<style scoped>\n",
       "    .dataframe tbody tr th:only-of-type {\n",
       "        vertical-align: middle;\n",
       "    }\n",
       "\n",
       "    .dataframe tbody tr th {\n",
       "        vertical-align: top;\n",
       "    }\n",
       "\n",
       "    .dataframe thead th {\n",
       "        text-align: right;\n",
       "    }\n",
       "</style>\n",
       "<table border=\"1\" class=\"dataframe\">\n",
       "  <thead>\n",
       "    <tr style=\"text-align: right;\">\n",
       "      <th></th>\n",
       "      <th>params</th>\n",
       "      <th>mean_test_score</th>\n",
       "      <th>mean_train_score</th>\n",
       "      <th>rank_test_score</th>\n",
       "    </tr>\n",
       "  </thead>\n",
       "  <tbody>\n",
       "    <tr>\n",
       "      <th>13</th>\n",
       "      <td>{'clf': AdaBoostClassifier(estimator=LogisticRegression(class_weight='balanced',\n",
       "                                                random_state=22),\n",
       "                   random_state=22), 'prepocessing__scaling': MinMaxScaler(), 'sampling': ADASYN(random_state=48)}</td>\n",
       "      <td>0.725869</td>\n",
       "      <td>0.728669</td>\n",
       "      <td>1</td>\n",
       "    </tr>\n",
       "    <tr>\n",
       "      <th>14</th>\n",
       "      <td>{'clf': AdaBoostClassifier(estimator=LogisticRegression(class_weight='balanced',\n",
       "                                                random_state=22),\n",
       "                   random_state=22), 'prepocessing__scaling': MinMaxScaler(), 'sampling': SMOTE(random_state=48)}</td>\n",
       "      <td>0.723721</td>\n",
       "      <td>0.722073</td>\n",
       "      <td>2</td>\n",
       "    </tr>\n",
       "    <tr>\n",
       "      <th>12</th>\n",
       "      <td>{'clf': AdaBoostClassifier(estimator=LogisticRegression(class_weight='balanced',\n",
       "                                                random_state=22),\n",
       "                   random_state=22), 'prepocessing__scaling': MinMaxScaler(), 'sampling': RandomOverSampler(random_state=48)}</td>\n",
       "      <td>0.719679</td>\n",
       "      <td>0.722713</td>\n",
       "      <td>3</td>\n",
       "    </tr>\n",
       "    <tr>\n",
       "      <th>15</th>\n",
       "      <td>{'clf': GradientBoostingClassifier(random_state=22), 'prepocessing__scaling': MinMaxScaler(), 'sampling': RandomOverSampler(random_state=48)}</td>\n",
       "      <td>0.714640</td>\n",
       "      <td>0.774524</td>\n",
       "      <td>4</td>\n",
       "    </tr>\n",
       "    <tr>\n",
       "      <th>16</th>\n",
       "      <td>{'clf': GradientBoostingClassifier(random_state=22), 'prepocessing__scaling': MinMaxScaler(), 'sampling': ADASYN(random_state=48)}</td>\n",
       "      <td>0.712657</td>\n",
       "      <td>0.754182</td>\n",
       "      <td>5</td>\n",
       "    </tr>\n",
       "  </tbody>\n",
       "</table>\n",
       "</div>"
      ],
      "text/plain": [
       "                                                                                                                                                                                                                                                                              params  \\\n",
       "13             {'clf': AdaBoostClassifier(estimator=LogisticRegression(class_weight='balanced',\n",
       "                                                random_state=22),\n",
       "                   random_state=22), 'prepocessing__scaling': MinMaxScaler(), 'sampling': ADASYN(random_state=48)}   \n",
       "14              {'clf': AdaBoostClassifier(estimator=LogisticRegression(class_weight='balanced',\n",
       "                                                random_state=22),\n",
       "                   random_state=22), 'prepocessing__scaling': MinMaxScaler(), 'sampling': SMOTE(random_state=48)}   \n",
       "12  {'clf': AdaBoostClassifier(estimator=LogisticRegression(class_weight='balanced',\n",
       "                                                random_state=22),\n",
       "                   random_state=22), 'prepocessing__scaling': MinMaxScaler(), 'sampling': RandomOverSampler(random_state=48)}   \n",
       "15                                                                                                                                     {'clf': GradientBoostingClassifier(random_state=22), 'prepocessing__scaling': MinMaxScaler(), 'sampling': RandomOverSampler(random_state=48)}   \n",
       "16                                                                                                                                                {'clf': GradientBoostingClassifier(random_state=22), 'prepocessing__scaling': MinMaxScaler(), 'sampling': ADASYN(random_state=48)}   \n",
       "\n",
       "    mean_test_score  mean_train_score  rank_test_score  \n",
       "13         0.725869          0.728669                1  \n",
       "14         0.723721          0.722073                2  \n",
       "12         0.719679          0.722713                3  \n",
       "15         0.714640          0.774524                4  \n",
       "16         0.712657          0.754182                5  "
      ]
     },
     "metadata": {},
     "output_type": "display_data"
    },
    {
     "data": {
      "text/html": [
       "<div>\n",
       "<style scoped>\n",
       "    .dataframe tbody tr th:only-of-type {\n",
       "        vertical-align: middle;\n",
       "    }\n",
       "\n",
       "    .dataframe tbody tr th {\n",
       "        vertical-align: top;\n",
       "    }\n",
       "\n",
       "    .dataframe thead th {\n",
       "        text-align: right;\n",
       "    }\n",
       "</style>\n",
       "<table border=\"1\" class=\"dataframe\">\n",
       "  <thead>\n",
       "    <tr style=\"text-align: right;\">\n",
       "      <th></th>\n",
       "      <th>params</th>\n",
       "      <th>mean_test_score</th>\n",
       "      <th>mean_train_score</th>\n",
       "      <th>rank_test_score</th>\n",
       "    </tr>\n",
       "  </thead>\n",
       "  <tbody>\n",
       "    <tr>\n",
       "      <th>8</th>\n",
       "      <td>{'clf': XGBClassifier(base_score=None, booster=None, callbacks=None,\n",
       "              colsample_bylevel=None, colsample_bynode=None,\n",
       "              colsample_bytree=None, device='cuda', early_stopping_rounds=None,\n",
       "              enable_categorical=False, eval_metric=None, feature_types=None,\n",
       "              gamma=None, grow_policy=None, importance_type=None,\n",
       "              interaction_constraints=None, learning_rate=None, max_bin=None,\n",
       "              max_cat_threshold=None, max_cat_to_onehot=None,\n",
       "              max_delta_step=None, max_depth=None, max_leaves=None,\n",
       "              min_child_weight=None, missing=nan, monotone_constraints=None,\n",
       "              multi_strategy=None, n_estimators=None, n_jobs=None,\n",
       "              num_parallel_tree=None, random_state=22, ...), 'prepocessing__scaling': MinMaxScaler(), 'sampling': SMOTE(random_state=48)}</td>\n",
       "      <td>0.647704</td>\n",
       "      <td>0.889060</td>\n",
       "      <td>14</td>\n",
       "    </tr>\n",
       "    <tr>\n",
       "      <th>6</th>\n",
       "      <td>{'clf': XGBClassifier(base_score=None, booster=None, callbacks=None,\n",
       "              colsample_bylevel=None, colsample_bynode=None,\n",
       "              colsample_bytree=None, device='cuda', early_stopping_rounds=None,\n",
       "              enable_categorical=False, eval_metric=None, feature_types=None,\n",
       "              gamma=None, grow_policy=None, importance_type=None,\n",
       "              interaction_constraints=None, learning_rate=None, max_bin=None,\n",
       "              max_cat_threshold=None, max_cat_to_onehot=None,\n",
       "              max_delta_step=None, max_depth=None, max_leaves=None,\n",
       "              min_child_weight=None, missing=nan, monotone_constraints=None,\n",
       "              multi_strategy=None, n_estimators=None, n_jobs=None,\n",
       "              num_parallel_tree=None, random_state=22, ...), 'prepocessing__scaling': MinMaxScaler(), 'sampling': RandomOverSampler(random_state=48)}</td>\n",
       "      <td>0.631923</td>\n",
       "      <td>0.940189</td>\n",
       "      <td>15</td>\n",
       "    </tr>\n",
       "    <tr>\n",
       "      <th>4</th>\n",
       "      <td>{'clf': RandomForestClassifier(class_weight='balanced', random_state=22), 'prepocessing__scaling': MinMaxScaler(), 'sampling': ADASYN(random_state=48)}</td>\n",
       "      <td>0.617753</td>\n",
       "      <td>0.994034</td>\n",
       "      <td>16</td>\n",
       "    </tr>\n",
       "    <tr>\n",
       "      <th>5</th>\n",
       "      <td>{'clf': RandomForestClassifier(class_weight='balanced', random_state=22), 'prepocessing__scaling': MinMaxScaler(), 'sampling': SMOTE(random_state=48)}</td>\n",
       "      <td>0.601753</td>\n",
       "      <td>0.994340</td>\n",
       "      <td>17</td>\n",
       "    </tr>\n",
       "    <tr>\n",
       "      <th>3</th>\n",
       "      <td>{'clf': RandomForestClassifier(class_weight='balanced', random_state=22), 'prepocessing__scaling': MinMaxScaler(), 'sampling': RandomOverSampler(random_state=48)}</td>\n",
       "      <td>0.568739</td>\n",
       "      <td>0.995568</td>\n",
       "      <td>18</td>\n",
       "    </tr>\n",
       "  </tbody>\n",
       "</table>\n",
       "</div>"
      ],
      "text/plain": [
       "                                                                                                                                                                                                                                                                                                                                                                                                                                                                                                                                                                                                                                                                                                                                                                                                                                                                                    params  \\\n",
       "8              {'clf': XGBClassifier(base_score=None, booster=None, callbacks=None,\n",
       "              colsample_bylevel=None, colsample_bynode=None,\n",
       "              colsample_bytree=None, device='cuda', early_stopping_rounds=None,\n",
       "              enable_categorical=False, eval_metric=None, feature_types=None,\n",
       "              gamma=None, grow_policy=None, importance_type=None,\n",
       "              interaction_constraints=None, learning_rate=None, max_bin=None,\n",
       "              max_cat_threshold=None, max_cat_to_onehot=None,\n",
       "              max_delta_step=None, max_depth=None, max_leaves=None,\n",
       "              min_child_weight=None, missing=nan, monotone_constraints=None,\n",
       "              multi_strategy=None, n_estimators=None, n_jobs=None,\n",
       "              num_parallel_tree=None, random_state=22, ...), 'prepocessing__scaling': MinMaxScaler(), 'sampling': SMOTE(random_state=48)}   \n",
       "6  {'clf': XGBClassifier(base_score=None, booster=None, callbacks=None,\n",
       "              colsample_bylevel=None, colsample_bynode=None,\n",
       "              colsample_bytree=None, device='cuda', early_stopping_rounds=None,\n",
       "              enable_categorical=False, eval_metric=None, feature_types=None,\n",
       "              gamma=None, grow_policy=None, importance_type=None,\n",
       "              interaction_constraints=None, learning_rate=None, max_bin=None,\n",
       "              max_cat_threshold=None, max_cat_to_onehot=None,\n",
       "              max_delta_step=None, max_depth=None, max_leaves=None,\n",
       "              min_child_weight=None, missing=nan, monotone_constraints=None,\n",
       "              multi_strategy=None, n_estimators=None, n_jobs=None,\n",
       "              num_parallel_tree=None, random_state=22, ...), 'prepocessing__scaling': MinMaxScaler(), 'sampling': RandomOverSampler(random_state=48)}   \n",
       "4                                                                                                                                                                                                                                                                                                                                                                                                                                                                                                                                                                                                                                                                                                                                  {'clf': RandomForestClassifier(class_weight='balanced', random_state=22), 'prepocessing__scaling': MinMaxScaler(), 'sampling': ADASYN(random_state=48)}   \n",
       "5                                                                                                                                                                                                                                                                                                                                                                                                                                                                                                                                                                                                                                                                                                                                   {'clf': RandomForestClassifier(class_weight='balanced', random_state=22), 'prepocessing__scaling': MinMaxScaler(), 'sampling': SMOTE(random_state=48)}   \n",
       "3                                                                                                                                                                                                                                                                                                                                                                                                                                                                                                                                                                                                                                                                                                                       {'clf': RandomForestClassifier(class_weight='balanced', random_state=22), 'prepocessing__scaling': MinMaxScaler(), 'sampling': RandomOverSampler(random_state=48)}   \n",
       "\n",
       "   mean_test_score  mean_train_score  rank_test_score  \n",
       "8         0.647704          0.889060               14  \n",
       "6         0.631923          0.940189               15  \n",
       "4         0.617753          0.994034               16  \n",
       "5         0.601753          0.994340               17  \n",
       "3         0.568739          0.995568               18  "
      ]
     },
     "metadata": {},
     "output_type": "display_data"
    }
   ],
   "source": [
    "cv_result = pd.DataFrame(grid_search_cv_balance_ensemble.cv_results_)\n",
    "display(cv_result[['params','mean_test_score','mean_train_score','rank_test_score']].sort_values('rank_test_score').head(),\n",
    " cv_result[['params','mean_test_score','mean_train_score','rank_test_score']].sort_values('rank_test_score').tail())"
   ]
  },
  {
   "cell_type": "markdown",
   "metadata": {},
   "source": [
    "Dapat kita lihat setelah dilakukan sampling menggunakan metode OverSampling yang ada, mendapatkan hasil bahwa `AdaBoostClassifier` memiliki nilai **mean_test_score** 3 tertinggi dari beberapa model diatas. \n",
    "\n",
    "dapat kita lihat juga `RandomForestClassifier` memiliki **mean_train_score** > 0.90 mendekati 1, akan tetapi bisa kita lihat bahwa nilai\n",
    "**mean_test_score** < 0.65 alias **Overfitting**, Mirip dengan `DecisionTreeClassifier`, [`RandomForestClassifier`](http://14.139.161.31/OddSem-0822-1122/Hands-On_Machine_Learning_with_Scikit-Learn-Keras-and-TensorFlow-2nd-Edition-Aurelien-Geron.pdf) dapat dengan mudah memperoleh nilai pelatihan yang baik karena model ini terus membagi data menjadi sub-sub data yang lebih kecil dan lebih homogen. Ini membuat model menjadi sangat khusus terhadap data **Training**. Akibatnya, model akan menghadapi kesulitan dalam menggeneralisasi pada data **Testing** yang belum pernah dilihat sebelumnya.\n"
   ]
  },
  {
   "cell_type": "code",
   "execution_count": 34,
   "metadata": {},
   "outputs": [
    {
     "data": {
      "text/html": [
       "<div>\n",
       "<style scoped>\n",
       "    .dataframe tbody tr th:only-of-type {\n",
       "        vertical-align: middle;\n",
       "    }\n",
       "\n",
       "    .dataframe tbody tr th {\n",
       "        vertical-align: top;\n",
       "    }\n",
       "\n",
       "    .dataframe thead th {\n",
       "        text-align: right;\n",
       "    }\n",
       "</style>\n",
       "<table border=\"1\" class=\"dataframe\">\n",
       "  <thead>\n",
       "    <tr style=\"text-align: right;\">\n",
       "      <th></th>\n",
       "      <th>params</th>\n",
       "      <th>mean_test_score</th>\n",
       "      <th>mean_train_score</th>\n",
       "      <th>rank_test_score</th>\n",
       "    </tr>\n",
       "  </thead>\n",
       "  <tbody>\n",
       "    <tr>\n",
       "      <th>2</th>\n",
       "      <td>{'clf': LogisticRegression(class_weight='balanced', random_state=22), 'prepocessing__scaling': MinMaxScaler(), 'sampling': ADASYN(random_state=48)}</td>\n",
       "      <td>0.730811</td>\n",
       "      <td>0.731468</td>\n",
       "      <td>1</td>\n",
       "    </tr>\n",
       "    <tr>\n",
       "      <th>13</th>\n",
       "      <td>{'clf': AdaBoostClassifier(estimator=LogisticRegression(class_weight='balanced',\n",
       "                                                random_state=22),\n",
       "                   random_state=22), 'prepocessing__scaling': MinMaxScaler(), 'sampling': ADASYN(random_state=48)}</td>\n",
       "      <td>0.725869</td>\n",
       "      <td>0.728669</td>\n",
       "      <td>1</td>\n",
       "    </tr>\n",
       "  </tbody>\n",
       "</table>\n",
       "</div>"
      ],
      "text/plain": [
       "                                                                                                                                                                                                                                                                   params  \\\n",
       "2                                                                                                                     {'clf': LogisticRegression(class_weight='balanced', random_state=22), 'prepocessing__scaling': MinMaxScaler(), 'sampling': ADASYN(random_state=48)}   \n",
       "13  {'clf': AdaBoostClassifier(estimator=LogisticRegression(class_weight='balanced',\n",
       "                                                random_state=22),\n",
       "                   random_state=22), 'prepocessing__scaling': MinMaxScaler(), 'sampling': ADASYN(random_state=48)}   \n",
       "\n",
       "    mean_test_score  mean_train_score  rank_test_score  \n",
       "2          0.730811          0.731468                1  \n",
       "13         0.725869          0.728669                1  "
      ]
     },
     "execution_count": 34,
     "metadata": {},
     "output_type": "execute_result"
    }
   ],
   "source": [
    "cv_result_lkd = pd.DataFrame(grid_search_cv_balance.cv_results_)\n",
    "cv_result_ens = pd.DataFrame(grid_search_cv_balance_ensemble.cv_results_)\n",
    "\n",
    "a = cv_result_lkd[['params','mean_test_score','mean_train_score','rank_test_score']].sort_values('rank_test_score').head(1)\n",
    "b = cv_result_ens[['params','mean_test_score','mean_train_score','rank_test_score']].sort_values('rank_test_score').head(1)\n",
    "pd.concat([a,b], axis=0)"
   ]
  },
  {
   "cell_type": "markdown",
   "metadata": {},
   "source": [
    "sedangkan untuk metode samplingnya, setelah kita lihat juga metode sampling ADASYN menjadi yang teratas.\n",
    "\n",
    "\n",
    "Terlihat bahwa model AdaBoostClassifier menjadi model terbaik dalam kategori Explainable ML, sementara LogisticRegression menjadi model terbaik untuk Interpretable ML. Kedua model ini berhasil mencapai hasil f2 score yang baik dan stabil pada kedua set data, baik itu train set maupun test set. Dengan kata lain, setelah dilakukan penyesuaian pada salah satu hyperparameter, keduanya mampu mengurangi jumlah False Negatif (pelanggan yang sebenarnya churn tetapi diprediksi tidak akan churn) dan False Positif (pelanggan yang sebenarnya tidak churn tetapi diprediksi akan churn) dengan lebih efisien.\n",
    "\n",
    "Di sisi lain, model Random Forest dan Decision Tree menunjukkan kecenderungan overfitting, di mana performa model sangat baik pada training set (f2 score mendekati 1) namun masih menunjukkan performa yang kurang baik pada test set.\n",
    "\n",
    "Sebagai hasilnya, AdaBoostClassifier dan LogisticRegression akan dijadikan sebagai benchmark model kita. Selanjutnya, kita akan melakukan hyperparameter tuning pada kedua model ini untuk mencapai hasil yang lebih optimal."
   ]
  },
  {
   "cell_type": "markdown",
   "metadata": {},
   "source": [
    "# Hyperparameter Tuning Adaboost"
   ]
  },
  {
   "cell_type": "markdown",
   "metadata": {},
   "source": [
    "Untuk tuning `AdaBoostClassifier` berdasarkan [sumber](https://www.kaggle.com/code/juanmah/tactic-03-hyperparameter-optimization-adaboost) tidak semua parameter kita ambil. Disini kita akan ambil beberapa parameter saja seperti `algorithm`, `learning_rate` dan `n_estimators`."
   ]
  },
  {
   "cell_type": "code",
   "execution_count": 35,
   "metadata": {},
   "outputs": [],
   "source": [
    "model_search = {\n",
    "    'clf' : [adaboost],\n",
    "    'clf__algorithm' : ['SAMME.R','SAMME'],\n",
    "    'clf__learning_rate' : [(0.97 + x / 100) for x in range(0, 8)],\n",
    "    'clf__n_estimators' : [1, 2, 3, 4, 5, 6, 7, 8, 9, 10, 11, 12, 20, 30, 50],\n",
    "    'prepocessing__scaling' : [MinMaxScaler()],\n",
    "    'sampling' : [\n",
    "                  ADASYN(random_state=22)\n",
    "                  ]\n",
    "} \n",
    "\n",
    "grid_search_ada_opt = GridSearchCV(\n",
    "    estimator = pipe_balance,\n",
    "    param_grid = model_search,\n",
    "    scoring = f2,\n",
    "    verbose=1,  # setiap proses dikeluarkan\n",
    "    return_train_score=True,\n",
    "    cv = StratifiedKFold(),\n",
    "    n_jobs=-1\n",
    ")\n"
   ]
  },
  {
   "cell_type": "code",
   "execution_count": 36,
   "metadata": {},
   "outputs": [
    {
     "name": "stdout",
     "output_type": "stream",
     "text": [
      "Fitting 5 folds for each of 240 candidates, totalling 1200 fits\n"
     ]
    },
    {
     "data": {
      "text/html": [
       "<style>#sk-container-id-5 {color: black;}#sk-container-id-5 pre{padding: 0;}#sk-container-id-5 div.sk-toggleable {background-color: white;}#sk-container-id-5 label.sk-toggleable__label {cursor: pointer;display: block;width: 100%;margin-bottom: 0;padding: 0.3em;box-sizing: border-box;text-align: center;}#sk-container-id-5 label.sk-toggleable__label-arrow:before {content: \"▸\";float: left;margin-right: 0.25em;color: #696969;}#sk-container-id-5 label.sk-toggleable__label-arrow:hover:before {color: black;}#sk-container-id-5 div.sk-estimator:hover label.sk-toggleable__label-arrow:before {color: black;}#sk-container-id-5 div.sk-toggleable__content {max-height: 0;max-width: 0;overflow: hidden;text-align: left;background-color: #f0f8ff;}#sk-container-id-5 div.sk-toggleable__content pre {margin: 0.2em;color: black;border-radius: 0.25em;background-color: #f0f8ff;}#sk-container-id-5 input.sk-toggleable__control:checked~div.sk-toggleable__content {max-height: 200px;max-width: 100%;overflow: auto;}#sk-container-id-5 input.sk-toggleable__control:checked~label.sk-toggleable__label-arrow:before {content: \"▾\";}#sk-container-id-5 div.sk-estimator input.sk-toggleable__control:checked~label.sk-toggleable__label {background-color: #d4ebff;}#sk-container-id-5 div.sk-label input.sk-toggleable__control:checked~label.sk-toggleable__label {background-color: #d4ebff;}#sk-container-id-5 input.sk-hidden--visually {border: 0;clip: rect(1px 1px 1px 1px);clip: rect(1px, 1px, 1px, 1px);height: 1px;margin: -1px;overflow: hidden;padding: 0;position: absolute;width: 1px;}#sk-container-id-5 div.sk-estimator {font-family: monospace;background-color: #f0f8ff;border: 1px dotted black;border-radius: 0.25em;box-sizing: border-box;margin-bottom: 0.5em;}#sk-container-id-5 div.sk-estimator:hover {background-color: #d4ebff;}#sk-container-id-5 div.sk-parallel-item::after {content: \"\";width: 100%;border-bottom: 1px solid gray;flex-grow: 1;}#sk-container-id-5 div.sk-label:hover label.sk-toggleable__label {background-color: #d4ebff;}#sk-container-id-5 div.sk-serial::before {content: \"\";position: absolute;border-left: 1px solid gray;box-sizing: border-box;top: 0;bottom: 0;left: 50%;z-index: 0;}#sk-container-id-5 div.sk-serial {display: flex;flex-direction: column;align-items: center;background-color: white;padding-right: 0.2em;padding-left: 0.2em;position: relative;}#sk-container-id-5 div.sk-item {position: relative;z-index: 1;}#sk-container-id-5 div.sk-parallel {display: flex;align-items: stretch;justify-content: center;background-color: white;position: relative;}#sk-container-id-5 div.sk-item::before, #sk-container-id-5 div.sk-parallel-item::before {content: \"\";position: absolute;border-left: 1px solid gray;box-sizing: border-box;top: 0;bottom: 0;left: 50%;z-index: -1;}#sk-container-id-5 div.sk-parallel-item {display: flex;flex-direction: column;z-index: 1;position: relative;background-color: white;}#sk-container-id-5 div.sk-parallel-item:first-child::after {align-self: flex-end;width: 50%;}#sk-container-id-5 div.sk-parallel-item:last-child::after {align-self: flex-start;width: 50%;}#sk-container-id-5 div.sk-parallel-item:only-child::after {width: 0;}#sk-container-id-5 div.sk-dashed-wrapped {border: 1px dashed gray;margin: 0 0.4em 0.5em 0.4em;box-sizing: border-box;padding-bottom: 0.4em;background-color: white;}#sk-container-id-5 div.sk-label label {font-family: monospace;font-weight: bold;display: inline-block;line-height: 1.2em;}#sk-container-id-5 div.sk-label-container {text-align: center;}#sk-container-id-5 div.sk-container {/* jupyter's `normalize.less` sets `[hidden] { display: none; }` but bootstrap.min.css set `[hidden] { display: none !important; }` so we also need the `!important` here to be able to override the default hidden behavior on the sphinx rendered scikit-learn.org. See: https://github.com/scikit-learn/scikit-learn/issues/21755 */display: inline-block !important;position: relative;}#sk-container-id-5 div.sk-text-repr-fallback {display: none;}</style><div id=\"sk-container-id-5\" class=\"sk-top-container\"><div class=\"sk-text-repr-fallback\"><pre>GridSearchCV(cv=StratifiedKFold(n_splits=5, random_state=None, shuffle=False),\n",
       "             estimator=Pipeline(steps=[(&#x27;prepocessing&#x27;,\n",
       "                                        ColumnTransformer(remainder=&#x27;passthrough&#x27;,\n",
       "                                                          transformers=[(&#x27;scaling&#x27;,\n",
       "                                                                         None,\n",
       "                                                                         [&#x27;tenure&#x27;,\n",
       "                                                                          &#x27;MonthlyCharges&#x27;]),\n",
       "                                                                        (&#x27;OHE&#x27;,\n",
       "                                                                         OneHotEncoder(drop=&#x27;first&#x27;),\n",
       "                                                                         [&#x27;Dependents&#x27;,\n",
       "                                                                          &#x27;OnlineSecurity&#x27;,\n",
       "                                                                          &#x27;OnlineBackup&#x27;,\n",
       "                                                                          &#x27;DeviceProtection&#x27;,\n",
       "                                                                          &#x27;TechSupport&#x27;,\n",
       "                                                                          &#x27;PaperlessBilling...\n",
       "             param_grid={&#x27;clf&#x27;: [AdaBoostClassifier(estimator=LogisticRegression(class_weight=&#x27;balanced&#x27;,\n",
       "                                                                                 random_state=22),\n",
       "                                                    random_state=22)],\n",
       "                         &#x27;clf__algorithm&#x27;: [&#x27;SAMME.R&#x27;, &#x27;SAMME&#x27;],\n",
       "                         &#x27;clf__learning_rate&#x27;: [0.97, 0.98, 0.99, 1.0, 1.01,\n",
       "                                                1.02, 1.03, 1.04],\n",
       "                         &#x27;clf__n_estimators&#x27;: [1, 2, 3, 4, 5, 6, 7, 8, 9, 10,\n",
       "                                               11, 12, 20, 30, 50],\n",
       "                         &#x27;prepocessing__scaling&#x27;: [MinMaxScaler()],\n",
       "                         &#x27;sampling&#x27;: [ADASYN(random_state=22)]},\n",
       "             return_train_score=True, scoring=make_scorer(fbeta_score, beta=2),\n",
       "             verbose=1)</pre><b>In a Jupyter environment, please rerun this cell to show the HTML representation or trust the notebook. <br />On GitHub, the HTML representation is unable to render, please try loading this page with nbviewer.org.</b></div><div class=\"sk-container\" hidden><div class=\"sk-item sk-dashed-wrapped\"><div class=\"sk-label-container\"><div class=\"sk-label sk-toggleable\"><input class=\"sk-toggleable__control sk-hidden--visually\" id=\"sk-estimator-id-48\" type=\"checkbox\" ><label for=\"sk-estimator-id-48\" class=\"sk-toggleable__label sk-toggleable__label-arrow\">GridSearchCV</label><div class=\"sk-toggleable__content\"><pre>GridSearchCV(cv=StratifiedKFold(n_splits=5, random_state=None, shuffle=False),\n",
       "             estimator=Pipeline(steps=[(&#x27;prepocessing&#x27;,\n",
       "                                        ColumnTransformer(remainder=&#x27;passthrough&#x27;,\n",
       "                                                          transformers=[(&#x27;scaling&#x27;,\n",
       "                                                                         None,\n",
       "                                                                         [&#x27;tenure&#x27;,\n",
       "                                                                          &#x27;MonthlyCharges&#x27;]),\n",
       "                                                                        (&#x27;OHE&#x27;,\n",
       "                                                                         OneHotEncoder(drop=&#x27;first&#x27;),\n",
       "                                                                         [&#x27;Dependents&#x27;,\n",
       "                                                                          &#x27;OnlineSecurity&#x27;,\n",
       "                                                                          &#x27;OnlineBackup&#x27;,\n",
       "                                                                          &#x27;DeviceProtection&#x27;,\n",
       "                                                                          &#x27;TechSupport&#x27;,\n",
       "                                                                          &#x27;PaperlessBilling...\n",
       "             param_grid={&#x27;clf&#x27;: [AdaBoostClassifier(estimator=LogisticRegression(class_weight=&#x27;balanced&#x27;,\n",
       "                                                                                 random_state=22),\n",
       "                                                    random_state=22)],\n",
       "                         &#x27;clf__algorithm&#x27;: [&#x27;SAMME.R&#x27;, &#x27;SAMME&#x27;],\n",
       "                         &#x27;clf__learning_rate&#x27;: [0.97, 0.98, 0.99, 1.0, 1.01,\n",
       "                                                1.02, 1.03, 1.04],\n",
       "                         &#x27;clf__n_estimators&#x27;: [1, 2, 3, 4, 5, 6, 7, 8, 9, 10,\n",
       "                                               11, 12, 20, 30, 50],\n",
       "                         &#x27;prepocessing__scaling&#x27;: [MinMaxScaler()],\n",
       "                         &#x27;sampling&#x27;: [ADASYN(random_state=22)]},\n",
       "             return_train_score=True, scoring=make_scorer(fbeta_score, beta=2),\n",
       "             verbose=1)</pre></div></div></div><div class=\"sk-parallel\"><div class=\"sk-parallel-item\"><div class=\"sk-item\"><div class=\"sk-label-container\"><div class=\"sk-label sk-toggleable\"><input class=\"sk-toggleable__control sk-hidden--visually\" id=\"sk-estimator-id-49\" type=\"checkbox\" ><label for=\"sk-estimator-id-49\" class=\"sk-toggleable__label sk-toggleable__label-arrow\">estimator: Pipeline</label><div class=\"sk-toggleable__content\"><pre>Pipeline(steps=[(&#x27;prepocessing&#x27;,\n",
       "                 ColumnTransformer(remainder=&#x27;passthrough&#x27;,\n",
       "                                   transformers=[(&#x27;scaling&#x27;, None,\n",
       "                                                  [&#x27;tenure&#x27;, &#x27;MonthlyCharges&#x27;]),\n",
       "                                                 (&#x27;OHE&#x27;,\n",
       "                                                  OneHotEncoder(drop=&#x27;first&#x27;),\n",
       "                                                  [&#x27;Dependents&#x27;,\n",
       "                                                   &#x27;OnlineSecurity&#x27;,\n",
       "                                                   &#x27;OnlineBackup&#x27;,\n",
       "                                                   &#x27;DeviceProtection&#x27;,\n",
       "                                                   &#x27;TechSupport&#x27;,\n",
       "                                                   &#x27;PaperlessBilling&#x27;]),\n",
       "                                                 (&#x27;ordinal&#x27;,\n",
       "                                                  OrdinalEncoder(cols=[&#x27;InternetService&#x27;,\n",
       "                                                                       &#x27;Contract&#x27;],\n",
       "                                                                 mapping=[{&#x27;col&#x27;: &#x27;InternetService&#x27;,\n",
       "                                                                           &#x27;data_type&#x27;: dtype(&#x27;O&#x27;),\n",
       "                                                                           &#x27;mapping&#x27;: None           0\n",
       "Fiber optic    3\n",
       "DSL            2\n",
       "No             1\n",
       "dtype: int64},\n",
       "                                                                          {&#x27;col&#x27;: &#x27;Contract&#x27;,\n",
       "                                                                           &#x27;data_type&#x27;: dtype(&#x27;O&#x27;),\n",
       "                                                                           &#x27;mapping&#x27;: None              0\n",
       "Month-to-month    3\n",
       "One year          2\n",
       "Two year          1\n",
       "dtype: int64}]),\n",
       "                                                  [&#x27;InternetService&#x27;,\n",
       "                                                   &#x27;Contract&#x27;])])),\n",
       "                (&#x27;sampling&#x27;, None), (&#x27;clf&#x27;, None)])</pre></div></div></div><div class=\"sk-serial\"><div class=\"sk-item\"><div class=\"sk-serial\"><div class=\"sk-item sk-dashed-wrapped\"><div class=\"sk-label-container\"><div class=\"sk-label sk-toggleable\"><input class=\"sk-toggleable__control sk-hidden--visually\" id=\"sk-estimator-id-50\" type=\"checkbox\" ><label for=\"sk-estimator-id-50\" class=\"sk-toggleable__label sk-toggleable__label-arrow\">prepocessing: ColumnTransformer</label><div class=\"sk-toggleable__content\"><pre>ColumnTransformer(remainder=&#x27;passthrough&#x27;,\n",
       "                  transformers=[(&#x27;scaling&#x27;, None, [&#x27;tenure&#x27;, &#x27;MonthlyCharges&#x27;]),\n",
       "                                (&#x27;OHE&#x27;, OneHotEncoder(drop=&#x27;first&#x27;),\n",
       "                                 [&#x27;Dependents&#x27;, &#x27;OnlineSecurity&#x27;,\n",
       "                                  &#x27;OnlineBackup&#x27;, &#x27;DeviceProtection&#x27;,\n",
       "                                  &#x27;TechSupport&#x27;, &#x27;PaperlessBilling&#x27;]),\n",
       "                                (&#x27;ordinal&#x27;,\n",
       "                                 OrdinalEncoder(cols=[&#x27;InternetService&#x27;,\n",
       "                                                      &#x27;Contract&#x27;],\n",
       "                                                mapping=[{&#x27;col&#x27;: &#x27;InternetService&#x27;,\n",
       "                                                          &#x27;data_type&#x27;: dtype(&#x27;O&#x27;),\n",
       "                                                          &#x27;mapping&#x27;: None           0\n",
       "Fiber optic    3\n",
       "DSL            2\n",
       "No             1\n",
       "dtype: int64},\n",
       "                                                         {&#x27;col&#x27;: &#x27;Contract&#x27;,\n",
       "                                                          &#x27;data_type&#x27;: dtype(&#x27;O&#x27;),\n",
       "                                                          &#x27;mapping&#x27;: None              0\n",
       "Month-to-month    3\n",
       "One year          2\n",
       "Two year          1\n",
       "dtype: int64}]),\n",
       "                                 [&#x27;InternetService&#x27;, &#x27;Contract&#x27;])])</pre></div></div></div><div class=\"sk-parallel\"><div class=\"sk-parallel-item\"><div class=\"sk-item\"><div class=\"sk-label-container\"><div class=\"sk-label sk-toggleable\"><input class=\"sk-toggleable__control sk-hidden--visually\" id=\"sk-estimator-id-51\" type=\"checkbox\" ><label for=\"sk-estimator-id-51\" class=\"sk-toggleable__label sk-toggleable__label-arrow\">scaling</label><div class=\"sk-toggleable__content\"><pre>[&#x27;tenure&#x27;, &#x27;MonthlyCharges&#x27;]</pre></div></div></div><div class=\"sk-serial\"><div class=\"sk-item\"><div class=\"sk-estimator sk-toggleable\"><input class=\"sk-toggleable__control sk-hidden--visually\" id=\"sk-estimator-id-52\" type=\"checkbox\" ><label for=\"sk-estimator-id-52\" class=\"sk-toggleable__label sk-toggleable__label-arrow\">None</label><div class=\"sk-toggleable__content\"><pre>None</pre></div></div></div></div></div></div><div class=\"sk-parallel-item\"><div class=\"sk-item\"><div class=\"sk-label-container\"><div class=\"sk-label sk-toggleable\"><input class=\"sk-toggleable__control sk-hidden--visually\" id=\"sk-estimator-id-53\" type=\"checkbox\" ><label for=\"sk-estimator-id-53\" class=\"sk-toggleable__label sk-toggleable__label-arrow\">OHE</label><div class=\"sk-toggleable__content\"><pre>[&#x27;Dependents&#x27;, &#x27;OnlineSecurity&#x27;, &#x27;OnlineBackup&#x27;, &#x27;DeviceProtection&#x27;, &#x27;TechSupport&#x27;, &#x27;PaperlessBilling&#x27;]</pre></div></div></div><div class=\"sk-serial\"><div class=\"sk-item\"><div class=\"sk-estimator sk-toggleable\"><input class=\"sk-toggleable__control sk-hidden--visually\" id=\"sk-estimator-id-54\" type=\"checkbox\" ><label for=\"sk-estimator-id-54\" class=\"sk-toggleable__label sk-toggleable__label-arrow\">OneHotEncoder</label><div class=\"sk-toggleable__content\"><pre>OneHotEncoder(drop=&#x27;first&#x27;)</pre></div></div></div></div></div></div><div class=\"sk-parallel-item\"><div class=\"sk-item\"><div class=\"sk-label-container\"><div class=\"sk-label sk-toggleable\"><input class=\"sk-toggleable__control sk-hidden--visually\" id=\"sk-estimator-id-55\" type=\"checkbox\" ><label for=\"sk-estimator-id-55\" class=\"sk-toggleable__label sk-toggleable__label-arrow\">ordinal</label><div class=\"sk-toggleable__content\"><pre>[&#x27;InternetService&#x27;, &#x27;Contract&#x27;]</pre></div></div></div><div class=\"sk-serial\"><div class=\"sk-item\"><div class=\"sk-estimator sk-toggleable\"><input class=\"sk-toggleable__control sk-hidden--visually\" id=\"sk-estimator-id-56\" type=\"checkbox\" ><label for=\"sk-estimator-id-56\" class=\"sk-toggleable__label sk-toggleable__label-arrow\">OrdinalEncoder</label><div class=\"sk-toggleable__content\"><pre>OrdinalEncoder(cols=[&#x27;InternetService&#x27;, &#x27;Contract&#x27;],\n",
       "               mapping=[{&#x27;col&#x27;: &#x27;InternetService&#x27;, &#x27;data_type&#x27;: dtype(&#x27;O&#x27;),\n",
       "                         &#x27;mapping&#x27;: None           0\n",
       "Fiber optic    3\n",
       "DSL            2\n",
       "No             1\n",
       "dtype: int64},\n",
       "                        {&#x27;col&#x27;: &#x27;Contract&#x27;, &#x27;data_type&#x27;: dtype(&#x27;O&#x27;),\n",
       "                         &#x27;mapping&#x27;: None              0\n",
       "Month-to-month    3\n",
       "One year          2\n",
       "Two year          1\n",
       "dtype: int64}])</pre></div></div></div></div></div></div><div class=\"sk-parallel-item\"><div class=\"sk-item\"><div class=\"sk-label-container\"><div class=\"sk-label sk-toggleable\"><input class=\"sk-toggleable__control sk-hidden--visually\" id=\"sk-estimator-id-57\" type=\"checkbox\" ><label for=\"sk-estimator-id-57\" class=\"sk-toggleable__label sk-toggleable__label-arrow\">remainder</label><div class=\"sk-toggleable__content\"><pre></pre></div></div></div><div class=\"sk-serial\"><div class=\"sk-item\"><div class=\"sk-estimator sk-toggleable\"><input class=\"sk-toggleable__control sk-hidden--visually\" id=\"sk-estimator-id-58\" type=\"checkbox\" ><label for=\"sk-estimator-id-58\" class=\"sk-toggleable__label sk-toggleable__label-arrow\">passthrough</label><div class=\"sk-toggleable__content\"><pre>passthrough</pre></div></div></div></div></div></div></div></div><div class=\"sk-item\"><div class=\"sk-estimator sk-toggleable\"><input class=\"sk-toggleable__control sk-hidden--visually\" id=\"sk-estimator-id-59\" type=\"checkbox\" ><label for=\"sk-estimator-id-59\" class=\"sk-toggleable__label sk-toggleable__label-arrow\">None</label><div class=\"sk-toggleable__content\"><pre>None</pre></div></div></div><div class=\"sk-item\"><div class=\"sk-estimator sk-toggleable\"><input class=\"sk-toggleable__control sk-hidden--visually\" id=\"sk-estimator-id-60\" type=\"checkbox\" ><label for=\"sk-estimator-id-60\" class=\"sk-toggleable__label sk-toggleable__label-arrow\">None</label><div class=\"sk-toggleable__content\"><pre>None</pre></div></div></div></div></div></div></div></div></div></div></div></div>"
      ],
      "text/plain": [
       "GridSearchCV(cv=StratifiedKFold(n_splits=5, random_state=None, shuffle=False),\n",
       "             estimator=Pipeline(steps=[('prepocessing',\n",
       "                                        ColumnTransformer(remainder='passthrough',\n",
       "                                                          transformers=[('scaling',\n",
       "                                                                         None,\n",
       "                                                                         ['tenure',\n",
       "                                                                          'MonthlyCharges']),\n",
       "                                                                        ('OHE',\n",
       "                                                                         OneHotEncoder(drop='first'),\n",
       "                                                                         ['Dependents',\n",
       "                                                                          'OnlineSecurity',\n",
       "                                                                          'OnlineBackup',\n",
       "                                                                          'DeviceProtection',\n",
       "                                                                          'TechSupport',\n",
       "                                                                          'PaperlessBilling...\n",
       "             param_grid={'clf': [AdaBoostClassifier(estimator=LogisticRegression(class_weight='balanced',\n",
       "                                                                                 random_state=22),\n",
       "                                                    random_state=22)],\n",
       "                         'clf__algorithm': ['SAMME.R', 'SAMME'],\n",
       "                         'clf__learning_rate': [0.97, 0.98, 0.99, 1.0, 1.01,\n",
       "                                                1.02, 1.03, 1.04],\n",
       "                         'clf__n_estimators': [1, 2, 3, 4, 5, 6, 7, 8, 9, 10,\n",
       "                                               11, 12, 20, 30, 50],\n",
       "                         'prepocessing__scaling': [MinMaxScaler()],\n",
       "                         'sampling': [ADASYN(random_state=22)]},\n",
       "             return_train_score=True, scoring=make_scorer(fbeta_score, beta=2),\n",
       "             verbose=1)"
      ]
     },
     "execution_count": 36,
     "metadata": {},
     "output_type": "execute_result"
    }
   ],
   "source": [
    "grid_search_ada_opt.fit(x_train, y_train)"
   ]
  },
  {
   "cell_type": "code",
   "execution_count": 37,
   "metadata": {},
   "outputs": [
    {
     "name": "stdout",
     "output_type": "stream",
     "text": [
      "adaboost tuning best score = 0.7357517185866188\n"
     ]
    },
    {
     "data": {
      "text/plain": [
       "{'clf': AdaBoostClassifier(estimator=LogisticRegression(class_weight='balanced',\n",
       "                                                 random_state=22),\n",
       "                    random_state=22),\n",
       " 'clf__algorithm': 'SAMME',\n",
       " 'clf__learning_rate': 1.04,\n",
       " 'clf__n_estimators': 50,\n",
       " 'prepocessing__scaling': MinMaxScaler(),\n",
       " 'sampling': ADASYN(random_state=22)}"
      ]
     },
     "execution_count": 37,
     "metadata": {},
     "output_type": "execute_result"
    }
   ],
   "source": [
    "print(f\"adaboost tuning best score = {grid_search_ada_opt.best_score_}\")\n",
    "grid_search_ada_opt.best_params_"
   ]
  },
  {
   "cell_type": "code",
   "execution_count": 38,
   "metadata": {},
   "outputs": [
    {
     "data": {
      "text/html": [
       "<div>\n",
       "<style scoped>\n",
       "    .dataframe tbody tr th:only-of-type {\n",
       "        vertical-align: middle;\n",
       "    }\n",
       "\n",
       "    .dataframe tbody tr th {\n",
       "        vertical-align: top;\n",
       "    }\n",
       "\n",
       "    .dataframe thead th {\n",
       "        text-align: right;\n",
       "    }\n",
       "</style>\n",
       "<table border=\"1\" class=\"dataframe\">\n",
       "  <thead>\n",
       "    <tr style=\"text-align: right;\">\n",
       "      <th></th>\n",
       "      <th>param_clf__algorithm</th>\n",
       "      <th>param_clf__learning_rate</th>\n",
       "      <th>param_clf__n_estimators</th>\n",
       "      <th>rank_test_score</th>\n",
       "      <th>mean_test_score</th>\n",
       "      <th>mean_train_score</th>\n",
       "    </tr>\n",
       "  </thead>\n",
       "  <tbody>\n",
       "    <tr>\n",
       "      <th>239</th>\n",
       "      <td>SAMME</td>\n",
       "      <td>1.04</td>\n",
       "      <td>50</td>\n",
       "      <td>1</td>\n",
       "      <td>0.735752</td>\n",
       "      <td>0.733099</td>\n",
       "    </tr>\n",
       "    <tr>\n",
       "      <th>76</th>\n",
       "      <td>SAMME.R</td>\n",
       "      <td>1.02</td>\n",
       "      <td>2</td>\n",
       "      <td>2</td>\n",
       "      <td>0.735217</td>\n",
       "      <td>0.732285</td>\n",
       "    </tr>\n",
       "    <tr>\n",
       "      <th>46</th>\n",
       "      <td>SAMME.R</td>\n",
       "      <td>1.0</td>\n",
       "      <td>2</td>\n",
       "      <td>2</td>\n",
       "      <td>0.735217</td>\n",
       "      <td>0.732564</td>\n",
       "    </tr>\n",
       "    <tr>\n",
       "      <th>61</th>\n",
       "      <td>SAMME.R</td>\n",
       "      <td>1.01</td>\n",
       "      <td>2</td>\n",
       "      <td>2</td>\n",
       "      <td>0.735217</td>\n",
       "      <td>0.732408</td>\n",
       "    </tr>\n",
       "    <tr>\n",
       "      <th>91</th>\n",
       "      <td>SAMME.R</td>\n",
       "      <td>1.03</td>\n",
       "      <td>2</td>\n",
       "      <td>2</td>\n",
       "      <td>0.735217</td>\n",
       "      <td>0.732285</td>\n",
       "    </tr>\n",
       "    <tr>\n",
       "      <th>106</th>\n",
       "      <td>SAMME.R</td>\n",
       "      <td>1.04</td>\n",
       "      <td>2</td>\n",
       "      <td>2</td>\n",
       "      <td>0.735217</td>\n",
       "      <td>0.731910</td>\n",
       "    </tr>\n",
       "  </tbody>\n",
       "</table>\n",
       "</div>"
      ],
      "text/plain": [
       "    param_clf__algorithm param_clf__learning_rate param_clf__n_estimators  \\\n",
       "239                SAMME                     1.04                      50   \n",
       "76               SAMME.R                     1.02                       2   \n",
       "46               SAMME.R                      1.0                       2   \n",
       "61               SAMME.R                     1.01                       2   \n",
       "91               SAMME.R                     1.03                       2   \n",
       "106              SAMME.R                     1.04                       2   \n",
       "\n",
       "     rank_test_score  mean_test_score  mean_train_score  \n",
       "239                1         0.735752          0.733099  \n",
       "76                 2         0.735217          0.732285  \n",
       "46                 2         0.735217          0.732564  \n",
       "61                 2         0.735217          0.732408  \n",
       "91                 2         0.735217          0.732285  \n",
       "106                2         0.735217          0.731910  "
      ]
     },
     "execution_count": 38,
     "metadata": {},
     "output_type": "execute_result"
    }
   ],
   "source": [
    "df_result_ada_opt = pd.DataFrame(grid_search_ada_opt.cv_results_)\n",
    "df_result_ada_opt[['param_clf__algorithm','param_clf__learning_rate','param_clf__n_estimators','rank_test_score','mean_test_score','mean_train_score']].sort_values('rank_test_score').head(6)"
   ]
  },
  {
   "cell_type": "markdown",
   "metadata": {},
   "source": [
    "Dari tabel di atas juga terlihat bahwa 6 rata-rata skor f2_score tertinggi (dengan angka yang hampir sama) didominasi oleh hyperparameter `algorithm` antara `SAMME` (sebanyak 1) dan `SAMME.R` (sebanyak 5). Sedangkan nilai `learning_rate` masih cukup bervariasi antara 1 - 1.04, begitupun dengan `n_estimators` antara 50 (sebanyak 1) dan 2 (sebanyak 5). Hal tersebut menunjukkan bahwa skor f2_score yang tinggi dapat diperoleh dengan algorithm `SAMME` pada `AdaBoostClassifier`.\n",
    "\n",
    "`SAMME` sendiri merupakan singkatan dari (Stagewise Adaptive Minimization of Losses with Real-valued Weights). Yang mana dalam konteks classification, algoritma `SAMME` bekerja dengan menghitung bobot untuk setiap model lemah yang digunakan dan melakukan prediksi berdasarkan jumlah suara (weighted votes) dari masing-masing [model](https://cs.nyu.edu/media/publications/NYU_GSAS_Thesis_Dmitry_Storcheus__31_.pdf).\n",
    "\n",
    "Selanjutnya kita coba ke data test."
   ]
  },
  {
   "cell_type": "code",
   "execution_count": 39,
   "metadata": {},
   "outputs": [
    {
     "name": "stdout",
     "output_type": "stream",
     "text": [
      "F2 score test before tuning: 0.7336182336182336\n",
      "F2 score test after tuning: 0.7277158774373259\n"
     ]
    }
   ],
   "source": [
    "y_pred_test_ada = grid_search_cv_balance_ensemble.predict(x_test)\n",
    "\n",
    "# print(classification_report(y_test, y_pred_test_ada))\n",
    "\n",
    "print('F2 score test before tuning:', fbeta_score(y_test, y_pred_test_ada, beta=2))\n",
    "\n",
    "y_pred_test_ada = grid_search_ada_opt.predict(x_test)\n",
    "\n",
    "# print(classification_report(y_test, y_pred_test_ada))\n",
    "\n",
    "print('F2 score test after tuning:', fbeta_score(y_test, y_pred_test_ada, beta=2))"
   ]
  },
  {
   "cell_type": "markdown",
   "metadata": {},
   "source": [
    "Terlihat bahwa model `Ada Boost` setelah kita tuning hyperparameternya memiliki nilai f2 score yang tidak berbeda jauh dengan model Benchmark sebelum tuning dengan acuan data testing.\n",
    "\n",
    "Selanjutnya kita cek menggunakan data holdout dengan menggunakan model after tuning."
   ]
  },
  {
   "cell_type": "code",
   "execution_count": 40,
   "metadata": {},
   "outputs": [],
   "source": [
    "df_feature_2 = df_hold_up.drop(columns='Churn')\n",
    "df_target_2 = df_hold_up['Churn']"
   ]
  },
  {
   "cell_type": "code",
   "execution_count": 41,
   "metadata": {},
   "outputs": [
    {
     "name": "stdout",
     "output_type": "stream",
     "text": [
      "F2 score hold out: 0.7066666666666667\n"
     ]
    }
   ],
   "source": [
    "y_pred_hold_out = grid_search_ada_opt.predict(df_feature_2)\n",
    "\n",
    "# print(classification_report(df_target_2, y_pred_hold_out))\n",
    "\n",
    "print('F2 score hold out:', fbeta_score(df_target_2, y_pred_hold_out, beta=2))"
   ]
  },
  {
   "cell_type": "markdown",
   "metadata": {},
   "source": [
    "Dapat kita lihat, bahwa f2 score yang dihasilkan data hold out tidak jauh berbeda ketika menggunakan data testing. Ini artinya model dapat digunakan untuk memprediksi data baru dengan baik, bahkan untuk data yang belum pernah dilihat sebelumnya."
   ]
  },
  {
   "cell_type": "markdown",
   "metadata": {},
   "source": [
    "# Hyperparameter Tuning Logreg"
   ]
  },
  {
   "cell_type": "markdown",
   "metadata": {},
   "source": [
    "Untuk tuning `LogisticRegression` berdasarkan [sumber](https://www.kaggle.com/code/funxexcel/p2-logistic-regression-hyperparameter-tuning) tidak semua parameter kita ambil. Disini kita akan ambil beberapa parameter saja seperti `solver`, `penalty`, `max_iter` dan `C`."
   ]
  },
  {
   "cell_type": "code",
   "execution_count": 42,
   "metadata": {},
   "outputs": [],
   "source": [
    "model_search = {\n",
    "    'clf' : [logreg],\n",
    "    'prepocessing__scaling' : [MinMaxScaler()],\n",
    "    'sampling' : [\n",
    "                  ADASYN(random_state=22)\n",
    "                  ],\n",
    "    'clf__solver' : ['lbfgs', 'liblinear', 'newton-cg', 'newton-cholesky', 'sag', 'saga'],\n",
    "    'clf__penalty' :  ['l1', 'l2', 'elasticnet'],\n",
    "    'clf__C' :   [0.001, 0.01, 0.1, 1, 10, 100, 1000],\n",
    "    'clf__max_iter' : [100, 1000]\n",
    "}\n",
    "\n",
    "\n",
    "grid_search_cv_balance_logreg_opt = GridSearchCV(\n",
    "    estimator = pipe_balance,\n",
    "    param_grid = model_search,\n",
    "    scoring = f2,\n",
    "    verbose=1,  # setiap proses dikeluarkan\n",
    "    return_train_score=True,\n",
    "    cv = StratifiedKFold(),\n",
    "    n_jobs=-1\n",
    ")"
   ]
  },
  {
   "cell_type": "code",
   "execution_count": 43,
   "metadata": {},
   "outputs": [
    {
     "name": "stdout",
     "output_type": "stream",
     "text": [
      "Fitting 5 folds for each of 252 candidates, totalling 1260 fits\n"
     ]
    },
    {
     "data": {
      "text/html": [
       "<style>#sk-container-id-6 {color: black;}#sk-container-id-6 pre{padding: 0;}#sk-container-id-6 div.sk-toggleable {background-color: white;}#sk-container-id-6 label.sk-toggleable__label {cursor: pointer;display: block;width: 100%;margin-bottom: 0;padding: 0.3em;box-sizing: border-box;text-align: center;}#sk-container-id-6 label.sk-toggleable__label-arrow:before {content: \"▸\";float: left;margin-right: 0.25em;color: #696969;}#sk-container-id-6 label.sk-toggleable__label-arrow:hover:before {color: black;}#sk-container-id-6 div.sk-estimator:hover label.sk-toggleable__label-arrow:before {color: black;}#sk-container-id-6 div.sk-toggleable__content {max-height: 0;max-width: 0;overflow: hidden;text-align: left;background-color: #f0f8ff;}#sk-container-id-6 div.sk-toggleable__content pre {margin: 0.2em;color: black;border-radius: 0.25em;background-color: #f0f8ff;}#sk-container-id-6 input.sk-toggleable__control:checked~div.sk-toggleable__content {max-height: 200px;max-width: 100%;overflow: auto;}#sk-container-id-6 input.sk-toggleable__control:checked~label.sk-toggleable__label-arrow:before {content: \"▾\";}#sk-container-id-6 div.sk-estimator input.sk-toggleable__control:checked~label.sk-toggleable__label {background-color: #d4ebff;}#sk-container-id-6 div.sk-label input.sk-toggleable__control:checked~label.sk-toggleable__label {background-color: #d4ebff;}#sk-container-id-6 input.sk-hidden--visually {border: 0;clip: rect(1px 1px 1px 1px);clip: rect(1px, 1px, 1px, 1px);height: 1px;margin: -1px;overflow: hidden;padding: 0;position: absolute;width: 1px;}#sk-container-id-6 div.sk-estimator {font-family: monospace;background-color: #f0f8ff;border: 1px dotted black;border-radius: 0.25em;box-sizing: border-box;margin-bottom: 0.5em;}#sk-container-id-6 div.sk-estimator:hover {background-color: #d4ebff;}#sk-container-id-6 div.sk-parallel-item::after {content: \"\";width: 100%;border-bottom: 1px solid gray;flex-grow: 1;}#sk-container-id-6 div.sk-label:hover label.sk-toggleable__label {background-color: #d4ebff;}#sk-container-id-6 div.sk-serial::before {content: \"\";position: absolute;border-left: 1px solid gray;box-sizing: border-box;top: 0;bottom: 0;left: 50%;z-index: 0;}#sk-container-id-6 div.sk-serial {display: flex;flex-direction: column;align-items: center;background-color: white;padding-right: 0.2em;padding-left: 0.2em;position: relative;}#sk-container-id-6 div.sk-item {position: relative;z-index: 1;}#sk-container-id-6 div.sk-parallel {display: flex;align-items: stretch;justify-content: center;background-color: white;position: relative;}#sk-container-id-6 div.sk-item::before, #sk-container-id-6 div.sk-parallel-item::before {content: \"\";position: absolute;border-left: 1px solid gray;box-sizing: border-box;top: 0;bottom: 0;left: 50%;z-index: -1;}#sk-container-id-6 div.sk-parallel-item {display: flex;flex-direction: column;z-index: 1;position: relative;background-color: white;}#sk-container-id-6 div.sk-parallel-item:first-child::after {align-self: flex-end;width: 50%;}#sk-container-id-6 div.sk-parallel-item:last-child::after {align-self: flex-start;width: 50%;}#sk-container-id-6 div.sk-parallel-item:only-child::after {width: 0;}#sk-container-id-6 div.sk-dashed-wrapped {border: 1px dashed gray;margin: 0 0.4em 0.5em 0.4em;box-sizing: border-box;padding-bottom: 0.4em;background-color: white;}#sk-container-id-6 div.sk-label label {font-family: monospace;font-weight: bold;display: inline-block;line-height: 1.2em;}#sk-container-id-6 div.sk-label-container {text-align: center;}#sk-container-id-6 div.sk-container {/* jupyter's `normalize.less` sets `[hidden] { display: none; }` but bootstrap.min.css set `[hidden] { display: none !important; }` so we also need the `!important` here to be able to override the default hidden behavior on the sphinx rendered scikit-learn.org. See: https://github.com/scikit-learn/scikit-learn/issues/21755 */display: inline-block !important;position: relative;}#sk-container-id-6 div.sk-text-repr-fallback {display: none;}</style><div id=\"sk-container-id-6\" class=\"sk-top-container\"><div class=\"sk-text-repr-fallback\"><pre>GridSearchCV(cv=StratifiedKFold(n_splits=5, random_state=None, shuffle=False),\n",
       "             estimator=Pipeline(steps=[(&#x27;prepocessing&#x27;,\n",
       "                                        ColumnTransformer(remainder=&#x27;passthrough&#x27;,\n",
       "                                                          transformers=[(&#x27;scaling&#x27;,\n",
       "                                                                         None,\n",
       "                                                                         [&#x27;tenure&#x27;,\n",
       "                                                                          &#x27;MonthlyCharges&#x27;]),\n",
       "                                                                        (&#x27;OHE&#x27;,\n",
       "                                                                         OneHotEncoder(drop=&#x27;first&#x27;),\n",
       "                                                                         [&#x27;Dependents&#x27;,\n",
       "                                                                          &#x27;OnlineSecurity&#x27;,\n",
       "                                                                          &#x27;OnlineBackup&#x27;,\n",
       "                                                                          &#x27;DeviceProtection&#x27;,\n",
       "                                                                          &#x27;TechSupport&#x27;,\n",
       "                                                                          &#x27;PaperlessBilling...\n",
       "                                                    random_state=22)],\n",
       "                         &#x27;clf__C&#x27;: [0.001, 0.01, 0.1, 1, 10, 100, 1000],\n",
       "                         &#x27;clf__max_iter&#x27;: [100, 1000],\n",
       "                         &#x27;clf__penalty&#x27;: [&#x27;l1&#x27;, &#x27;l2&#x27;, &#x27;elasticnet&#x27;],\n",
       "                         &#x27;clf__solver&#x27;: [&#x27;lbfgs&#x27;, &#x27;liblinear&#x27;, &#x27;newton-cg&#x27;,\n",
       "                                         &#x27;newton-cholesky&#x27;, &#x27;sag&#x27;, &#x27;saga&#x27;],\n",
       "                         &#x27;prepocessing__scaling&#x27;: [MinMaxScaler()],\n",
       "                         &#x27;sampling&#x27;: [ADASYN(random_state=22)]},\n",
       "             return_train_score=True, scoring=make_scorer(fbeta_score, beta=2),\n",
       "             verbose=1)</pre><b>In a Jupyter environment, please rerun this cell to show the HTML representation or trust the notebook. <br />On GitHub, the HTML representation is unable to render, please try loading this page with nbviewer.org.</b></div><div class=\"sk-container\" hidden><div class=\"sk-item sk-dashed-wrapped\"><div class=\"sk-label-container\"><div class=\"sk-label sk-toggleable\"><input class=\"sk-toggleable__control sk-hidden--visually\" id=\"sk-estimator-id-61\" type=\"checkbox\" ><label for=\"sk-estimator-id-61\" class=\"sk-toggleable__label sk-toggleable__label-arrow\">GridSearchCV</label><div class=\"sk-toggleable__content\"><pre>GridSearchCV(cv=StratifiedKFold(n_splits=5, random_state=None, shuffle=False),\n",
       "             estimator=Pipeline(steps=[(&#x27;prepocessing&#x27;,\n",
       "                                        ColumnTransformer(remainder=&#x27;passthrough&#x27;,\n",
       "                                                          transformers=[(&#x27;scaling&#x27;,\n",
       "                                                                         None,\n",
       "                                                                         [&#x27;tenure&#x27;,\n",
       "                                                                          &#x27;MonthlyCharges&#x27;]),\n",
       "                                                                        (&#x27;OHE&#x27;,\n",
       "                                                                         OneHotEncoder(drop=&#x27;first&#x27;),\n",
       "                                                                         [&#x27;Dependents&#x27;,\n",
       "                                                                          &#x27;OnlineSecurity&#x27;,\n",
       "                                                                          &#x27;OnlineBackup&#x27;,\n",
       "                                                                          &#x27;DeviceProtection&#x27;,\n",
       "                                                                          &#x27;TechSupport&#x27;,\n",
       "                                                                          &#x27;PaperlessBilling...\n",
       "                                                    random_state=22)],\n",
       "                         &#x27;clf__C&#x27;: [0.001, 0.01, 0.1, 1, 10, 100, 1000],\n",
       "                         &#x27;clf__max_iter&#x27;: [100, 1000],\n",
       "                         &#x27;clf__penalty&#x27;: [&#x27;l1&#x27;, &#x27;l2&#x27;, &#x27;elasticnet&#x27;],\n",
       "                         &#x27;clf__solver&#x27;: [&#x27;lbfgs&#x27;, &#x27;liblinear&#x27;, &#x27;newton-cg&#x27;,\n",
       "                                         &#x27;newton-cholesky&#x27;, &#x27;sag&#x27;, &#x27;saga&#x27;],\n",
       "                         &#x27;prepocessing__scaling&#x27;: [MinMaxScaler()],\n",
       "                         &#x27;sampling&#x27;: [ADASYN(random_state=22)]},\n",
       "             return_train_score=True, scoring=make_scorer(fbeta_score, beta=2),\n",
       "             verbose=1)</pre></div></div></div><div class=\"sk-parallel\"><div class=\"sk-parallel-item\"><div class=\"sk-item\"><div class=\"sk-label-container\"><div class=\"sk-label sk-toggleable\"><input class=\"sk-toggleable__control sk-hidden--visually\" id=\"sk-estimator-id-62\" type=\"checkbox\" ><label for=\"sk-estimator-id-62\" class=\"sk-toggleable__label sk-toggleable__label-arrow\">estimator: Pipeline</label><div class=\"sk-toggleable__content\"><pre>Pipeline(steps=[(&#x27;prepocessing&#x27;,\n",
       "                 ColumnTransformer(remainder=&#x27;passthrough&#x27;,\n",
       "                                   transformers=[(&#x27;scaling&#x27;, None,\n",
       "                                                  [&#x27;tenure&#x27;, &#x27;MonthlyCharges&#x27;]),\n",
       "                                                 (&#x27;OHE&#x27;,\n",
       "                                                  OneHotEncoder(drop=&#x27;first&#x27;),\n",
       "                                                  [&#x27;Dependents&#x27;,\n",
       "                                                   &#x27;OnlineSecurity&#x27;,\n",
       "                                                   &#x27;OnlineBackup&#x27;,\n",
       "                                                   &#x27;DeviceProtection&#x27;,\n",
       "                                                   &#x27;TechSupport&#x27;,\n",
       "                                                   &#x27;PaperlessBilling&#x27;]),\n",
       "                                                 (&#x27;ordinal&#x27;,\n",
       "                                                  OrdinalEncoder(cols=[&#x27;InternetService&#x27;,\n",
       "                                                                       &#x27;Contract&#x27;],\n",
       "                                                                 mapping=[{&#x27;col&#x27;: &#x27;InternetService&#x27;,\n",
       "                                                                           &#x27;data_type&#x27;: dtype(&#x27;O&#x27;),\n",
       "                                                                           &#x27;mapping&#x27;: None           0\n",
       "Fiber optic    3\n",
       "DSL            2\n",
       "No             1\n",
       "dtype: int64},\n",
       "                                                                          {&#x27;col&#x27;: &#x27;Contract&#x27;,\n",
       "                                                                           &#x27;data_type&#x27;: dtype(&#x27;O&#x27;),\n",
       "                                                                           &#x27;mapping&#x27;: None              0\n",
       "Month-to-month    3\n",
       "One year          2\n",
       "Two year          1\n",
       "dtype: int64}]),\n",
       "                                                  [&#x27;InternetService&#x27;,\n",
       "                                                   &#x27;Contract&#x27;])])),\n",
       "                (&#x27;sampling&#x27;, None), (&#x27;clf&#x27;, None)])</pre></div></div></div><div class=\"sk-serial\"><div class=\"sk-item\"><div class=\"sk-serial\"><div class=\"sk-item sk-dashed-wrapped\"><div class=\"sk-label-container\"><div class=\"sk-label sk-toggleable\"><input class=\"sk-toggleable__control sk-hidden--visually\" id=\"sk-estimator-id-63\" type=\"checkbox\" ><label for=\"sk-estimator-id-63\" class=\"sk-toggleable__label sk-toggleable__label-arrow\">prepocessing: ColumnTransformer</label><div class=\"sk-toggleable__content\"><pre>ColumnTransformer(remainder=&#x27;passthrough&#x27;,\n",
       "                  transformers=[(&#x27;scaling&#x27;, None, [&#x27;tenure&#x27;, &#x27;MonthlyCharges&#x27;]),\n",
       "                                (&#x27;OHE&#x27;, OneHotEncoder(drop=&#x27;first&#x27;),\n",
       "                                 [&#x27;Dependents&#x27;, &#x27;OnlineSecurity&#x27;,\n",
       "                                  &#x27;OnlineBackup&#x27;, &#x27;DeviceProtection&#x27;,\n",
       "                                  &#x27;TechSupport&#x27;, &#x27;PaperlessBilling&#x27;]),\n",
       "                                (&#x27;ordinal&#x27;,\n",
       "                                 OrdinalEncoder(cols=[&#x27;InternetService&#x27;,\n",
       "                                                      &#x27;Contract&#x27;],\n",
       "                                                mapping=[{&#x27;col&#x27;: &#x27;InternetService&#x27;,\n",
       "                                                          &#x27;data_type&#x27;: dtype(&#x27;O&#x27;),\n",
       "                                                          &#x27;mapping&#x27;: None           0\n",
       "Fiber optic    3\n",
       "DSL            2\n",
       "No             1\n",
       "dtype: int64},\n",
       "                                                         {&#x27;col&#x27;: &#x27;Contract&#x27;,\n",
       "                                                          &#x27;data_type&#x27;: dtype(&#x27;O&#x27;),\n",
       "                                                          &#x27;mapping&#x27;: None              0\n",
       "Month-to-month    3\n",
       "One year          2\n",
       "Two year          1\n",
       "dtype: int64}]),\n",
       "                                 [&#x27;InternetService&#x27;, &#x27;Contract&#x27;])])</pre></div></div></div><div class=\"sk-parallel\"><div class=\"sk-parallel-item\"><div class=\"sk-item\"><div class=\"sk-label-container\"><div class=\"sk-label sk-toggleable\"><input class=\"sk-toggleable__control sk-hidden--visually\" id=\"sk-estimator-id-64\" type=\"checkbox\" ><label for=\"sk-estimator-id-64\" class=\"sk-toggleable__label sk-toggleable__label-arrow\">scaling</label><div class=\"sk-toggleable__content\"><pre>[&#x27;tenure&#x27;, &#x27;MonthlyCharges&#x27;]</pre></div></div></div><div class=\"sk-serial\"><div class=\"sk-item\"><div class=\"sk-estimator sk-toggleable\"><input class=\"sk-toggleable__control sk-hidden--visually\" id=\"sk-estimator-id-65\" type=\"checkbox\" ><label for=\"sk-estimator-id-65\" class=\"sk-toggleable__label sk-toggleable__label-arrow\">None</label><div class=\"sk-toggleable__content\"><pre>None</pre></div></div></div></div></div></div><div class=\"sk-parallel-item\"><div class=\"sk-item\"><div class=\"sk-label-container\"><div class=\"sk-label sk-toggleable\"><input class=\"sk-toggleable__control sk-hidden--visually\" id=\"sk-estimator-id-66\" type=\"checkbox\" ><label for=\"sk-estimator-id-66\" class=\"sk-toggleable__label sk-toggleable__label-arrow\">OHE</label><div class=\"sk-toggleable__content\"><pre>[&#x27;Dependents&#x27;, &#x27;OnlineSecurity&#x27;, &#x27;OnlineBackup&#x27;, &#x27;DeviceProtection&#x27;, &#x27;TechSupport&#x27;, &#x27;PaperlessBilling&#x27;]</pre></div></div></div><div class=\"sk-serial\"><div class=\"sk-item\"><div class=\"sk-estimator sk-toggleable\"><input class=\"sk-toggleable__control sk-hidden--visually\" id=\"sk-estimator-id-67\" type=\"checkbox\" ><label for=\"sk-estimator-id-67\" class=\"sk-toggleable__label sk-toggleable__label-arrow\">OneHotEncoder</label><div class=\"sk-toggleable__content\"><pre>OneHotEncoder(drop=&#x27;first&#x27;)</pre></div></div></div></div></div></div><div class=\"sk-parallel-item\"><div class=\"sk-item\"><div class=\"sk-label-container\"><div class=\"sk-label sk-toggleable\"><input class=\"sk-toggleable__control sk-hidden--visually\" id=\"sk-estimator-id-68\" type=\"checkbox\" ><label for=\"sk-estimator-id-68\" class=\"sk-toggleable__label sk-toggleable__label-arrow\">ordinal</label><div class=\"sk-toggleable__content\"><pre>[&#x27;InternetService&#x27;, &#x27;Contract&#x27;]</pre></div></div></div><div class=\"sk-serial\"><div class=\"sk-item\"><div class=\"sk-estimator sk-toggleable\"><input class=\"sk-toggleable__control sk-hidden--visually\" id=\"sk-estimator-id-69\" type=\"checkbox\" ><label for=\"sk-estimator-id-69\" class=\"sk-toggleable__label sk-toggleable__label-arrow\">OrdinalEncoder</label><div class=\"sk-toggleable__content\"><pre>OrdinalEncoder(cols=[&#x27;InternetService&#x27;, &#x27;Contract&#x27;],\n",
       "               mapping=[{&#x27;col&#x27;: &#x27;InternetService&#x27;, &#x27;data_type&#x27;: dtype(&#x27;O&#x27;),\n",
       "                         &#x27;mapping&#x27;: None           0\n",
       "Fiber optic    3\n",
       "DSL            2\n",
       "No             1\n",
       "dtype: int64},\n",
       "                        {&#x27;col&#x27;: &#x27;Contract&#x27;, &#x27;data_type&#x27;: dtype(&#x27;O&#x27;),\n",
       "                         &#x27;mapping&#x27;: None              0\n",
       "Month-to-month    3\n",
       "One year          2\n",
       "Two year          1\n",
       "dtype: int64}])</pre></div></div></div></div></div></div><div class=\"sk-parallel-item\"><div class=\"sk-item\"><div class=\"sk-label-container\"><div class=\"sk-label sk-toggleable\"><input class=\"sk-toggleable__control sk-hidden--visually\" id=\"sk-estimator-id-70\" type=\"checkbox\" ><label for=\"sk-estimator-id-70\" class=\"sk-toggleable__label sk-toggleable__label-arrow\">remainder</label><div class=\"sk-toggleable__content\"><pre></pre></div></div></div><div class=\"sk-serial\"><div class=\"sk-item\"><div class=\"sk-estimator sk-toggleable\"><input class=\"sk-toggleable__control sk-hidden--visually\" id=\"sk-estimator-id-71\" type=\"checkbox\" ><label for=\"sk-estimator-id-71\" class=\"sk-toggleable__label sk-toggleable__label-arrow\">passthrough</label><div class=\"sk-toggleable__content\"><pre>passthrough</pre></div></div></div></div></div></div></div></div><div class=\"sk-item\"><div class=\"sk-estimator sk-toggleable\"><input class=\"sk-toggleable__control sk-hidden--visually\" id=\"sk-estimator-id-72\" type=\"checkbox\" ><label for=\"sk-estimator-id-72\" class=\"sk-toggleable__label sk-toggleable__label-arrow\">None</label><div class=\"sk-toggleable__content\"><pre>None</pre></div></div></div><div class=\"sk-item\"><div class=\"sk-estimator sk-toggleable\"><input class=\"sk-toggleable__control sk-hidden--visually\" id=\"sk-estimator-id-73\" type=\"checkbox\" ><label for=\"sk-estimator-id-73\" class=\"sk-toggleable__label sk-toggleable__label-arrow\">None</label><div class=\"sk-toggleable__content\"><pre>None</pre></div></div></div></div></div></div></div></div></div></div></div></div>"
      ],
      "text/plain": [
       "GridSearchCV(cv=StratifiedKFold(n_splits=5, random_state=None, shuffle=False),\n",
       "             estimator=Pipeline(steps=[('prepocessing',\n",
       "                                        ColumnTransformer(remainder='passthrough',\n",
       "                                                          transformers=[('scaling',\n",
       "                                                                         None,\n",
       "                                                                         ['tenure',\n",
       "                                                                          'MonthlyCharges']),\n",
       "                                                                        ('OHE',\n",
       "                                                                         OneHotEncoder(drop='first'),\n",
       "                                                                         ['Dependents',\n",
       "                                                                          'OnlineSecurity',\n",
       "                                                                          'OnlineBackup',\n",
       "                                                                          'DeviceProtection',\n",
       "                                                                          'TechSupport',\n",
       "                                                                          'PaperlessBilling...\n",
       "                                                    random_state=22)],\n",
       "                         'clf__C': [0.001, 0.01, 0.1, 1, 10, 100, 1000],\n",
       "                         'clf__max_iter': [100, 1000],\n",
       "                         'clf__penalty': ['l1', 'l2', 'elasticnet'],\n",
       "                         'clf__solver': ['lbfgs', 'liblinear', 'newton-cg',\n",
       "                                         'newton-cholesky', 'sag', 'saga'],\n",
       "                         'prepocessing__scaling': [MinMaxScaler()],\n",
       "                         'sampling': [ADASYN(random_state=22)]},\n",
       "             return_train_score=True, scoring=make_scorer(fbeta_score, beta=2),\n",
       "             verbose=1)"
      ]
     },
     "execution_count": 43,
     "metadata": {},
     "output_type": "execute_result"
    }
   ],
   "source": [
    "grid_search_cv_balance_logreg_opt.fit(x_train, y_train)"
   ]
  },
  {
   "cell_type": "code",
   "execution_count": 44,
   "metadata": {},
   "outputs": [
    {
     "name": "stdout",
     "output_type": "stream",
     "text": [
      "logreg tuning best score = 0.733852692925615\n"
     ]
    },
    {
     "data": {
      "text/plain": [
       "{'clf': LogisticRegression(class_weight='balanced', random_state=22),\n",
       " 'clf__C': 0.001,\n",
       " 'clf__max_iter': 100,\n",
       " 'clf__penalty': 'l2',\n",
       " 'clf__solver': 'lbfgs',\n",
       " 'prepocessing__scaling': MinMaxScaler(),\n",
       " 'sampling': ADASYN(random_state=22)}"
      ]
     },
     "execution_count": 44,
     "metadata": {},
     "output_type": "execute_result"
    }
   ],
   "source": [
    "\n",
    "print(f\"logreg tuning best score = {grid_search_cv_balance_logreg_opt.best_score_}\")\n",
    "grid_search_cv_balance_logreg_opt.best_params_\n"
   ]
  },
  {
   "cell_type": "code",
   "execution_count": 45,
   "metadata": {},
   "outputs": [
    {
     "data": {
      "text/html": [
       "<div>\n",
       "<style scoped>\n",
       "    .dataframe tbody tr th:only-of-type {\n",
       "        vertical-align: middle;\n",
       "    }\n",
       "\n",
       "    .dataframe tbody tr th {\n",
       "        vertical-align: top;\n",
       "    }\n",
       "\n",
       "    .dataframe thead th {\n",
       "        text-align: right;\n",
       "    }\n",
       "</style>\n",
       "<table border=\"1\" class=\"dataframe\">\n",
       "  <thead>\n",
       "    <tr style=\"text-align: right;\">\n",
       "      <th></th>\n",
       "      <th>param_clf__C</th>\n",
       "      <th>param_clf__max_iter</th>\n",
       "      <th>param_clf__solver</th>\n",
       "      <th>param_clf__penalty</th>\n",
       "      <th>mean_test_score</th>\n",
       "      <th>mean_train_score</th>\n",
       "      <th>rank_test_score</th>\n",
       "    </tr>\n",
       "  </thead>\n",
       "  <tbody>\n",
       "    <tr>\n",
       "      <th>29</th>\n",
       "      <td>0.001</td>\n",
       "      <td>1000</td>\n",
       "      <td>saga</td>\n",
       "      <td>l2</td>\n",
       "      <td>0.733853</td>\n",
       "      <td>0.733099</td>\n",
       "      <td>1</td>\n",
       "    </tr>\n",
       "    <tr>\n",
       "      <th>6</th>\n",
       "      <td>0.001</td>\n",
       "      <td>100</td>\n",
       "      <td>lbfgs</td>\n",
       "      <td>l2</td>\n",
       "      <td>0.733853</td>\n",
       "      <td>0.733131</td>\n",
       "      <td>1</td>\n",
       "    </tr>\n",
       "    <tr>\n",
       "      <th>28</th>\n",
       "      <td>0.001</td>\n",
       "      <td>1000</td>\n",
       "      <td>sag</td>\n",
       "      <td>l2</td>\n",
       "      <td>0.733853</td>\n",
       "      <td>0.733131</td>\n",
       "      <td>1</td>\n",
       "    </tr>\n",
       "    <tr>\n",
       "      <th>8</th>\n",
       "      <td>0.001</td>\n",
       "      <td>100</td>\n",
       "      <td>newton-cg</td>\n",
       "      <td>l2</td>\n",
       "      <td>0.733853</td>\n",
       "      <td>0.733131</td>\n",
       "      <td>1</td>\n",
       "    </tr>\n",
       "    <tr>\n",
       "      <th>9</th>\n",
       "      <td>0.001</td>\n",
       "      <td>100</td>\n",
       "      <td>newton-cholesky</td>\n",
       "      <td>l2</td>\n",
       "      <td>0.733853</td>\n",
       "      <td>0.733099</td>\n",
       "      <td>1</td>\n",
       "    </tr>\n",
       "  </tbody>\n",
       "</table>\n",
       "</div>"
      ],
      "text/plain": [
       "   param_clf__C param_clf__max_iter param_clf__solver param_clf__penalty  \\\n",
       "29        0.001                1000              saga                 l2   \n",
       "6         0.001                 100             lbfgs                 l2   \n",
       "28        0.001                1000               sag                 l2   \n",
       "8         0.001                 100         newton-cg                 l2   \n",
       "9         0.001                 100   newton-cholesky                 l2   \n",
       "\n",
       "    mean_test_score  mean_train_score  rank_test_score  \n",
       "29         0.733853          0.733099                1  \n",
       "6          0.733853          0.733131                1  \n",
       "28         0.733853          0.733131                1  \n",
       "8          0.733853          0.733131                1  \n",
       "9          0.733853          0.733099                1  "
      ]
     },
     "execution_count": 45,
     "metadata": {},
     "output_type": "execute_result"
    }
   ],
   "source": [
    "df_result_logreg_opt = pd.DataFrame(grid_search_cv_balance_logreg_opt.cv_results_)\n",
    "df_result_logreg_opt[['param_clf__C','param_clf__max_iter','param_clf__solver','param_clf__penalty','mean_test_score','mean_train_score','rank_test_score']].sort_values('rank_test_score').head()"
   ]
  },
  {
   "cell_type": "markdown",
   "metadata": {},
   "source": [
    "Dari tabel di atas juga terlihat bahwa 5 rata-rata skor f2_score tertinggi (dengan angka yang sama) didominasi oleh hyperparameter `C` dengan nilai 0.001 dan parameter `penalty` dengan nilai l2. Sedangkan nilai solver masih bervariasi diantara saga, lbfgs, sag, newton-cg, dan newton-cholesky, begitupun untuk nilai max_iter ada diantara 100 dan 1000. Hal tersebut menunjukkan bahwa skor f2_score yang tinggi dapat diperoleh dengan parameter `C` = 0.001 dan `penalty` = l2,  pada `LogisticRegression`.\n",
    "\n",
    "Selanjutnya kita coba ke data test."
   ]
  },
  {
   "cell_type": "code",
   "execution_count": 46,
   "metadata": {},
   "outputs": [
    {
     "name": "stdout",
     "output_type": "stream",
     "text": [
      "F2 score test before tuning : 0.7246376811594204\n",
      "F2 score test after tuning : 0.7272727272727272\n"
     ]
    }
   ],
   "source": [
    "y_pred_test_logreg = grid_search_cv_balance.predict(x_test)\n",
    "# LogisticRegression\n",
    "# print(classification_report(y_test, y_pred_test_logreg))\n",
    "\n",
    "print('F2 score test before tuning :', fbeta_score(y_test, y_pred_test_logreg, beta=2))\n",
    "\n",
    "y_pred_test_logreg = grid_search_cv_balance_logreg_opt.predict(x_test)\n",
    "# LogisticRegression\n",
    "# print(classification_report(y_test, y_pred_test_logreg))\n",
    "\n",
    "print('F2 score test after tuning :', fbeta_score(y_test, y_pred_test_logreg, beta=2))\n"
   ]
  },
  {
   "cell_type": "markdown",
   "metadata": {},
   "source": [
    "Terlihat bahwa model `Logistic Regression` setelah kita tuning hyperparameternya memiliki nilai f2 score yang tidak berbeda jauh dengan model Benchmark sebelum tuning dengan acuan data testing.\n",
    "\n",
    "Selanjutnya kita cek menggunakan data holdout dengan menggunakan model after tuning."
   ]
  },
  {
   "cell_type": "code",
   "execution_count": 47,
   "metadata": {},
   "outputs": [
    {
     "name": "stdout",
     "output_type": "stream",
     "text": [
      "F2 score hold out: 0.7008086253369272\n"
     ]
    }
   ],
   "source": [
    "y_pred_hold_out = grid_search_cv_balance_logreg_opt.predict(df_feature_2)\n",
    "\n",
    "# print(classification_report(df_target_2, y_pred_hold_out))\n",
    "\n",
    "print('F2 score hold out:', fbeta_score(df_target_2, y_pred_hold_out, beta=2))"
   ]
  },
  {
   "cell_type": "markdown",
   "metadata": {},
   "source": [
    "Dapat kita lihat, bahwa f2 score yang dihasilkan data hold out tidak jauh berbeda ketika menggunakan data testing. Ini artinya model dapat digunakan untuk memprediksi data baru dengan baik, bahkan untuk data yang belum pernah dilihat sebelumnya."
   ]
  },
  {
   "cell_type": "markdown",
   "metadata": {},
   "source": [
    "# *FINAL MODEL - Logistic Regression AS INTERPRETABLE ML*"
   ]
  },
  {
   "cell_type": "markdown",
   "metadata": {},
   "source": [
    "Model terbaik untuk interpretable Machine Learning yang akan kita pakai adalah Logistic Regression yang telah dituning.\n",
    "\n",
    "Logistic Regression adalah metode statistik yang digunakan untuk memodelkan hubungan antara variabel dependen biner dengan satu atau lebih variabel independen. Dalam konteks ini, variabel dependen adalah biner, artinya hanya memiliki dua kategori atau nilai seperti 0 dan 1, ya atau tidak, sukses atau gagal. Tujuan Logistic Regression adalah memprediksi probabilitas terjadinya suatu peristiwa berdasarkan nilai-nilai variabel independen."
   ]
  },
  {
   "cell_type": "code",
   "execution_count": 48,
   "metadata": {},
   "outputs": [
    {
     "data": {
      "text/plain": [
       "array(['scaling__tenure', 'scaling__MonthlyCharges',\n",
       "       'OHE__Dependents_Yes', 'OHE__OnlineSecurity_Yes',\n",
       "       'OHE__OnlineBackup_Yes', 'OHE__DeviceProtection_Yes',\n",
       "       'OHE__TechSupport_Yes', 'OHE__PaperlessBilling_Yes',\n",
       "       'ordinal__InternetService', 'ordinal__Contract'], dtype=object)"
      ]
     },
     "execution_count": 48,
     "metadata": {},
     "output_type": "execute_result"
    }
   ],
   "source": [
    "grid_search_cv_balance_logreg_opt.best_estimator_.named_steps['clf']\n",
    "\n",
    "grid_search_cv_balance_logreg_opt.best_estimator_.named_steps['clf'].coef_\n",
    "\n",
    "#   mengecek konstanta yang ada\n",
    "grid_search_cv_balance_logreg_opt.best_estimator_.named_steps['clf'].intercept_\n",
    "\n",
    "grid_search_cv_balance_logreg_opt.best_estimator_['prepocessing'].get_feature_names_out()\n"
   ]
  },
  {
   "cell_type": "code",
   "execution_count": 66,
   "metadata": {},
   "outputs": [
    {
     "data": {
      "image/png": "[encoded data removed]",
      "text/plain": [
       "<Figure size 1000x700 with 1 Axes>"
      ]
     },
     "metadata": {},
     "output_type": "display_data"
    }
   ],
   "source": [
    "feature_imp = pd.DataFrame()\n",
    "\n",
    "feature_imp['feature'] = ['tenure', 'MonthlyCharges', 'Dependents', 'OnlineSecurity', 'OnlineBackup', 'DeviceProtection', 'TechSupport', 'PaperlessBilling', 'InternetService', 'Contract']\n",
    "feature_imp['score'] = grid_search_cv_balance_logreg_opt.best_estimator_.named_steps['clf'].coef_.reshape(-1, 1)\n",
    "feature_imp = feature_imp.set_index('feature')\n",
    "feature_imp.sort_values('score', ascending=True).plot(kind='barh', figsize=(10, 7))\n",
    "plt.title('Coefisien Regression')\n",
    "plt.show()"
   ]
  },
  {
   "cell_type": "code",
   "execution_count": 50,
   "metadata": {},
   "outputs": [
    {
     "data": {
      "text/html": [
       "<div>\n",
       "<style scoped>\n",
       "    .dataframe tbody tr th:only-of-type {\n",
       "        vertical-align: middle;\n",
       "    }\n",
       "\n",
       "    .dataframe tbody tr th {\n",
       "        vertical-align: top;\n",
       "    }\n",
       "\n",
       "    .dataframe thead th {\n",
       "        text-align: right;\n",
       "    }\n",
       "</style>\n",
       "<table border=\"1\" class=\"dataframe\">\n",
       "  <thead>\n",
       "    <tr style=\"text-align: right;\">\n",
       "      <th></th>\n",
       "      <th>score</th>\n",
       "    </tr>\n",
       "    <tr>\n",
       "      <th>feature</th>\n",
       "      <th></th>\n",
       "    </tr>\n",
       "  </thead>\n",
       "  <tbody>\n",
       "    <tr>\n",
       "      <th>Contract</th>\n",
       "      <td>0.463423</td>\n",
       "    </tr>\n",
       "    <tr>\n",
       "      <th>InternetService</th>\n",
       "      <td>0.293470</td>\n",
       "    </tr>\n",
       "    <tr>\n",
       "      <th>PaperlessBilling</th>\n",
       "      <td>0.123337</td>\n",
       "    </tr>\n",
       "    <tr>\n",
       "      <th>MonthlyCharges</th>\n",
       "      <td>0.070762</td>\n",
       "    </tr>\n",
       "    <tr>\n",
       "      <th>DeviceProtection</th>\n",
       "      <td>-0.024472</td>\n",
       "    </tr>\n",
       "    <tr>\n",
       "      <th>OnlineBackup</th>\n",
       "      <td>-0.069244</td>\n",
       "    </tr>\n",
       "    <tr>\n",
       "      <th>TechSupport</th>\n",
       "      <td>-0.091027</td>\n",
       "    </tr>\n",
       "    <tr>\n",
       "      <th>Dependents</th>\n",
       "      <td>-0.104519</td>\n",
       "    </tr>\n",
       "    <tr>\n",
       "      <th>OnlineSecurity</th>\n",
       "      <td>-0.113703</td>\n",
       "    </tr>\n",
       "    <tr>\n",
       "      <th>tenure</th>\n",
       "      <td>-0.187887</td>\n",
       "    </tr>\n",
       "  </tbody>\n",
       "</table>\n",
       "</div>"
      ],
      "text/plain": [
       "                     score\n",
       "feature                   \n",
       "Contract          0.463423\n",
       "InternetService   0.293470\n",
       "PaperlessBilling  0.123337\n",
       "MonthlyCharges    0.070762\n",
       "DeviceProtection -0.024472\n",
       "OnlineBackup     -0.069244\n",
       "TechSupport      -0.091027\n",
       "Dependents       -0.104519\n",
       "OnlineSecurity   -0.113703\n",
       "tenure           -0.187887"
      ]
     },
     "execution_count": 50,
     "metadata": {},
     "output_type": "execute_result"
    }
   ],
   "source": [
    "feature_imp.sort_values(by='score',ascending=False)"
   ]
  },
  {
   "cell_type": "markdown",
   "metadata": {},
   "source": [
    "Berdasarkan plot, Koefisien bernilai positif untuk variabel Contract adalah yang tertinggi. Ini menunjukkan bahwa kontrak pelanggan adalah faktor yang paling penting dalam memprediksi kemungkinan pelanggan berhenti berlangganan.\n",
    "\n",
    "Nilai Koefisien bernilai positif untuk variabel Contract juga menunjukkan bahwa pengaruhnya lebih besar untuk pelanggan dengan kontrak bulanan. Ini dapat dijelaskan dengan fakta bahwa pelanggan dengan kontrak bulanan memiliki lebih banyak pilihan untuk pindah ke penyedia layanan lain."
   ]
  },
  {
   "cell_type": "code",
   "execution_count": 51,
   "metadata": {},
   "outputs": [
    {
     "data": {
      "text/html": [
       "<div>\n",
       "<style scoped>\n",
       "    .dataframe tbody tr th:only-of-type {\n",
       "        vertical-align: middle;\n",
       "    }\n",
       "\n",
       "    .dataframe tbody tr th {\n",
       "        vertical-align: top;\n",
       "    }\n",
       "\n",
       "    .dataframe thead th {\n",
       "        text-align: right;\n",
       "    }\n",
       "</style>\n",
       "<table border=\"1\" class=\"dataframe\">\n",
       "  <thead>\n",
       "    <tr style=\"text-align: right;\">\n",
       "      <th></th>\n",
       "      <th></th>\n",
       "      <th>Churn</th>\n",
       "    </tr>\n",
       "    <tr>\n",
       "      <th>Contract</th>\n",
       "      <th>Churn</th>\n",
       "      <th></th>\n",
       "    </tr>\n",
       "  </thead>\n",
       "  <tbody>\n",
       "    <tr>\n",
       "      <th rowspan=\"2\" valign=\"top\">Month-to-month</th>\n",
       "      <th>No</th>\n",
       "      <td>1543</td>\n",
       "    </tr>\n",
       "    <tr>\n",
       "      <th>Yes</th>\n",
       "      <td>1178</td>\n",
       "    </tr>\n",
       "    <tr>\n",
       "      <th rowspan=\"2\" valign=\"top\">One year</th>\n",
       "      <th>No</th>\n",
       "      <td>946</td>\n",
       "    </tr>\n",
       "    <tr>\n",
       "      <th>Yes</th>\n",
       "      <td>106</td>\n",
       "    </tr>\n",
       "    <tr>\n",
       "      <th rowspan=\"2\" valign=\"top\">Two year</th>\n",
       "      <th>No</th>\n",
       "      <td>1125</td>\n",
       "    </tr>\n",
       "    <tr>\n",
       "      <th>Yes</th>\n",
       "      <td>32</td>\n",
       "    </tr>\n",
       "  </tbody>\n",
       "</table>\n",
       "</div>"
      ],
      "text/plain": [
       "                      Churn\n",
       "Contract       Churn       \n",
       "Month-to-month No      1543\n",
       "               Yes     1178\n",
       "One year       No       946\n",
       "               Yes      106\n",
       "Two year       No      1125\n",
       "               Yes       32"
      ]
     },
     "execution_count": 51,
     "metadata": {},
     "output_type": "execute_result"
    }
   ],
   "source": [
    "dfa.groupby(['Contract','Churn']).agg({'Churn':'count'})"
   ]
  },
  {
   "cell_type": "markdown",
   "metadata": {},
   "source": [
    "Koefisien bernilai positif untuk variabel InternetService adalah yang kedua tertinggi. Ini menunjukkan bahwa layanan internet pelanggan adalah faktor yang penting dalam memprediksi kemungkinan pelanggan berhenti berlangganan.\n",
    "\n",
    "Nilai Koefisien positif untuk variabel InternetService juga menunjukkan bahwa pengaruhnya lebih besar untuk pelanggan dengan layanan internet Fiber optic. Ini dapat dijelaskan dengan fakta bahwa pelanggan dengan layanan internet Fiber optic memiliki pilihan untuk pindah ke penyedia layanan lain alias **churn**."
   ]
  },
  {
   "cell_type": "code",
   "execution_count": 52,
   "metadata": {},
   "outputs": [
    {
     "data": {
      "text/html": [
       "<div>\n",
       "<style scoped>\n",
       "    .dataframe tbody tr th:only-of-type {\n",
       "        vertical-align: middle;\n",
       "    }\n",
       "\n",
       "    .dataframe tbody tr th {\n",
       "        vertical-align: top;\n",
       "    }\n",
       "\n",
       "    .dataframe thead th {\n",
       "        text-align: right;\n",
       "    }\n",
       "</style>\n",
       "<table border=\"1\" class=\"dataframe\">\n",
       "  <thead>\n",
       "    <tr style=\"text-align: right;\">\n",
       "      <th></th>\n",
       "      <th></th>\n",
       "      <th>Churn</th>\n",
       "    </tr>\n",
       "    <tr>\n",
       "      <th>InternetService</th>\n",
       "      <th>Churn</th>\n",
       "      <th></th>\n",
       "    </tr>\n",
       "  </thead>\n",
       "  <tbody>\n",
       "    <tr>\n",
       "      <th rowspan=\"2\" valign=\"top\">DSL</th>\n",
       "      <th>No</th>\n",
       "      <td>1388</td>\n",
       "    </tr>\n",
       "    <tr>\n",
       "      <th>Yes</th>\n",
       "      <td>318</td>\n",
       "    </tr>\n",
       "    <tr>\n",
       "      <th rowspan=\"2\" valign=\"top\">Fiber optic</th>\n",
       "      <th>No</th>\n",
       "      <td>1256</td>\n",
       "    </tr>\n",
       "    <tr>\n",
       "      <th>Yes</th>\n",
       "      <td>916</td>\n",
       "    </tr>\n",
       "    <tr>\n",
       "      <th rowspan=\"2\" valign=\"top\">No</th>\n",
       "      <th>No</th>\n",
       "      <td>970</td>\n",
       "    </tr>\n",
       "    <tr>\n",
       "      <th>Yes</th>\n",
       "      <td>82</td>\n",
       "    </tr>\n",
       "  </tbody>\n",
       "</table>\n",
       "</div>"
      ],
      "text/plain": [
       "                       Churn\n",
       "InternetService Churn       \n",
       "DSL             No      1388\n",
       "                Yes      318\n",
       "Fiber optic     No      1256\n",
       "                Yes      916\n",
       "No              No       970\n",
       "                Yes       82"
      ]
     },
     "execution_count": 52,
     "metadata": {},
     "output_type": "execute_result"
    }
   ],
   "source": [
    "dfa.groupby(['InternetService','Churn']).agg({'Churn':'count'})"
   ]
  },
  {
   "cell_type": "code",
   "execution_count": 53,
   "metadata": {},
   "outputs": [
    {
     "data": {
      "image/png": "[encoded data removed]",
      "text/plain": [
       "<Figure size 800x550 with 2 Axes>"
      ]
     },
     "metadata": {},
     "output_type": "display_data"
    }
   ],
   "source": [
    "import shap\n",
    "\n",
    "transformer2 = ColumnTransformer(\n",
    "    [\n",
    "     ('scaling', MinMaxScaler(), ['tenure','MonthlyCharges']),\n",
    "     ('OHE', OneHotEncoder(drop='first'), ['Dependents', 'OnlineSecurity', 'OnlineBackup', 'DeviceProtection', 'TechSupport', 'PaperlessBilling']),\n",
    "     ('ordinal', ce.OrdinalEncoder(cols=['InternetService', 'Contract'], mapping=ordinal_mapping), ['InternetService', 'Contract'])\n",
    "     ], remainder='passthrough'\n",
    ")\n",
    "\n",
    "log_fix = LogisticRegression(\n",
    "    class_weight='balanced',\n",
    "    random_state=22,\n",
    "    C = 0.001,\n",
    "    max_iter= 100,\n",
    "    penalty='l2',\n",
    "    solver='lbfgs'\n",
    ")\n",
    "\n",
    "transformer2.fit(x_train)\n",
    "x_train_pp = transformer2.transform(x_train)\n",
    "x_train_pp = pd.DataFrame(x_train_pp, columns=transformer2.get_feature_names_out())\n",
    "x_test_pp = transformer2.transform(x_test)\n",
    "\n",
    "log_fix.fit(x_train_pp, y_train)\n",
    "\n",
    "explainer = shap.Explainer(\n",
    "    log_fix, x_train_pp, feature_names=['tenure', 'MonthlyCharges', 'Dependents', 'OnlineSecurity', 'OnlineBackup', 'DeviceProtection', 'TechSupport', 'PaperlessBilling', 'InternetService', 'Contract']\n",
    ")\n",
    "\n",
    "shap_values = explainer(x_test_pp)\n",
    "\n",
    "shap.plots.beeswarm(shap_values)"
   ]
  },
  {
   "cell_type": "markdown",
   "metadata": {},
   "source": [
    "**Interpretasi**\n",
    "\n",
    "1. Berdasarkan grafik koefisien regresi di atas, kita dapat menyimpulkan bahwa fitur Contract, khususnya opsi month-to-month, memiliki dampak yang signifikan terhadap keputusan pelanggan.\n",
    "\n",
    "2. Dalam hal fitur InternetService, terutama opsi Fiber Optic, terlihat bahwa ini memiliki pengaruh yang lebih besar terhadap keputusan pelanggan untuk beralih ke penyedia layanan lain atau mengalami churn.\n",
    "\n",
    "3. Demikian pula, fitur MonthlyCharges juga memiliki dampak yang cukup besar; semakin tinggi harga bulanan, semakin besar kemungkinan pelanggan untuk memutuskan berpindah ke penyedia layanan lain atau mengalami churn."
   ]
  },
  {
   "cell_type": "code",
   "execution_count": 54,
   "metadata": {},
   "outputs": [],
   "source": [
    "y_pred_bef_tuning = grid_search_cv_balance.predict(x_test)\n",
    "y_pred_after_tuning = grid_search_cv_balance_logreg_opt.predict(x_test)"
   ]
  },
  {
   "cell_type": "code",
   "execution_count": 55,
   "metadata": {},
   "outputs": [
    {
     "data": {
      "image/png": "[encoded data removed]",
      "text/plain": [
       "<Figure size 1200x400 with 4 Axes>"
      ]
     },
     "metadata": {},
     "output_type": "display_data"
    }
   ],
   "source": [
    "plt.figure(figsize=(12,4))\n",
    "\n",
    "# Model LogregBoost before tuning\n",
    "plt.subplot(1,2,1)\n",
    "sns.heatmap(confusion_matrix(y_test, y_pred_bef_tuning), annot=True, fmt='.0f', square=True)\n",
    "plt.xlabel('y Prediksi')\n",
    "plt.ylabel('y Aktual')\n",
    "plt.title('Logreg before tuning')\n",
    "\n",
    "# Model LogregBoost after tuning\n",
    "plt.subplot(1,2,2)\n",
    "sns.heatmap(confusion_matrix(y_test, y_pred_after_tuning), annot=True, fmt='.0f', square=True)\n",
    "plt.xlabel('y Prediksi')\n",
    "plt.ylabel('y Aktual')\n",
    "plt.title('Logreg after tuning');"
   ]
  },
  {
   "cell_type": "markdown",
   "metadata": {},
   "source": [
    "Berdasarkan confusion matrix pada kumpulan data uji di atas, model `logistic regression` yang telah dibuat menghasilkan hasil berikut:\n",
    "\n",
    "- Jumlah pelanggan yang sebenarnya churn dan diprediksi churn (True Positive): 208 orang\n",
    "- Jumlah pelanggan yang sebenarnya churn tetapi diprediksi tidak churn (False Negative): 36 orang\n",
    "- Jumlah pelanggan yang sebenarnya tidak churn dan diprediksi tidak churn (True Negative): 432 orang\n",
    "- Jumlah pelanggan yang sebenarnya tidak churn tetapi diprediksi churn (False Positive): 246 orang\n",
    "- Jumlah pelanggan yang diprediksi churn: 208 + 246 = 454 orang\n",
    "- Jumlah pelanggan yang diprediksi tidak churn: 432 + 36 = 468 orang"
   ]
  },
  {
   "cell_type": "code",
   "execution_count": 56,
   "metadata": {},
   "outputs": [
    {
     "name": "stdout",
     "output_type": "stream",
     "text": [
      "              precision    recall  f1-score   support\n",
      "\n",
      "           0       0.92      0.64      0.75       678\n",
      "           1       0.46      0.85      0.60       244\n",
      "\n",
      "    accuracy                           0.69       922\n",
      "   macro avg       0.69      0.74      0.67       922\n",
      "weighted avg       0.80      0.69      0.71       922\n",
      "\n",
      "F2 score test after tuning : 0.7272727272727272\n"
     ]
    }
   ],
   "source": [
    "y_pred_test_logreg = grid_search_cv_balance_logreg_opt.predict(x_test)\n",
    "\n",
    "print(classification_report(y_test, y_pred_test_logreg))\n",
    "\n",
    "print('F2 score test after tuning :', fbeta_score(y_test, y_pred_test_logreg, beta=2))\n"
   ]
  },
  {
   "cell_type": "markdown",
   "metadata": {},
   "source": [
    "**Recall**\n",
    "\n",
    "Recall mengukur kemampuan model untuk memprediksi kelas positif dengan benar. Dalam kasus ini, kelas positif adalah pelanggan yang churn. False negative adalah pelanggan yang diprediksi tidak churn, padahal sebenarnya churn. Jadi, nilai recall menunjukkan persentase pelanggan churn yang diprediksi dengan benar.\n",
    "\n",
    "Nilai recall 85% berarti, dari 244 pelanggan churn, 207 di antaranya diprediksi dengan benar.\n",
    "\n",
    "Recall cocok digunakan jika cost untuk False Negative dinilai tinggi. Jika kita menggunakan metric recall, itu berarti kita berusaha untuk meminimalkan jumlah false negative yang dihasilkan oleh model, seperti dalam kasus ini kita minimalkan menjadi hanya 36 orang saja.\n",
    "\n",
    "**Precision**\n",
    "\n",
    "Nilai precision 46% berarti, dari 454 pelanggan yang diprediksi churn, hanya 208 di antaranya benar-benar churn. Hal ini menunjukkan bahwa model cenderung memprediksi terlalu banyak pelanggan sebagai churn, bahkan jika mereka sebenarnya tidak churn.\n",
    "\n",
    "**F2-score**\n",
    "\n",
    "Metrik F2-score menggambarkan rata-rata harmonik dari nilai precision dan recall. Dengan menetapkan nilai beta = 2 , kita menganggap recall dua kali lebih penting daripada precision. Rumus **F2 = ((1 + β²) * precision * recall) / ((β² * precision) + recall)** = 5 x 46% x 85% / (4 * 46% + 85%) = 72.72%\n",
    "\n",
    "***Cost Estimation***\n",
    "\n",
    "Berdasarkan asumsi yang telah disampaikan pada bagian Business Understanding, kita asumsikan dampak biayanya sebagai berikut :\n",
    "\n",
    "Biaya retensi per pelanggan --> $12.6 per bulan per pelanggan <br>\n",
    "Asumsi persentase customer yang tetap bertahan (tidak jadi churn) akibat program retensi : 40% [(sumber)](https://jungleworks.com/how-to-reduce-churn-rate-and-increase-customer-retention/)<br>\n",
    "Biaya akibat kehilangan pelanggan (Churn) --> $127.88 per bulan per pelanggan (total pendapatan yang hilang dan biaya Customer Acquisition Cost)\n",
    "\n",
    "Jumlah pelanggan untuk dasar perhitungan :\n",
    "\n",
    "Pelanggan yang diberikan program retensi adalah seluruh pelanggan yang diprediksi akan Churn = TP + FP = 454 orang\n",
    "Pelanggan yang tetap bertahan (tidak jadi churn) akibat program retensi = 40% x TP = 40% x 208 = 83 orang\n",
    "Pelanggan yang churn = FN + TP - Pelanggan yang tetap bertahan (tidak jadi churn) akibat program retensi = 36 + 208 - 83 = 161 orang\n",
    "\n",
    "Cost Estimation\n",
    "\n",
    "(454 orang x 12.6) + (161 orang x 127.88) = (5720.4 + 20.588,68) = $26,309.08 Maka kerugiannya sekitar $26,309.08 per bulan untuk 922 pelanggan."
   ]
  },
  {
   "cell_type": "markdown",
   "metadata": {},
   "source": [
    "# *FINAL MODEL - Adaboost Classifier AS EXPLAINABLE ML*"
   ]
  },
  {
   "cell_type": "markdown",
   "metadata": {},
   "source": [
    "Model terbaik untuk expalinable Machine Learning yang akan kita pakai adalah **Adaboost Classifier** yang telah dituning.\n",
    "\n",
    "**Adaboost Classifier** adalah algoritma ensemble learning yang digunakan untuk meningkatkan kinerja model prediksi dengan menggabungkan beberapa model prediksi lemah [(weak learners)](https://medium.com/@desardaakash/understanding-adaboost-2f94f22d5bfe) menjadi satu model yang lebih kuat. Algoritma ini bekerja dengan memberikan bobot pada setiap model prediksi lemah dan menggabungkan hasil prediksi mereka untuk menghasilkan prediksi akhir."
   ]
  },
  {
   "cell_type": "code",
   "execution_count": 57,
   "metadata": {},
   "outputs": [
    {
     "data": {
      "text/plain": [
       "array([-0.00314643,  0.00544089, -0.00217323,  0.00618974,  0.05621019,\n",
       "        0.00031422,  0.00100786,  0.17041608, -0.00018477,  0.00104112])"
      ]
     },
     "execution_count": 57,
     "metadata": {},
     "output_type": "execute_result"
    }
   ],
   "source": [
    "from sklearn.inspection import permutation_importance\n",
    "\n",
    "result = permutation_importance(grid_search_ada_opt, x_train, y_train)\n",
    "\n",
    "feature_importances = result['importances_mean']\n",
    "\n",
    "feature_importances"
   ]
  },
  {
   "cell_type": "code",
   "execution_count": 58,
   "metadata": {},
   "outputs": [
    {
     "data": {
      "image/png": "[encoded data removed]",
      "text/plain": [
       "<Figure size 1000x700 with 1 Axes>"
      ]
     },
     "metadata": {},
     "output_type": "display_data"
    }
   ],
   "source": [
    "feature_imp = pd.DataFrame()\n",
    "\n",
    "feature_imp['feature'] = ['tenure', 'MonthlyCharges', 'Dependents', 'OnlineSecurity', 'OnlineBackup', 'DeviceProtection', 'TechSupport', 'PaperlessBilling', 'InternetService', 'Contract']\n",
    "feature_imp['score'] = feature_importances\n",
    "feature_imp = feature_imp.set_index('feature')\n",
    "feature_imp.sort_values('score', ascending=True).plot(kind='barh', figsize=(10, 7))\n",
    "plt.title('Feature Importances')\n",
    "plt.show()"
   ]
  },
  {
   "cell_type": "markdown",
   "metadata": {},
   "source": [
    "Terlihat bahwa ternyata untuk model Adaboost Classifier kita, fitur/kolom **PaperlessBilling** adalah yang paling penting, kemudian diikuti dengan **OnlineBackup**. Sedangkan fitur seperti **MonthlyCharges**, **OnlineSecurity**, **TechSupport** dan **Contract** dianggap tidak begitu penting.\n",
    "\n",
    "Hal ini cukup berbeda dengan model Logistic Regression kita sebelumnya, dimana fitur yang pentingnya hanya **Contract**, **PaperlessBilling**, **InternetService** dan **MonthlyCharges**."
   ]
  },
  {
   "cell_type": "code",
   "execution_count": 59,
   "metadata": {},
   "outputs": [
    {
     "name": "stderr",
     "output_type": "stream",
     "text": [
      "PermutationExplainer explainer: 3689it [03:01, 19.60it/s]                          \n"
     ]
    },
    {
     "data": {
      "text/plain": [
       "(3688, 10)"
      ]
     },
     "execution_count": 59,
     "metadata": {},
     "output_type": "execute_result"
    }
   ],
   "source": [
    "import shap\n",
    "\n",
    "transformer2 = ColumnTransformer(\n",
    "    [\n",
    "     ('scaling', MinMaxScaler(), ['tenure','MonthlyCharges']),\n",
    "     ('OHE', OneHotEncoder(drop='first'), ['Dependents', 'OnlineSecurity', 'OnlineBackup', 'DeviceProtection', 'TechSupport', 'PaperlessBilling']),\n",
    "     ('ordinal', ce.OrdinalEncoder(cols=['InternetService', 'Contract'], mapping=ordinal_mapping), ['InternetService', 'Contract'])\n",
    "     ], remainder='passthrough'\n",
    ")\n",
    "\n",
    "log_fix = AdaBoostClassifier(\n",
    "    estimator=LogisticRegression(class_weight='balanced', random_state=22),\n",
    "    random_state=22,\n",
    "    algorithm='SAMME',\n",
    "    learning_rate=1.04,\n",
    "    n_estimators=50\n",
    ")\n",
    "\n",
    "transformer2.fit(x_train)\n",
    "x_train_pp = transformer2.transform(x_train)\n",
    "x_train_pp = pd.DataFrame(x_train_pp, columns=transformer2.get_feature_names_out())\n",
    "x_test_pp = transformer2.transform(x_test)\n",
    "\n",
    "log_fix.fit(x_train_pp, y_train)\n",
    "\n",
    "explainer = shap.explainers.Permutation(log_fix.predict_proba, x_train_pp)\n",
    "shap_values = explainer(x_train_pp)\n",
    "\n",
    "shap_values2 = shap_values[..., 1]\n",
    "shap_values2.shape"
   ]
  },
  {
   "cell_type": "code",
   "execution_count": 60,
   "metadata": {},
   "outputs": [
    {
     "data": {
      "image/png": "[encoded data removed]",
      "text/plain": [
       "<Figure size 800x550 with 2 Axes>"
      ]
     },
     "metadata": {},
     "output_type": "display_data"
    }
   ],
   "source": [
    "shap.summary_plot(shap_values2, x_train_pp, feature_names=transformer2.get_feature_names_out())"
   ]
  },
  {
   "cell_type": "markdown",
   "metadata": {},
   "source": [
    "Berdasarkan SHAP value, kita dapat melihat bahwa fitur yang paling penting diantaranya:\n",
    "\n",
    "- Contract\n",
    "- MonthlyCharges\n",
    "- PaperlessBilling\n",
    "- InternetService\n",
    "\n",
    "Hal ini sedikit berbeda dengan hasil berdasarkan feature importance\n",
    "\n",
    "**Interpretasi**\n",
    "\n",
    "- Konsumen yang memilih Contract Month-to-month (berwarna merah - 3) memiliki kecenderungan tingkat Churn yang lebih tinggi. Sebaliknya, semakin lama kontraknya, baik One-year (berwarna ungu - 2) maupun Two-year (berwarna biru - 1), maka semakin rendah kemungkinan Churn.\n",
    "- Semakin tinggi MonthlyCharges (berwarna merah), semakin besar probabilitas konsumen mengalami Churn.\n",
    "- Tenure yang lebih pendek (berwarna biru) berhubungan dengan kemungkinan Churn yang lebih tinggi.\n",
    "- Pengguna InternetService Fiber optic (berwarna merah - 3) cenderung memiliki tingkat Churn yang lebih tinggi dibandingkan dengan pengguna DSL atau tidak menggunakan layanan internet sama sekali. Bahkan, pelanggan tanpa layanan InternetService memiliki kecenderungan untuk tidak mengalami Churn.\n",
    "- Konsumen tanpa OnlineSecurity (berwarna biru - 0) cenderung memiliki tingkat Churn yang lebih tinggi dibandingkan dengan yang menggunakan OnlineSecurity."
   ]
  },
  {
   "cell_type": "code",
   "execution_count": 61,
   "metadata": {},
   "outputs": [],
   "source": [
    "y_pred_bef_tuning = grid_search_cv_balance_ensemble.predict(x_test)\n",
    "y_pred_after_tuning = grid_search_ada_opt.predict(x_test)"
   ]
  },
  {
   "cell_type": "code",
   "execution_count": 62,
   "metadata": {},
   "outputs": [
    {
     "data": {
      "image/png": "[encoded data removed]",
      "text/plain": [
       "<Figure size 1200x400 with 4 Axes>"
      ]
     },
     "metadata": {},
     "output_type": "display_data"
    }
   ],
   "source": [
    "plt.figure(figsize=(12,4))\n",
    "\n",
    "# Model adaboost before tuning\n",
    "plt.subplot(1,2,1)\n",
    "sns.heatmap(confusion_matrix(y_test, y_pred_bef_tuning), annot=True, fmt='.0f', square=True)\n",
    "plt.xlabel('y Prediksi')\n",
    "plt.ylabel('y Aktual')\n",
    "plt.title('Adaboost before tuning')\n",
    "\n",
    "# Model adaboost after tuning\n",
    "plt.subplot(1,2,2)\n",
    "sns.heatmap(confusion_matrix(y_test, y_pred_after_tuning), annot=True, fmt='.0f', square=True)\n",
    "plt.xlabel('y Prediksi')\n",
    "plt.ylabel('y Aktual')\n",
    "plt.title('Adaboost after tuning');"
   ]
  },
  {
   "cell_type": "markdown",
   "metadata": {},
   "source": [
    "Berdasarkan confusion matrix pada kumpulan data uji di atas, model `adaboost` yang telah dibuat menghasilkan hasil berikut:\n",
    "\n",
    "- Jumlah pelanggan yang sebenarnya churn dan diprediksi churn (True Positive): 209 orang\n",
    "- Jumlah pelanggan yang sebenarnya churn tetapi diprediksi tidak churn (False Negative): 35 orang\n",
    "- Jumlah pelanggan yang sebenarnya tidak churn dan diprediksi tidak churn (True Negative): 427 orang\n",
    "- Jumlah pelanggan yang sebenarnya tidak churn tetapi diprediksi churn (False Positive): 251 orang\n",
    "- Jumlah pelanggan yang diprediksi churn: 209 + 251 = 460 orang\n",
    "- Jumlah pelanggan yang diprediksi tidak churn: 427 + 35 = 462 orang"
   ]
  },
  {
   "cell_type": "code",
   "execution_count": 63,
   "metadata": {},
   "outputs": [
    {
     "name": "stdout",
     "output_type": "stream",
     "text": [
      "              precision    recall  f1-score   support\n",
      "\n",
      "           0       0.92      0.63      0.75       678\n",
      "           1       0.45      0.86      0.59       244\n",
      "\n",
      "    accuracy                           0.69       922\n",
      "   macro avg       0.69      0.74      0.67       922\n",
      "weighted avg       0.80      0.69      0.71       922\n",
      "\n",
      "F2 score test after tuning : 0.7277158774373259\n"
     ]
    }
   ],
   "source": [
    "y_pred_after_tuning = grid_search_ada_opt.predict(x_test)\n",
    "\n",
    "print(classification_report(y_test, y_pred_after_tuning))\n",
    "\n",
    "print('F2 score test after tuning :', fbeta_score(y_test, y_pred_after_tuning, beta=2))\n"
   ]
  },
  {
   "cell_type": "markdown",
   "metadata": {},
   "source": [
    "**Recall**\n",
    "\n",
    "Recall mengukur kemampuan model untuk memprediksi kelas positif dengan benar. Dalam kasus ini, kelas positif adalah pelanggan yang churn. False negative adalah pelanggan yang diprediksi tidak churn, padahal sebenarnya churn. Jadi, nilai recall menunjukkan persentase pelanggan churn yang diprediksi dengan benar.\n",
    "\n",
    "Nilai recall 86% berarti, dari 244 pelanggan churn, 209 di antaranya diprediksi dengan benar.\n",
    "\n",
    "Recall cocok digunakan jika cost untuk False Negative dinilai tinggi. Jika kita menggunakan metric recall, itu berarti kita berusaha untuk meminimalkan jumlah false negative yang dihasilkan oleh model, seperti dalam kasus ini kita minimalkan menjadi hanya 35 orang saja.\n",
    "\n",
    "**Precision**\n",
    "\n",
    "Nilai precision 45% berarti, dari 460 pelanggan yang diprediksi churn, hanya 209 di antaranya benar-benar churn. Hal ini menunjukkan bahwa model cenderung memprediksi terlalu banyak pelanggan sebagai churn, bahkan jika mereka sebenarnya tidak churn.\n",
    "\n",
    "**F2-score**\n",
    "\n",
    "Metrik F2-score menggambarkan rata-rata harmonik dari nilai precision dan recall. Dengan menetapkan nilai beta = 2 , kita menganggap recall dua kali lebih penting daripada precision. Rumus **F2 = ((1 + β²) * precision * recall) / ((β² * precision) + recall)** = 5 x 45% x 86% / (4 * 45% + 86%) = 72.77%\n",
    "\n",
    "***Cost Estimation***\n",
    "\n",
    "Berdasarkan asumsi yang telah disampaikan pada bagian Business Understanding, kita asumsikan dampak biayanya sebagai berikut :\n",
    "\n",
    "Biaya retensi per pelanggan --> $12.6 per bulan per pelanggan <br>\n",
    "Asumsi persentase customer yang tetap bertahan (tidak jadi churn) akibat program retensi : 40% [(sumber)](https://jungleworks.com/how-to-reduce-churn-rate-and-increase-customer-retention/)<br>\n",
    "Biaya akibat kehilangan pelanggan (Churn) --> $127.88 per bulan per pelanggan (total pendapatan yang hilang dan biaya Customer Acquisition Cost)\n",
    "\n",
    "Jumlah pelanggan untuk dasar perhitungan :\n",
    "\n",
    "Pelanggan yang diberikan program retensi adalah seluruh pelanggan yang diprediksi akan Churn = TP + FP = 454 orang\n",
    "Pelanggan yang tetap bertahan (tidak jadi churn) akibat program retensi = 40% x TP = 40% x 209 = 84 orang\n",
    "Pelanggan yang churn = FN + TP - Pelanggan yang tetap bertahan (tidak jadi churn) akibat program retensi = 35 + 209 - 84 = 160 orang\n",
    "\n",
    "Cost Estimation\n",
    "\n",
    "(454 orang x 12.6) + (160 orang x 127.88) = (5720.4 + 20.460,8) = $26,181.2 Maka kerugiannya sekitar $26,181.2 per bulan untuk 922 pelanggan.\n",
    "\n",
    "\n",
    "\n",
    "***Cost Estimation tanpa machine learning***\n",
    "\n",
    "Saat kita tidak menggunakan machine learning, kita tidak dapat memprediksi pelanggan yang akan Churn atau tidak. Dampaknya adalah kita cenderung untuk memberi program retensi kepada seluruh Pelanggan.\n",
    "\n",
    "Jumlah pelanggan untuk dasar perhitungan :\n",
    "\n",
    "Pelanggan yang diberikan program retensi adalah seluruh pelanggan yang diprediksi akan Churn = TP + FP = 922 orang\n",
    "Pelanggan yang tetap bertahan (tidak jadi churn) akibat program retensi = 40% x TP = 40% x 244 = 98 orang\n",
    "Pelanggan yang churn = FN + TP - Pelanggan yang tetap bertahan (tidak jadi churn) akibat program retensi = 0 + 244 - 98 = 146 orang\n",
    "\n",
    "Cost Estimation\n",
    "\n",
    "(922 orang x 12.6) + (146 orang x 127.88) = (11,617.2 + 18,670.48) = $30,287.68 Maka kerugiannya sekitar $30,287.68 per bulan untuk 922 pelanggan."
   ]
  },
  {
   "cell_type": "markdown",
   "metadata": {},
   "source": [
    "# CONCLUSION & RECOMMENDATION"
   ]
  },
  {
   "cell_type": "markdown",
   "metadata": {},
   "source": [
    "## *Conclusion*"
   ]
  },
  {
   "cell_type": "markdown",
   "metadata": {},
   "source": [
    "- Metric utama yang akan kita gunakan adalah f2_score, karena recall kita anggap dua kali lebih penting daripada precision.\n",
    "\n",
    "- Berdasarkan pemodelan Logistic Regression, fitur/kolom **Contract** adalah yang paling penting dan berpengaruh terhadap target (Churn), kemudian diikuti dengan **PaperlessBilling**, **InternetService** dan **MonthlyCharges**.\n",
    "\n",
    "- Berdasarkan contoh perhitungan biaya :\n",
    "  \n",
    "  - Potensi kerugian yang mungkin didapat tanpa adanya penerapan machine learning diperkirakan sebesar : $30,287.68 per bulan untuk 922 pelanggan\n",
    "\n",
    "  - Potensi kerugian yang mungkin didapat dengan menerapkan model Logistic Regression yang telah dibuat diperkirakan sebesar : $26,309.08 per bulan untuk 922 pelanggan\n",
    "\n",
    "  - Potensi kerugian yang mungkin didapat dengan menerapkan model Adaboost Classifier yang telah dibuat diperkirakan sebesar : $26,181.2 per bulan untuk 922 pelanggan.\n",
    "\n",
    "- Berdasarkan contoh hitungan tersebut, terlihat bahwa dengan menggunakan model kita, maka perusahaan dapat menghemat sebesar :\n",
    "\n",
    "  - Dengan Model Logistic Regression : $3978.59 per bulan untuk 922 pelanggan.\n",
    "\n",
    "  - Dengan Model Adaboost Classifier : $4106.48 per bulan untuk 922 pelanggan.\n",
    "\n",
    "  - Memperhitungkan bahwa jumlah pelanggan pada penyedia layanan telekomunikasi dapat mencapai jutaan, tentunya potensi penghematan akan semakin signifikan jika karakteristik pelanggan masih mencakup rentang data yang digunakan dalam proses pemodelan.\n",
    "\n",
    "\n",
    "**Model Limitation**\n",
    "\n",
    "Model ini hanya berlaku pada rentang data yang digunakan pada pemodelan ini yaitu :\n",
    "\n",
    "- tenure antara 0 sampai dengan 72 bulan\n",
    "- MonthlyCharges antara 18.8 sampai dengan 118.65\n",
    "- Contract dalam jangka Month-to-month, One year, dan Two Year\n",
    "- InternetService berupa 'DSL', 'Fiber Optic' dan 'No'\n",
    "- Dependent, Paperless Billing dengan nilai 'Yes' atau 'No'\n",
    "- OnlineSecurity, OnlineBackup, DeviceProtection, dan TechSupport berisi pilihan 'Yes', 'No' atau 'No internet service'.\n",
    "\n",
    "Pada kasus ini, analisis dan hasil prediksi dari model yang telah dibuat tidak valid untuk :\n",
    "\n",
    "- tenure lebih besar dari 72 bulan\n",
    "- MonthlyCharges kurang dari 18.8 atau lebih besar dari 118.65\n",
    "- Jenis Contract selain Month-to-month, One year, dan Two Year\n",
    "- InternetService selain 'DSL', 'Fiber Optic' dan 'No'\n",
    "- Dependent, Paperless Billing dengan nilai selain 'Yes' atau 'No'\n",
    "- OnlineSecurity, OnlineBackup, DeviceProtection, dan TechSupport berisi pilihan selain 'Yes', 'No' atau 'No internet service'.\n",
    "\n"
   ]
  },
  {
   "cell_type": "markdown",
   "metadata": {},
   "source": [
    "## *Recommendation*"
   ]
  },
  {
   "cell_type": "markdown",
   "metadata": {},
   "source": [
    "Beberapa tindakan yang dapat diambil oleh perusahaan untuk mengurangi jumlah pelanggan yang akan berhenti berlangganan (churn) meliputi:\n",
    "- Menawarkan insentif atau penghargaan yang menarik bagi pelanggan untuk beralih dari kontrak bulanan ke kontrak tahunan atau dua tahunan.\n",
    "- Membuat program loyalitas pelanggan untuk mendorong pelanggan agar tetap berlangganan dan memiliki masa berlangganan yang lama. Program ini dapat berupa pemberian penghargaan yang besarannya disesuaikan dengan masa berlangganan. Semakin lama masa berlangganan, semakin besar penghargaan yang bisa didapat, sehingga mendorong pelanggan untuk memiliki masa berlangganan yang lebih lama.\n",
    "- Melakukan survei kepuasan pelanggan secara berkala untuk mengetahui kualitas layanan yang telah diberikan dan melakukan perbaikan jika ada umpan balik negatif.\n",
    "\n",
    "\n",
    "Hal-hal yang bisa dilakukan untuk mengembangkan project dan modelnya lebih baik lagi diantaranya: \n",
    "\n",
    "- Menambahkan fitur-fitur atau kolom baru yang dapat mengukur kepuasan pelanggan terhadap masing-masing layanan. Hal ini dapat membantu untuk mengidentifikasi apakah churn disebabkan oleh kualitas layanan yang buruk.\n",
    "- Menambahkan fitur-fitur atau kolom baru yang dapat memberikan gambaran tentang penggunaan produk-produk yang ada oleh pelanggan. Dengan demikian, perusahaan dapat melakukan segmentasi pelanggan untuk menentukan produk yang paling sesuai untuk ditawarkan.\n",
    "- Menambahkan data untuk kelas minoritas (Churn). Hal ini dapat membantu untuk meningkatkan performa model karena model akan memiliki lebih banyak data untuk dipelajari.\n",
    "- Mencoba algoritma ML dan teknik tuning parameter yang berbeda, serta menggunakan teknik oversampling yang berbeda. Dengan demikian, perusahaan dapat menemukan kombinasi yang paling optimal untuk meningkatkan performa model.\n",
    "- Menganalisis data-data yang salah diprediksi oleh model. Hal ini dapat membantu untuk mengidentifikasi alasan dan karakteristik data yang salah diprediksi."
   ]
  },
  {
   "cell_type": "code",
   "execution_count": 75,
   "metadata": {},
   "outputs": [],
   "source": [
    "feature = dfa.drop(columns='Churn')\n",
    "target = dfa['Churn']"
   ]
  },
  {
   "cell_type": "code",
   "execution_count": 76,
   "metadata": {},
   "outputs": [],
   "source": [
    "import pickle\n",
    "\n",
    "model_ada_fix = grid_search_ada_opt.best_estimator_\n",
    "model_ada_fix.fit(feature,target)\n",
    "\n",
    "# save with pickle\n",
    "pickle.dump(model_ada_fix, open('best_model_adaboost.sav', 'wb'))"
   ]
  },
  {
   "cell_type": "code",
   "execution_count": 77,
   "metadata": {},
   "outputs": [],
   "source": [
    "import pickle\n",
    "\n",
    "model_logreg_fix = grid_search_cv_balance_logreg_opt.best_estimator_\n",
    "model_logreg_fix.fit(feature,target)\n",
    "\n",
    "# save with pickle\n",
    "pickle.dump(model_logreg_fix, open('best_model_logreg.sav', 'wb'))"
   ]
  }
 ],
 "metadata": {
  "kernelspec": {
   "display_name": "Env",
   "language": "python",
   "name": "python3"
  },
  "language_info": {
   "codemirror_mode": {
    "name": "ipython",
    "version": 3
   },
   "file_extension": ".py",
   "mimetype": "text/x-python",
   "name": "python",
   "nbconvert_exporter": "python",
   "pygments_lexer": "ipython3",
   "version": "3.10.11"
  }
 },
 "nbformat": 4,
 "nbformat_minor": 2
}
